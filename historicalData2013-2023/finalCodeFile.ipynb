{
 "cells": [
  {
   "attachments": {},
   "cell_type": "markdown",
   "metadata": {},
   "source": [
    "## mporting libraries"
   ]
  },
  {
   "cell_type": "code",
   "execution_count": 107,
   "metadata": {},
   "outputs": [],
   "source": [
    "import numpy as np\n",
    "import pandas as pd\n",
    "import datetime as dt\n",
    "pd.set_option('display.max_rows',None)"
   ]
  },
  {
   "attachments": {},
   "cell_type": "markdown",
   "metadata": {},
   "source": [
    "##  reading file"
   ]
  },
  {
   "cell_type": "code",
   "execution_count": 108,
   "metadata": {},
   "outputs": [],
   "source": [
    "master_df = pd.read_csv(\"C:\\\\keshav\\\\50stocks_performance\\\\masterFile.csv\", parse_dates=['Date'],index_col='Date')\n",
    "nifty_df = pd.read_csv(\"C:\\\\keshav\\\\historicalData2013-2023\\\\Nifty50.csv\",usecols=['symbol','Outstanding shares'])\n",
    "nifty_df.set_index('symbol',inplace=True)\n",
    "\n",
    "\n",
    "#reading Beta1 sheet of excel file\n",
    "beta_file = pd.read_excel(\"C:\\\\keshav\\\\historicalData2013-2023\\\\Beta_nifty.xlsx\",sheet_name='Beta1', header=1, parse_dates=['Date'], index_col='Date')\n",
    "beta_file = beta_file.round(1)"
   ]
  },
  {
   "attachments": {},
   "cell_type": "markdown",
   "metadata": {},
   "source": [
    "## inputs (dates)"
   ]
  },
  {
   "cell_type": "code",
   "execution_count": 109,
   "metadata": {},
   "outputs": [],
   "source": [
    "start_date_input = pd.to_datetime(\"2012-03-31\")\n",
    "end_date_input = pd.to_datetime(\"2023-03-31\")\n",
    "filter_mode = \"market_cap\"  #\"market_cap\"\n",
    "beta_value = 0.7\n",
    "\n",
    "\n",
    "period = input(f\"Please choose from [yearly,quarterly, monthly, custom]  : \")\n",
    "\n",
    "if period == \"custom\":\n",
    "    input_custom_days = int(input('Please choose custom days : '))\n",
    "\n",
    "else:\n",
    "    input_custom_days = 30 \n"
   ]
  },
  {
   "attachments": {},
   "cell_type": "markdown",
   "metadata": {},
   "source": [
    "### DATES WHICH IS PRESENT IN master_df"
   ]
  },
  {
   "cell_type": "code",
   "execution_count": 110,
   "metadata": {},
   "outputs": [],
   "source": [
    "start_date = master_df[master_df.index <= start_date_input].index.max()\n",
    "end_date = master_df[master_df.index <= end_date_input].index.max()"
   ]
  },
  {
   "attachments": {},
   "cell_type": "markdown",
   "metadata": {},
   "source": [
    "\n",
    "##   MAKING BINS --> annual, quarterly, monthly, custom"
   ]
  },
  {
   "cell_type": "code",
   "execution_count": 111,
   "metadata": {},
   "outputs": [],
   "source": [
    "filtered_yearly_bins = []\n",
    "\n",
    "# Iterate over each year from the start date until the end year\n",
    "for year in range(start_date.year, end_date.year + 1):\n",
    "    # Create a timestamp for March 31 of the current year\n",
    "    target_date = pd.Timestamp(year=year, month=3, day=31)\n",
    "\n",
    "    # Find the closest date before March 31 in the master dataframe index\n",
    "    # closest_date = max(filter(lambda x: x <= target_date, master_df.index))\n",
    "    closest_date = master_df.index[master_df.index <= target_date].max()\n",
    "\n",
    "    filtered_yearly_bins.append(closest_date)\n"
   ]
  },
  {
   "cell_type": "code",
   "execution_count": 112,
   "metadata": {},
   "outputs": [],
   "source": [
    "# %% Monthly filtered df\n",
    "monthly_dates = pd.date_range(start=start_date, end=end_date, freq='M')\n",
    "filtered_monthly_bins = []\n",
    "\n",
    "# Iterate over each monthly date\n",
    "for date in monthly_dates:\n",
    "    closest_date = master_df.index[master_df.index <= date].max()\n",
    "    filtered_monthly_bins.append(closest_date)"
   ]
  },
  {
   "cell_type": "code",
   "execution_count": 113,
   "metadata": {},
   "outputs": [],
   "source": [
    "#%% Qurterly \n",
    "quarterly_dates = pd.date_range(start=start_date, end=end_date, freq='Q')\n",
    "filtered_quarterly_bins = []\n",
    "\n",
    "# Iterate over each quarterly date\n",
    "for date in quarterly_dates:\n",
    "    closest_date = master_df.index[master_df.index <= date].max()\n",
    "    filtered_quarterly_bins.append(closest_date)\n"
   ]
  },
  {
   "cell_type": "code",
   "execution_count": 114,
   "metadata": {},
   "outputs": [],
   "source": [
    "#%% custom dates \n",
    "custom_dates = pd.date_range(start=start_date, end=end_date, freq=f\"{input_custom_days}D\")\n",
    "filtered_custom_bins = []\n",
    "\n",
    "# Iterate over each custom date\n",
    "for date in custom_dates:\n",
    "    closest_date = master_df.index[master_df.index <= date].max()\n",
    "    filtered_custom_bins.append(closest_date)"
   ]
  },
  {
   "attachments": {},
   "cell_type": "markdown",
   "metadata": {},
   "source": [
    "## making input period as type of bins"
   ]
  },
  {
   "cell_type": "code",
   "execution_count": 115,
   "metadata": {},
   "outputs": [],
   "source": [
    "if period == 'yearly':\n",
    "    filtered_dates = filtered_yearly_bins\n",
    "\n",
    "elif period == 'monthly':\n",
    "    filtered_dates = filtered_monthly_bins\n",
    "\n",
    "elif period == 'quarterly':\n",
    "    filtered_dates = filtered_quarterly_bins\n",
    "\n",
    "elif period == 'custom':\n",
    "    filtered_dates = filtered_custom_bins"
   ]
  },
  {
   "cell_type": "code",
   "execution_count": 116,
   "metadata": {},
   "outputs": [],
   "source": [
    "# betadates fitered\n",
    "beta_file_filtered = beta_file.loc[filtered_dates]\n",
    "\n",
    "\n",
    "#%% LOOP PART CAPTURING DETAILS AND INSERTING IN DICTIONARIES\n",
    "main_dict = {}\n",
    "nifty_dict = {}\n",
    "\n",
    "for i in range(len(filtered_dates)):\n",
    "    # print(filtered_dates[i])\n",
    "    try:\n",
    "            \n",
    "        df = nifty_df.copy()\n",
    "        for company in df.index:\n",
    "            value = master_df.loc[filtered_dates[i],company]\n",
    "            df.loc[company,'price'] = value\n",
    "            \n",
    "            #for next year\n",
    "            value2 = master_df.loc[filtered_dates[i+1], company]\n",
    "            df.loc[company,'next_year_price'] = value2\n",
    "\n",
    "        # print(df)\n",
    "\n",
    "        # if filter_mode == \"beta\":\n",
    "        #     mask = beta_file_filtered.loc[filtered_dates[i]] < 0.7\n",
    "        #     filtered_row = beta_file_filtered.loc[filtered_dates[i]][mask]\n",
    "        #     # print(filtered_row)\n",
    "        #     df = df[df.index.isin(filtered_row.index)]\n",
    "\n",
    "        \n",
    "        \n",
    "        if filter_mode == 'market_cap':\n",
    "                df['market_cap'] = df['Outstanding shares']*df['price']\n",
    "                df = df.sort_values(by='market_cap', ascending=False).head(10)  #top 10\n",
    "        \n",
    "\n",
    "\n",
    "        df['return'] = df['next_year_price']/df['price']*100 -100\n",
    "        df = df['return'].mean()\n",
    "        main_dict[filtered_dates[i]] = df\n",
    "\n",
    "\n",
    "        #also for nifty\n",
    "        #creating every time within loop\n",
    "        nifty_temp_df = pd.DataFrame(index=['Nifty'], columns=['price', 'next_year_price'])\n",
    "        value_nifty = master_df.loc[filtered_dates[i],'Nifty']\n",
    "        nifty_temp_df.loc['Nifty','price'] = value_nifty    \n",
    "\n",
    "        #for next year        \n",
    "        value2_nifty = master_df.loc[filtered_dates[i+1], 'Nifty']\n",
    "        nifty_temp_df.loc['Nifty','next_year_price'] = value2_nifty\n",
    "\n",
    "        nifty_temp_df['return'] = nifty_temp_df['next_year_price']/nifty_temp_df['price']*100 -100\n",
    "        nifty_temp_df = nifty_temp_df['return'].values[0]\n",
    "        nifty_dict[filtered_dates[i]] = nifty_temp_df\n",
    "\n",
    "    except:\n",
    "        pass\n"
   ]
  },
  {
   "attachments": {},
   "cell_type": "markdown",
   "metadata": {},
   "source": [
    "##  Experimental monthly all"
   ]
  },
  {
   "attachments": {},
   "cell_type": "markdown",
   "metadata": {},
   "source": [
    "## final result printing"
   ]
  },
  {
   "cell_type": "code",
   "execution_count": 117,
   "metadata": {},
   "outputs": [
    {
     "name": "stdout",
     "output_type": "stream",
     "text": [
      "            top10_stocks_avg_returns  nifty_returns  diff\n",
      "2012-03-30                      15.6            7.3   8.3\n",
      "2013-03-28                      14.3           18.0  -3.7\n",
      "2014-03-31                      25.6           26.7  -1.1\n",
      "2015-03-31                      -5.8           -8.9   3.1\n",
      "2016-03-31                      15.7           18.5  -2.9\n",
      "2017-03-31                      18.5           10.2   8.2\n",
      "2018-03-28                      19.1           14.4   4.7\n",
      "2019-03-28                     -13.6          -25.7  12.1\n",
      "2020-03-31                      58.4           70.9 -12.5\n",
      "2021-03-31                      17.8           18.9  -1.1\n",
      "2022-03-31                       1.0           -0.6   1.6\n"
     ]
    }
   ],
   "source": [
    "returns_df1 = pd.DataFrame.from_dict(main_dict, orient='index', columns=['top10_stocks_avg_returns'])\n",
    "returns_df2 = pd.DataFrame.from_dict(nifty_dict, orient='index', columns=['nifty_returns'])\n",
    "final_df = pd.merge(returns_df1,returns_df2, left_index=True, right_index=True)\n",
    "final_df['diff'] = final_df['top10_stocks_avg_returns'] - final_df['nifty_returns']\n",
    "final_df = final_df.round(1)\n",
    "print(final_df)\n"
   ]
  },
  {
   "cell_type": "code",
   "execution_count": 118,
   "metadata": {},
   "outputs": [],
   "source": [
    "# final_df.to_csv('monthly.csv')"
   ]
  }
 ],
 "metadata": {
  "kernelspec": {
   "display_name": "Python 3",
   "language": "python",
   "name": "python3"
  },
  "language_info": {
   "codemirror_mode": {
    "name": "ipython",
    "version": 3
   },
   "file_extension": ".py",
   "mimetype": "text/x-python",
   "name": "python",
   "nbconvert_exporter": "python",
   "pygments_lexer": "ipython3",
   "version": "3.10.11"
  },
  "orig_nbformat": 4
 },
 "nbformat": 4,
 "nbformat_minor": 2
}
