{
 "cells": [
  {
   "attachments": {},
   "cell_type": "markdown",
   "metadata": {},
   "source": [
    "## Stock Market Data: Obtaining Data, Visualization & Analysis in Python"
   ]
  },
  {
   "cell_type": "code",
   "execution_count": 7,
   "metadata": {},
   "outputs": [],
   "source": [
    "import numpy as np\n",
    "import pandas as pd\n",
    "import yfinance as yf\n",
    "import matplotlib.pyplot as plt"
   ]
  },
  {
   "cell_type": "code",
   "execution_count": 6,
   "metadata": {},
   "outputs": [
    {
     "name": "stdout",
     "output_type": "stream",
     "text": [
      "[*********************100%***********************]  1 of 1 completed\n"
     ]
    },
    {
     "data": {
      "text/html": [
       "<div>\n",
       "<style scoped>\n",
       "    .dataframe tbody tr th:only-of-type {\n",
       "        vertical-align: middle;\n",
       "    }\n",
       "\n",
       "    .dataframe tbody tr th {\n",
       "        vertical-align: top;\n",
       "    }\n",
       "\n",
       "    .dataframe thead th {\n",
       "        text-align: right;\n",
       "    }\n",
       "</style>\n",
       "<table border=\"1\" class=\"dataframe\">\n",
       "  <thead>\n",
       "    <tr style=\"text-align: right;\">\n",
       "      <th></th>\n",
       "      <th>Open</th>\n",
       "      <th>High</th>\n",
       "      <th>Low</th>\n",
       "      <th>Close</th>\n",
       "      <th>Adj Close</th>\n",
       "      <th>Volume</th>\n",
       "    </tr>\n",
       "    <tr>\n",
       "      <th>Date</th>\n",
       "      <th></th>\n",
       "      <th></th>\n",
       "      <th></th>\n",
       "      <th></th>\n",
       "      <th></th>\n",
       "      <th></th>\n",
       "    </tr>\n",
       "  </thead>\n",
       "  <tbody>\n",
       "    <tr>\n",
       "      <th>1997-05-15</th>\n",
       "      <td>0.121875</td>\n",
       "      <td>0.125000</td>\n",
       "      <td>0.096354</td>\n",
       "      <td>0.097917</td>\n",
       "      <td>0.097917</td>\n",
       "      <td>1443120000</td>\n",
       "    </tr>\n",
       "    <tr>\n",
       "      <th>1997-05-16</th>\n",
       "      <td>0.098438</td>\n",
       "      <td>0.098958</td>\n",
       "      <td>0.085417</td>\n",
       "      <td>0.086458</td>\n",
       "      <td>0.086458</td>\n",
       "      <td>294000000</td>\n",
       "    </tr>\n",
       "    <tr>\n",
       "      <th>1997-05-19</th>\n",
       "      <td>0.088021</td>\n",
       "      <td>0.088542</td>\n",
       "      <td>0.081250</td>\n",
       "      <td>0.085417</td>\n",
       "      <td>0.085417</td>\n",
       "      <td>122136000</td>\n",
       "    </tr>\n",
       "    <tr>\n",
       "      <th>1997-05-20</th>\n",
       "      <td>0.086458</td>\n",
       "      <td>0.087500</td>\n",
       "      <td>0.081771</td>\n",
       "      <td>0.081771</td>\n",
       "      <td>0.081771</td>\n",
       "      <td>109344000</td>\n",
       "    </tr>\n",
       "    <tr>\n",
       "      <th>1997-05-21</th>\n",
       "      <td>0.081771</td>\n",
       "      <td>0.082292</td>\n",
       "      <td>0.068750</td>\n",
       "      <td>0.071354</td>\n",
       "      <td>0.071354</td>\n",
       "      <td>377064000</td>\n",
       "    </tr>\n",
       "    <tr>\n",
       "      <th>...</th>\n",
       "      <td>...</td>\n",
       "      <td>...</td>\n",
       "      <td>...</td>\n",
       "      <td>...</td>\n",
       "      <td>...</td>\n",
       "      <td>...</td>\n",
       "    </tr>\n",
       "    <tr>\n",
       "      <th>2021-07-02</th>\n",
       "      <td>172.582001</td>\n",
       "      <td>175.585999</td>\n",
       "      <td>171.845993</td>\n",
       "      <td>175.548996</td>\n",
       "      <td>175.548996</td>\n",
       "      <td>63388000</td>\n",
       "    </tr>\n",
       "    <tr>\n",
       "      <th>2021-07-06</th>\n",
       "      <td>176.505493</td>\n",
       "      <td>184.274002</td>\n",
       "      <td>176.449997</td>\n",
       "      <td>183.787003</td>\n",
       "      <td>183.787003</td>\n",
       "      <td>134896000</td>\n",
       "    </tr>\n",
       "    <tr>\n",
       "      <th>2021-07-07</th>\n",
       "      <td>185.869003</td>\n",
       "      <td>186.710007</td>\n",
       "      <td>183.945496</td>\n",
       "      <td>184.828995</td>\n",
       "      <td>184.828995</td>\n",
       "      <td>106562000</td>\n",
       "    </tr>\n",
       "    <tr>\n",
       "      <th>2021-07-08</th>\n",
       "      <td>182.177994</td>\n",
       "      <td>187.999496</td>\n",
       "      <td>181.056000</td>\n",
       "      <td>186.570496</td>\n",
       "      <td>186.570496</td>\n",
       "      <td>103612000</td>\n",
       "    </tr>\n",
       "    <tr>\n",
       "      <th>2021-07-09</th>\n",
       "      <td>186.126007</td>\n",
       "      <td>187.399994</td>\n",
       "      <td>184.669998</td>\n",
       "      <td>185.966995</td>\n",
       "      <td>185.966995</td>\n",
       "      <td>74964000</td>\n",
       "    </tr>\n",
       "  </tbody>\n",
       "</table>\n",
       "<p>6078 rows × 6 columns</p>\n",
       "</div>"
      ],
      "text/plain": [
       "                  Open        High         Low       Close   Adj Close  \\\n",
       "Date                                                                     \n",
       "1997-05-15    0.121875    0.125000    0.096354    0.097917    0.097917   \n",
       "1997-05-16    0.098438    0.098958    0.085417    0.086458    0.086458   \n",
       "1997-05-19    0.088021    0.088542    0.081250    0.085417    0.085417   \n",
       "1997-05-20    0.086458    0.087500    0.081771    0.081771    0.081771   \n",
       "1997-05-21    0.081771    0.082292    0.068750    0.071354    0.071354   \n",
       "...                ...         ...         ...         ...         ...   \n",
       "2021-07-02  172.582001  175.585999  171.845993  175.548996  175.548996   \n",
       "2021-07-06  176.505493  184.274002  176.449997  183.787003  183.787003   \n",
       "2021-07-07  185.869003  186.710007  183.945496  184.828995  184.828995   \n",
       "2021-07-08  182.177994  187.999496  181.056000  186.570496  186.570496   \n",
       "2021-07-09  186.126007  187.399994  184.669998  185.966995  185.966995   \n",
       "\n",
       "                Volume  \n",
       "Date                    \n",
       "1997-05-15  1443120000  \n",
       "1997-05-16   294000000  \n",
       "1997-05-19   122136000  \n",
       "1997-05-20   109344000  \n",
       "1997-05-21   377064000  \n",
       "...                ...  \n",
       "2021-07-02    63388000  \n",
       "2021-07-06   134896000  \n",
       "2021-07-07   106562000  \n",
       "2021-07-08   103612000  \n",
       "2021-07-09    74964000  \n",
       "\n",
       "[6078 rows x 6 columns]"
      ]
     },
     "execution_count": 6,
     "metadata": {},
     "output_type": "execute_result"
    }
   ],
   "source": [
    "#setting start and end date\n",
    "start_date = '1990-01-01'\n",
    "end_date = '2021-07-12'\n",
    "\n",
    "#setting the ticker \n",
    "ticker = 'AMZN'\n",
    "\n",
    "#get the date\n",
    "data = yf.download(ticker, start_date, end_date)\n",
    "\n",
    "data"
   ]
  },
  {
   "attachments": {},
   "cell_type": "markdown",
   "metadata": {},
   "source": [
    "* To visualize the adjusted close price data, you can use the matplotlib library and plot method as shown below."
   ]
  },
  {
   "cell_type": "code",
   "execution_count": 11,
   "metadata": {},
   "outputs": [
    {
     "data": {
      "image/png": "[encoded data removed]",
      "text/plain": [
       "<Figure size 640x480 with 1 Axes>"
      ]
     },
     "metadata": {},
     "output_type": "display_data"
    }
   ],
   "source": [
    "data['Adj Close'].plot();"
   ]
  },
  {
   "attachments": {},
   "cell_type": "markdown",
   "metadata": {},
   "source": [
    "Let us improve the plot by resizing, giving appropriate labels and adding grid lines for better readability."
   ]
  },
  {
   "cell_type": "code",
   "execution_count": 49,
   "metadata": {},
   "outputs": [
    {
     "data": {
      "image/png": "[encoded data removed]",
      "text/plain": [
       "<Figure size 1000x700 with 1 Axes>"
      ]
     },
     "metadata": {},
     "output_type": "display_data"
    }
   ],
   "source": [
    "#plot the adjusted close price\n",
    "data['Adj Close'].plot(figsize=(10,7));\n",
    "\n",
    "#define the label for the title of the figure\n",
    "plt.title(f\"Adjused close price of {ticker}\", fontsize = 15)\n",
    "\n",
    "# define the labels for x-axis and y-axis\n",
    "plt.ylabel('Price', fontsize = 14)\n",
    "plt.xlabel('Year', fontsize = 14)\n",
    "\n",
    "#plot the grid lines \n",
    "plt.grid(linewidth = 0.5, linestyle = '-.')\n",
    "# plt.grid()"
   ]
  },
  {
   "attachments": {},
   "cell_type": "markdown",
   "metadata": {},
   "source": [
    "Get stock market data for multiple tickers\n",
    "\n",
    "To get the stock market data of multiple stock tickers, you can create a list of tickers and call the yfinance download method for each stock ticker."
   ]
  },
  {
   "cell_type": "code",
   "execution_count": 53,
   "metadata": {},
   "outputs": [
    {
     "name": "stdout",
     "output_type": "stream",
     "text": [
      "[*********************100%***********************]  1 of 1 completed\n",
      "[*********************100%***********************]  1 of 1 completed\n",
      "[*********************100%***********************]  1 of 1 completed\n",
      "[*********************100%***********************]  1 of 1 completed\n"
     ]
    }
   ],
   "source": [
    "#define tickers\n",
    "ticker_list = ['AAPL', 'IBM', 'MSFT', 'WMT']\n",
    "\n",
    "data = pd.DataFrame(columns = ticker_list)\n",
    "\n",
    "#fetch the data\n",
    "for ticker in ticker_list:\n",
    "    data[ticker] = yf.download(ticker, start_date,end_date)['Adj Close']"
   ]
  },
  {
   "cell_type": "code",
   "execution_count": 54,
   "metadata": {},
   "outputs": [
    {
     "data": {
      "text/html": [
       "<div>\n",
       "<style scoped>\n",
       "    .dataframe tbody tr th:only-of-type {\n",
       "        vertical-align: middle;\n",
       "    }\n",
       "\n",
       "    .dataframe tbody tr th {\n",
       "        vertical-align: top;\n",
       "    }\n",
       "\n",
       "    .dataframe thead th {\n",
       "        text-align: right;\n",
       "    }\n",
       "</style>\n",
       "<table border=\"1\" class=\"dataframe\">\n",
       "  <thead>\n",
       "    <tr style=\"text-align: right;\">\n",
       "      <th></th>\n",
       "      <th>AAPL</th>\n",
       "      <th>IBM</th>\n",
       "      <th>MSFT</th>\n",
       "      <th>WMT</th>\n",
       "    </tr>\n",
       "    <tr>\n",
       "      <th>Date</th>\n",
       "      <th></th>\n",
       "      <th></th>\n",
       "      <th></th>\n",
       "      <th></th>\n",
       "    </tr>\n",
       "  </thead>\n",
       "  <tbody>\n",
       "    <tr>\n",
       "      <th>1990-01-02</th>\n",
       "      <td>0.264117</td>\n",
       "      <td>10.367978</td>\n",
       "      <td>0.383681</td>\n",
       "      <td>3.653264</td>\n",
       "    </tr>\n",
       "    <tr>\n",
       "      <th>1990-01-03</th>\n",
       "      <td>0.265889</td>\n",
       "      <td>10.460552</td>\n",
       "      <td>0.385844</td>\n",
       "      <td>3.653264</td>\n",
       "    </tr>\n",
       "    <tr>\n",
       "      <th>1990-01-04</th>\n",
       "      <td>0.266776</td>\n",
       "      <td>10.579574</td>\n",
       "      <td>0.397192</td>\n",
       "      <td>3.633882</td>\n",
       "    </tr>\n",
       "    <tr>\n",
       "      <th>1990-01-05</th>\n",
       "      <td>0.267663</td>\n",
       "      <td>10.553124</td>\n",
       "      <td>0.387465</td>\n",
       "      <td>3.595120</td>\n",
       "    </tr>\n",
       "    <tr>\n",
       "      <th>1990-01-08</th>\n",
       "      <td>0.269435</td>\n",
       "      <td>10.619247</td>\n",
       "      <td>0.393409</td>\n",
       "      <td>3.643575</td>\n",
       "    </tr>\n",
       "    <tr>\n",
       "      <th>...</th>\n",
       "      <td>...</td>\n",
       "      <td>...</td>\n",
       "      <td>...</td>\n",
       "      <td>...</td>\n",
       "    </tr>\n",
       "    <tr>\n",
       "      <th>2021-07-02</th>\n",
       "      <td>138.338852</td>\n",
       "      <td>121.261940</td>\n",
       "      <td>272.764557</td>\n",
       "      <td>135.810120</td>\n",
       "    </tr>\n",
       "    <tr>\n",
       "      <th>2021-07-06</th>\n",
       "      <td>140.375015</td>\n",
       "      <td>120.188065</td>\n",
       "      <td>272.774414</td>\n",
       "      <td>135.645309</td>\n",
       "    </tr>\n",
       "    <tr>\n",
       "      <th>2021-07-07</th>\n",
       "      <td>142.895493</td>\n",
       "      <td>121.088737</td>\n",
       "      <td>275.004517</td>\n",
       "      <td>135.422363</td>\n",
       "    </tr>\n",
       "    <tr>\n",
       "      <th>2021-07-08</th>\n",
       "      <td>141.580872</td>\n",
       "      <td>121.885490</td>\n",
       "      <td>272.538666</td>\n",
       "      <td>135.306046</td>\n",
       "    </tr>\n",
       "    <tr>\n",
       "      <th>2021-07-09</th>\n",
       "      <td>143.429214</td>\n",
       "      <td>122.561005</td>\n",
       "      <td>273.049561</td>\n",
       "      <td>135.994278</td>\n",
       "    </tr>\n",
       "  </tbody>\n",
       "</table>\n",
       "<p>7942 rows × 4 columns</p>\n",
       "</div>"
      ],
      "text/plain": [
       "                  AAPL         IBM        MSFT         WMT\n",
       "Date                                                      \n",
       "1990-01-02    0.264117   10.367978    0.383681    3.653264\n",
       "1990-01-03    0.265889   10.460552    0.385844    3.653264\n",
       "1990-01-04    0.266776   10.579574    0.397192    3.633882\n",
       "1990-01-05    0.267663   10.553124    0.387465    3.595120\n",
       "1990-01-08    0.269435   10.619247    0.393409    3.643575\n",
       "...                ...         ...         ...         ...\n",
       "2021-07-02  138.338852  121.261940  272.764557  135.810120\n",
       "2021-07-06  140.375015  120.188065  272.774414  135.645309\n",
       "2021-07-07  142.895493  121.088737  275.004517  135.422363\n",
       "2021-07-08  141.580872  121.885490  272.538666  135.306046\n",
       "2021-07-09  143.429214  122.561005  273.049561  135.994278\n",
       "\n",
       "[7942 rows x 4 columns]"
      ]
     },
     "execution_count": 54,
     "metadata": {},
     "output_type": "execute_result"
    }
   ],
   "source": [
    "data"
   ]
  },
  {
   "cell_type": "code",
   "execution_count": null,
   "metadata": {},
   "outputs": [],
   "source": []
  },
  {
   "cell_type": "code",
   "execution_count": null,
   "metadata": {},
   "outputs": [],
   "source": []
  },
  {
   "cell_type": "code",
   "execution_count": null,
   "metadata": {},
   "outputs": [],
   "source": []
  },
  {
   "cell_type": "code",
   "execution_count": null,
   "metadata": {},
   "outputs": [],
   "source": []
  },
  {
   "cell_type": "code",
   "execution_count": null,
   "metadata": {},
   "outputs": [],
   "source": []
  },
  {
   "cell_type": "code",
   "execution_count": null,
   "metadata": {},
   "outputs": [],
   "source": []
  },
  {
   "cell_type": "code",
   "execution_count": null,
   "metadata": {},
   "outputs": [],
   "source": []
  },
  {
   "cell_type": "code",
   "execution_count": null,
   "metadata": {},
   "outputs": [],
   "source": []
  },
  {
   "cell_type": "code",
   "execution_count": null,
   "metadata": {},
   "outputs": [],
   "source": []
  },
  {
   "cell_type": "code",
   "execution_count": null,
   "metadata": {},
   "outputs": [],
   "source": []
  },
  {
   "cell_type": "code",
   "execution_count": null,
   "metadata": {},
   "outputs": [],
   "source": []
  },
  {
   "cell_type": "code",
   "execution_count": null,
   "metadata": {},
   "outputs": [],
   "source": []
  },
  {
   "cell_type": "code",
   "execution_count": null,
   "metadata": {},
   "outputs": [],
   "source": []
  },
  {
   "cell_type": "code",
   "execution_count": null,
   "metadata": {},
   "outputs": [],
   "source": []
  },
  {
   "cell_type": "code",
   "execution_count": null,
   "metadata": {},
   "outputs": [],
   "source": []
  },
  {
   "cell_type": "code",
   "execution_count": null,
   "metadata": {},
   "outputs": [],
   "source": []
  },
  {
   "cell_type": "code",
   "execution_count": null,
   "metadata": {},
   "outputs": [],
   "source": []
  },
  {
   "cell_type": "code",
   "execution_count": null,
   "metadata": {},
   "outputs": [],
   "source": []
  },
  {
   "cell_type": "code",
   "execution_count": null,
   "metadata": {},
   "outputs": [],
   "source": []
  },
  {
   "cell_type": "code",
   "execution_count": null,
   "metadata": {},
   "outputs": [],
   "source": []
  },
  {
   "cell_type": "code",
   "execution_count": null,
   "metadata": {},
   "outputs": [],
   "source": []
  },
  {
   "cell_type": "code",
   "execution_count": null,
   "metadata": {},
   "outputs": [],
   "source": []
  },
  {
   "cell_type": "code",
   "execution_count": null,
   "metadata": {},
   "outputs": [],
   "source": []
  },
  {
   "cell_type": "code",
   "execution_count": null,
   "metadata": {},
   "outputs": [],
   "source": []
  },
  {
   "cell_type": "code",
   "execution_count": null,
   "metadata": {},
   "outputs": [],
   "source": []
  },
  {
   "cell_type": "code",
   "execution_count": null,
   "metadata": {},
   "outputs": [],
   "source": []
  },
  {
   "cell_type": "code",
   "execution_count": null,
   "metadata": {},
   "outputs": [],
   "source": []
  }
 ],
 "metadata": {
  "kernelspec": {
   "display_name": "Python 3",
   "language": "python",
   "name": "python3"
  },
  "language_info": {
   "codemirror_mode": {
    "name": "ipython",
    "version": 3
   },
   "file_extension": ".py",
   "mimetype": "text/x-python",
   "name": "python",
   "nbconvert_exporter": "python",
   "pygments_lexer": "ipython3",
   "version": "3.10.11"
  },
  "orig_nbformat": 4
 },
 "nbformat": 4,
 "nbformat_minor": 2
}
