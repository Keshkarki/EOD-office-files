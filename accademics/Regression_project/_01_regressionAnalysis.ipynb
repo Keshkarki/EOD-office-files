{
 "cells": [
  {
   "attachments": {},
   "cell_type": "markdown",
   "metadata": {},
   "source": [
    "## 01_ importing libraries"
   ]
  },
  {
   "cell_type": "code",
   "execution_count": 1,
   "metadata": {},
   "outputs": [],
   "source": [
    "import numpy as np\n",
    "import pandas as pd\n",
    "import matplotlib.pyplot as plt\n",
    "import statsmodels.api as sm"
   ]
  },
  {
   "attachments": {},
   "cell_type": "markdown",
   "metadata": {},
   "source": [
    "## 02_ file reading and formatting"
   ]
  },
  {
   "cell_type": "code",
   "execution_count": 2,
   "metadata": {},
   "outputs": [
    {
     "data": {
      "text/html": [
       "<div>\n",
       "<style scoped>\n",
       "    .dataframe tbody tr th:only-of-type {\n",
       "        vertical-align: middle;\n",
       "    }\n",
       "\n",
       "    .dataframe tbody tr th {\n",
       "        vertical-align: top;\n",
       "    }\n",
       "\n",
       "    .dataframe thead th {\n",
       "        text-align: right;\n",
       "    }\n",
       "</style>\n",
       "<table border=\"1\" class=\"dataframe\">\n",
       "  <thead>\n",
       "    <tr style=\"text-align: right;\">\n",
       "      <th></th>\n",
       "      <th>Open</th>\n",
       "      <th>High</th>\n",
       "      <th>Low</th>\n",
       "      <th>Close</th>\n",
       "      <th>Adj Close</th>\n",
       "      <th>Volume</th>\n",
       "    </tr>\n",
       "    <tr>\n",
       "      <th>Date</th>\n",
       "      <th></th>\n",
       "      <th></th>\n",
       "      <th></th>\n",
       "      <th></th>\n",
       "      <th></th>\n",
       "      <th></th>\n",
       "    </tr>\n",
       "  </thead>\n",
       "  <tbody>\n",
       "    <tr>\n",
       "      <th>2007-09-17</th>\n",
       "      <td>4518.450195</td>\n",
       "      <td>4549.049805</td>\n",
       "      <td>4482.850098</td>\n",
       "      <td>4494.649902</td>\n",
       "      <td>4494.649902</td>\n",
       "      <td>0</td>\n",
       "    </tr>\n",
       "    <tr>\n",
       "      <th>2007-09-18</th>\n",
       "      <td>4494.100098</td>\n",
       "      <td>4551.799805</td>\n",
       "      <td>4481.549805</td>\n",
       "      <td>4546.200195</td>\n",
       "      <td>4546.200195</td>\n",
       "      <td>0</td>\n",
       "    </tr>\n",
       "    <tr>\n",
       "      <th>2007-09-19</th>\n",
       "      <td>4550.250000</td>\n",
       "      <td>4739.000000</td>\n",
       "      <td>4550.250000</td>\n",
       "      <td>4732.350098</td>\n",
       "      <td>4732.350098</td>\n",
       "      <td>0</td>\n",
       "    </tr>\n",
       "    <tr>\n",
       "      <th>2007-09-20</th>\n",
       "      <td>4734.850098</td>\n",
       "      <td>4760.850098</td>\n",
       "      <td>4721.149902</td>\n",
       "      <td>4747.549805</td>\n",
       "      <td>4747.549805</td>\n",
       "      <td>0</td>\n",
       "    </tr>\n",
       "    <tr>\n",
       "      <th>2007-09-21</th>\n",
       "      <td>4752.950195</td>\n",
       "      <td>4855.700195</td>\n",
       "      <td>4733.700195</td>\n",
       "      <td>4837.549805</td>\n",
       "      <td>4837.549805</td>\n",
       "      <td>0</td>\n",
       "    </tr>\n",
       "    <tr>\n",
       "      <th>...</th>\n",
       "      <td>...</td>\n",
       "      <td>...</td>\n",
       "      <td>...</td>\n",
       "      <td>...</td>\n",
       "      <td>...</td>\n",
       "      <td>...</td>\n",
       "    </tr>\n",
       "    <tr>\n",
       "      <th>2023-04-26</th>\n",
       "      <td>17767.300781</td>\n",
       "      <td>17827.750000</td>\n",
       "      <td>17711.199219</td>\n",
       "      <td>17813.599609</td>\n",
       "      <td>17813.599609</td>\n",
       "      <td>233000</td>\n",
       "    </tr>\n",
       "    <tr>\n",
       "      <th>2023-04-27</th>\n",
       "      <td>17813.099609</td>\n",
       "      <td>17931.599609</td>\n",
       "      <td>17797.900391</td>\n",
       "      <td>17915.050781</td>\n",
       "      <td>17915.050781</td>\n",
       "      <td>241400</td>\n",
       "    </tr>\n",
       "    <tr>\n",
       "      <th>2023-04-28</th>\n",
       "      <td>17950.400391</td>\n",
       "      <td>18089.150391</td>\n",
       "      <td>17885.300781</td>\n",
       "      <td>18065.000000</td>\n",
       "      <td>18065.000000</td>\n",
       "      <td>290300</td>\n",
       "    </tr>\n",
       "    <tr>\n",
       "      <th>2023-05-02</th>\n",
       "      <td>18124.800781</td>\n",
       "      <td>18180.250000</td>\n",
       "      <td>18101.750000</td>\n",
       "      <td>18147.650391</td>\n",
       "      <td>18147.650391</td>\n",
       "      <td>265200</td>\n",
       "    </tr>\n",
       "    <tr>\n",
       "      <th>2023-05-03</th>\n",
       "      <td>18113.800781</td>\n",
       "      <td>18116.349609</td>\n",
       "      <td>18042.400391</td>\n",
       "      <td>18089.849609</td>\n",
       "      <td>18089.849609</td>\n",
       "      <td>0</td>\n",
       "    </tr>\n",
       "  </tbody>\n",
       "</table>\n",
       "<p>3828 rows × 6 columns</p>\n",
       "</div>"
      ],
      "text/plain": [
       "                    Open          High           Low         Close   \n",
       "Date                                                                 \n",
       "2007-09-17   4518.450195   4549.049805   4482.850098   4494.649902  \\\n",
       "2007-09-18   4494.100098   4551.799805   4481.549805   4546.200195   \n",
       "2007-09-19   4550.250000   4739.000000   4550.250000   4732.350098   \n",
       "2007-09-20   4734.850098   4760.850098   4721.149902   4747.549805   \n",
       "2007-09-21   4752.950195   4855.700195   4733.700195   4837.549805   \n",
       "...                  ...           ...           ...           ...   \n",
       "2023-04-26  17767.300781  17827.750000  17711.199219  17813.599609   \n",
       "2023-04-27  17813.099609  17931.599609  17797.900391  17915.050781   \n",
       "2023-04-28  17950.400391  18089.150391  17885.300781  18065.000000   \n",
       "2023-05-02  18124.800781  18180.250000  18101.750000  18147.650391   \n",
       "2023-05-03  18113.800781  18116.349609  18042.400391  18089.849609   \n",
       "\n",
       "               Adj Close  Volume  \n",
       "Date                              \n",
       "2007-09-17   4494.649902       0  \n",
       "2007-09-18   4546.200195       0  \n",
       "2007-09-19   4732.350098       0  \n",
       "2007-09-20   4747.549805       0  \n",
       "2007-09-21   4837.549805       0  \n",
       "...                  ...     ...  \n",
       "2023-04-26  17813.599609  233000  \n",
       "2023-04-27  17915.050781  241400  \n",
       "2023-04-28  18065.000000  290300  \n",
       "2023-05-02  18147.650391  265200  \n",
       "2023-05-03  18089.849609       0  \n",
       "\n",
       "[3828 rows x 6 columns]"
      ]
     },
     "execution_count": 2,
     "metadata": {},
     "output_type": "execute_result"
    }
   ],
   "source": [
    "df = pd.read_csv('Nifty50.csv')\n",
    "df['Date'] = pd.to_datetime(df['Date'])\n",
    "df.set_index('Date',inplace=True)\n",
    "df"
   ]
  },
  {
   "attachments": {},
   "cell_type": "markdown",
   "metadata": {},
   "source": [
    "## 03_ calculating daily return or pct_change()"
   ]
  },
  {
   "cell_type": "code",
   "execution_count": 3,
   "metadata": {},
   "outputs": [
    {
     "data": {
      "text/html": [
       "<div>\n",
       "<style scoped>\n",
       "    .dataframe tbody tr th:only-of-type {\n",
       "        vertical-align: middle;\n",
       "    }\n",
       "\n",
       "    .dataframe tbody tr th {\n",
       "        vertical-align: top;\n",
       "    }\n",
       "\n",
       "    .dataframe thead th {\n",
       "        text-align: right;\n",
       "    }\n",
       "</style>\n",
       "<table border=\"1\" class=\"dataframe\">\n",
       "  <thead>\n",
       "    <tr style=\"text-align: right;\">\n",
       "      <th></th>\n",
       "      <th>Open</th>\n",
       "      <th>High</th>\n",
       "      <th>Low</th>\n",
       "      <th>Close</th>\n",
       "    </tr>\n",
       "    <tr>\n",
       "      <th>Date</th>\n",
       "      <th></th>\n",
       "      <th></th>\n",
       "      <th></th>\n",
       "      <th></th>\n",
       "    </tr>\n",
       "  </thead>\n",
       "  <tbody>\n",
       "    <tr>\n",
       "      <th>2007-09-17</th>\n",
       "      <td>4518.450195</td>\n",
       "      <td>4549.049805</td>\n",
       "      <td>4482.850098</td>\n",
       "      <td>4494.649902</td>\n",
       "    </tr>\n",
       "    <tr>\n",
       "      <th>2007-09-18</th>\n",
       "      <td>4494.100098</td>\n",
       "      <td>4551.799805</td>\n",
       "      <td>4481.549805</td>\n",
       "      <td>4546.200195</td>\n",
       "    </tr>\n",
       "    <tr>\n",
       "      <th>2007-09-19</th>\n",
       "      <td>4550.250000</td>\n",
       "      <td>4739.000000</td>\n",
       "      <td>4550.250000</td>\n",
       "      <td>4732.350098</td>\n",
       "    </tr>\n",
       "    <tr>\n",
       "      <th>2007-09-20</th>\n",
       "      <td>4734.850098</td>\n",
       "      <td>4760.850098</td>\n",
       "      <td>4721.149902</td>\n",
       "      <td>4747.549805</td>\n",
       "    </tr>\n",
       "    <tr>\n",
       "      <th>2007-09-21</th>\n",
       "      <td>4752.950195</td>\n",
       "      <td>4855.700195</td>\n",
       "      <td>4733.700195</td>\n",
       "      <td>4837.549805</td>\n",
       "    </tr>\n",
       "    <tr>\n",
       "      <th>...</th>\n",
       "      <td>...</td>\n",
       "      <td>...</td>\n",
       "      <td>...</td>\n",
       "      <td>...</td>\n",
       "    </tr>\n",
       "    <tr>\n",
       "      <th>2023-04-26</th>\n",
       "      <td>17767.300781</td>\n",
       "      <td>17827.750000</td>\n",
       "      <td>17711.199219</td>\n",
       "      <td>17813.599609</td>\n",
       "    </tr>\n",
       "    <tr>\n",
       "      <th>2023-04-27</th>\n",
       "      <td>17813.099609</td>\n",
       "      <td>17931.599609</td>\n",
       "      <td>17797.900391</td>\n",
       "      <td>17915.050781</td>\n",
       "    </tr>\n",
       "    <tr>\n",
       "      <th>2023-04-28</th>\n",
       "      <td>17950.400391</td>\n",
       "      <td>18089.150391</td>\n",
       "      <td>17885.300781</td>\n",
       "      <td>18065.000000</td>\n",
       "    </tr>\n",
       "    <tr>\n",
       "      <th>2023-05-02</th>\n",
       "      <td>18124.800781</td>\n",
       "      <td>18180.250000</td>\n",
       "      <td>18101.750000</td>\n",
       "      <td>18147.650391</td>\n",
       "    </tr>\n",
       "    <tr>\n",
       "      <th>2023-05-03</th>\n",
       "      <td>18113.800781</td>\n",
       "      <td>18116.349609</td>\n",
       "      <td>18042.400391</td>\n",
       "      <td>18089.849609</td>\n",
       "    </tr>\n",
       "  </tbody>\n",
       "</table>\n",
       "<p>3828 rows × 4 columns</p>\n",
       "</div>"
      ],
      "text/plain": [
       "                    Open          High           Low         Close\n",
       "Date                                                              \n",
       "2007-09-17   4518.450195   4549.049805   4482.850098   4494.649902\n",
       "2007-09-18   4494.100098   4551.799805   4481.549805   4546.200195\n",
       "2007-09-19   4550.250000   4739.000000   4550.250000   4732.350098\n",
       "2007-09-20   4734.850098   4760.850098   4721.149902   4747.549805\n",
       "2007-09-21   4752.950195   4855.700195   4733.700195   4837.549805\n",
       "...                  ...           ...           ...           ...\n",
       "2023-04-26  17767.300781  17827.750000  17711.199219  17813.599609\n",
       "2023-04-27  17813.099609  17931.599609  17797.900391  17915.050781\n",
       "2023-04-28  17950.400391  18089.150391  17885.300781  18065.000000\n",
       "2023-05-02  18124.800781  18180.250000  18101.750000  18147.650391\n",
       "2023-05-03  18113.800781  18116.349609  18042.400391  18089.849609\n",
       "\n",
       "[3828 rows x 4 columns]"
      ]
     },
     "execution_count": 3,
     "metadata": {},
     "output_type": "execute_result"
    }
   ],
   "source": [
    "# df['dailyReturn'] = round(df['Close'].pct_change(),3)\n",
    "df = df[['Open','High','Low','Close']]\n",
    "df"
   ]
  },
  {
   "cell_type": "code",
   "execution_count": 4,
   "metadata": {},
   "outputs": [
    {
     "data": {
      "text/plain": [
       "Open     0\n",
       "High     0\n",
       "Low      0\n",
       "Close    0\n",
       "dtype: int64"
      ]
     },
     "execution_count": 4,
     "metadata": {},
     "output_type": "execute_result"
    }
   ],
   "source": [
    "df.isnull().sum()\n",
    "# there are no missing values"
   ]
  },
  {
   "attachments": {},
   "cell_type": "markdown",
   "metadata": {},
   "source": [
    "##  04_ checking whether input and target variables has linear relationship or not"
   ]
  },
  {
   "cell_type": "code",
   "execution_count": 5,
   "metadata": {},
   "outputs": [
    {
     "data": {
      "text/plain": [
       "Text(0.5, 1.0, 'Open vs High')"
      ]
     },
     "execution_count": 5,
     "metadata": {},
     "output_type": "execute_result"
    },
    {
     "data": {
      "image/png": "[encoded data removed]",
      "text/plain": [
       "<Figure size 640x480 with 1 Axes>"
      ]
     },
     "metadata": {},
     "output_type": "display_data"
    }
   ],
   "source": [
    "plt.plot(df['Open'], df['Close'])\n",
    "plt.xlabel('Open')\n",
    "plt.ylabel('Close')\n",
    "plt.title('Open vs High')"
   ]
  },
  {
   "cell_type": "code",
   "execution_count": 6,
   "metadata": {},
   "outputs": [
    {
     "data": {
      "text/plain": [
       "Text(0.5, 1.0, 'Smoothed Open vs Close')"
      ]
     },
     "execution_count": 6,
     "metadata": {},
     "output_type": "execute_result"
    },
    {
     "data": {
      "image/png": "[encoded data removed]",
      "text/plain": [
       "<Figure size 640x480 with 1 Axes>"
      ]
     },
     "metadata": {},
     "output_type": "display_data"
    }
   ],
   "source": [
    "window_size = 20  # Adjust the window size as per your preference\n",
    "\n",
    "smoothed_open = df['Open'].rolling(window=window_size).mean()\n",
    "smoothed_close = df['Close'].rolling(window=window_size).mean()\n",
    "\n",
    "plt.plot(smoothed_open, smoothed_close)\n",
    "plt.xlabel('Smoothed Open')\n",
    "plt.ylabel('Smoothed Close')\n",
    "plt.title('Smoothed Open vs Close')"
   ]
  },
  {
   "cell_type": "code",
   "execution_count": 7,
   "metadata": {},
   "outputs": [
    {
     "data": {
      "text/plain": [
       "Text(0.5, 1.0, 'Smoothed High vs Close')"
      ]
     },
     "execution_count": 7,
     "metadata": {},
     "output_type": "execute_result"
    },
    {
     "data": {
      "image/png": "[encoded data removed]",
      "text/plain": [
       "<Figure size 640x480 with 1 Axes>"
      ]
     },
     "metadata": {},
     "output_type": "display_data"
    }
   ],
   "source": [
    "window_size = 20  # Adjust the window size as per your preference\n",
    "\n",
    "smoothed_high = df['High'].rolling(window=window_size).mean()\n",
    "smoothed_close = df['Close'].rolling(window=window_size).mean()\n",
    "\n",
    "plt.plot(smoothed_high, smoothed_close)\n",
    "plt.xlabel('Smoothed High')\n",
    "plt.ylabel('Smoothed Close')\n",
    "plt.title('Smoothed High vs Close')"
   ]
  },
  {
   "cell_type": "code",
   "execution_count": 8,
   "metadata": {},
   "outputs": [
    {
     "data": {
      "text/plain": [
       "Text(0.5, 1.0, 'Smoothed Low vs Close')"
      ]
     },
     "execution_count": 8,
     "metadata": {},
     "output_type": "execute_result"
    },
    {
     "data": {
      "image/png": "[encoded data removed]",
      "text/plain": [
       "<Figure size 640x480 with 1 Axes>"
      ]
     },
     "metadata": {},
     "output_type": "display_data"
    }
   ],
   "source": [
    "window_size = 20  # Adjust the window size as per your preference\n",
    "\n",
    "smoothed_low = df['Low'].rolling(window=window_size).mean()\n",
    "smoothed_close = df['Close'].rolling(window=window_size).mean()\n",
    "\n",
    "plt.plot(smoothed_low, smoothed_close)\n",
    "plt.xlabel('Smoothed Low')\n",
    "plt.ylabel('Smoothed Close')\n",
    "plt.title('Smoothed Low vs Close')"
   ]
  },
  {
   "attachments": {},
   "cell_type": "markdown",
   "metadata": {},
   "source": [
    "## 05_  Define your independent variable (Open) and dependent variable(Close)"
   ]
  },
  {
   "cell_type": "code",
   "execution_count": 9,
   "metadata": {},
   "outputs": [
    {
     "data": {
      "text/plain": [
       "Date\n",
       "2007-09-17     4494.649902\n",
       "2007-09-18     4546.200195\n",
       "2007-09-19     4732.350098\n",
       "2007-09-20     4747.549805\n",
       "2007-09-21     4837.549805\n",
       "                  ...     \n",
       "2023-04-26    17813.599609\n",
       "2023-04-27    17915.050781\n",
       "2023-04-28    18065.000000\n",
       "2023-05-02    18147.650391\n",
       "2023-05-03    18089.849609\n",
       "Name: Close, Length: 3828, dtype: float64"
      ]
     },
     "execution_count": 9,
     "metadata": {},
     "output_type": "execute_result"
    }
   ],
   "source": [
    "y = df.iloc[:,-1]\n",
    "y"
   ]
  },
  {
   "cell_type": "code",
   "execution_count": 10,
   "metadata": {},
   "outputs": [
    {
     "data": {
      "text/html": [
       "<div>\n",
       "<style scoped>\n",
       "    .dataframe tbody tr th:only-of-type {\n",
       "        vertical-align: middle;\n",
       "    }\n",
       "\n",
       "    .dataframe tbody tr th {\n",
       "        vertical-align: top;\n",
       "    }\n",
       "\n",
       "    .dataframe thead th {\n",
       "        text-align: right;\n",
       "    }\n",
       "</style>\n",
       "<table border=\"1\" class=\"dataframe\">\n",
       "  <thead>\n",
       "    <tr style=\"text-align: right;\">\n",
       "      <th></th>\n",
       "      <th>Open</th>\n",
       "      <th>High</th>\n",
       "      <th>Low</th>\n",
       "    </tr>\n",
       "    <tr>\n",
       "      <th>Date</th>\n",
       "      <th></th>\n",
       "      <th></th>\n",
       "      <th></th>\n",
       "    </tr>\n",
       "  </thead>\n",
       "  <tbody>\n",
       "    <tr>\n",
       "      <th>2007-09-17</th>\n",
       "      <td>4518.450195</td>\n",
       "      <td>4549.049805</td>\n",
       "      <td>4482.850098</td>\n",
       "    </tr>\n",
       "    <tr>\n",
       "      <th>2007-09-18</th>\n",
       "      <td>4494.100098</td>\n",
       "      <td>4551.799805</td>\n",
       "      <td>4481.549805</td>\n",
       "    </tr>\n",
       "    <tr>\n",
       "      <th>2007-09-19</th>\n",
       "      <td>4550.250000</td>\n",
       "      <td>4739.000000</td>\n",
       "      <td>4550.250000</td>\n",
       "    </tr>\n",
       "    <tr>\n",
       "      <th>2007-09-20</th>\n",
       "      <td>4734.850098</td>\n",
       "      <td>4760.850098</td>\n",
       "      <td>4721.149902</td>\n",
       "    </tr>\n",
       "    <tr>\n",
       "      <th>2007-09-21</th>\n",
       "      <td>4752.950195</td>\n",
       "      <td>4855.700195</td>\n",
       "      <td>4733.700195</td>\n",
       "    </tr>\n",
       "    <tr>\n",
       "      <th>...</th>\n",
       "      <td>...</td>\n",
       "      <td>...</td>\n",
       "      <td>...</td>\n",
       "    </tr>\n",
       "    <tr>\n",
       "      <th>2023-04-26</th>\n",
       "      <td>17767.300781</td>\n",
       "      <td>17827.750000</td>\n",
       "      <td>17711.199219</td>\n",
       "    </tr>\n",
       "    <tr>\n",
       "      <th>2023-04-27</th>\n",
       "      <td>17813.099609</td>\n",
       "      <td>17931.599609</td>\n",
       "      <td>17797.900391</td>\n",
       "    </tr>\n",
       "    <tr>\n",
       "      <th>2023-04-28</th>\n",
       "      <td>17950.400391</td>\n",
       "      <td>18089.150391</td>\n",
       "      <td>17885.300781</td>\n",
       "    </tr>\n",
       "    <tr>\n",
       "      <th>2023-05-02</th>\n",
       "      <td>18124.800781</td>\n",
       "      <td>18180.250000</td>\n",
       "      <td>18101.750000</td>\n",
       "    </tr>\n",
       "    <tr>\n",
       "      <th>2023-05-03</th>\n",
       "      <td>18113.800781</td>\n",
       "      <td>18116.349609</td>\n",
       "      <td>18042.400391</td>\n",
       "    </tr>\n",
       "  </tbody>\n",
       "</table>\n",
       "<p>3828 rows × 3 columns</p>\n",
       "</div>"
      ],
      "text/plain": [
       "                    Open          High           Low\n",
       "Date                                                \n",
       "2007-09-17   4518.450195   4549.049805   4482.850098\n",
       "2007-09-18   4494.100098   4551.799805   4481.549805\n",
       "2007-09-19   4550.250000   4739.000000   4550.250000\n",
       "2007-09-20   4734.850098   4760.850098   4721.149902\n",
       "2007-09-21   4752.950195   4855.700195   4733.700195\n",
       "...                  ...           ...           ...\n",
       "2023-04-26  17767.300781  17827.750000  17711.199219\n",
       "2023-04-27  17813.099609  17931.599609  17797.900391\n",
       "2023-04-28  17950.400391  18089.150391  17885.300781\n",
       "2023-05-02  18124.800781  18180.250000  18101.750000\n",
       "2023-05-03  18113.800781  18116.349609  18042.400391\n",
       "\n",
       "[3828 rows x 3 columns]"
      ]
     },
     "execution_count": 10,
     "metadata": {},
     "output_type": "execute_result"
    }
   ],
   "source": [
    "X = df.iloc[:,0:3]\n",
    "X"
   ]
  },
  {
   "cell_type": "code",
   "execution_count": 11,
   "metadata": {},
   "outputs": [],
   "source": [
    "X = sm.add_constant(X)"
   ]
  },
  {
   "cell_type": "code",
   "execution_count": 12,
   "metadata": {},
   "outputs": [
    {
     "data": {
      "text/html": [
       "<div>\n",
       "<style scoped>\n",
       "    .dataframe tbody tr th:only-of-type {\n",
       "        vertical-align: middle;\n",
       "    }\n",
       "\n",
       "    .dataframe tbody tr th {\n",
       "        vertical-align: top;\n",
       "    }\n",
       "\n",
       "    .dataframe thead th {\n",
       "        text-align: right;\n",
       "    }\n",
       "</style>\n",
       "<table border=\"1\" class=\"dataframe\">\n",
       "  <thead>\n",
       "    <tr style=\"text-align: right;\">\n",
       "      <th></th>\n",
       "      <th>const</th>\n",
       "      <th>Open</th>\n",
       "      <th>High</th>\n",
       "      <th>Low</th>\n",
       "    </tr>\n",
       "    <tr>\n",
       "      <th>Date</th>\n",
       "      <th></th>\n",
       "      <th></th>\n",
       "      <th></th>\n",
       "      <th></th>\n",
       "    </tr>\n",
       "  </thead>\n",
       "  <tbody>\n",
       "    <tr>\n",
       "      <th>2007-09-17</th>\n",
       "      <td>1.0</td>\n",
       "      <td>4518.450195</td>\n",
       "      <td>4549.049805</td>\n",
       "      <td>4482.850098</td>\n",
       "    </tr>\n",
       "    <tr>\n",
       "      <th>2007-09-18</th>\n",
       "      <td>1.0</td>\n",
       "      <td>4494.100098</td>\n",
       "      <td>4551.799805</td>\n",
       "      <td>4481.549805</td>\n",
       "    </tr>\n",
       "    <tr>\n",
       "      <th>2007-09-19</th>\n",
       "      <td>1.0</td>\n",
       "      <td>4550.250000</td>\n",
       "      <td>4739.000000</td>\n",
       "      <td>4550.250000</td>\n",
       "    </tr>\n",
       "    <tr>\n",
       "      <th>2007-09-20</th>\n",
       "      <td>1.0</td>\n",
       "      <td>4734.850098</td>\n",
       "      <td>4760.850098</td>\n",
       "      <td>4721.149902</td>\n",
       "    </tr>\n",
       "    <tr>\n",
       "      <th>2007-09-21</th>\n",
       "      <td>1.0</td>\n",
       "      <td>4752.950195</td>\n",
       "      <td>4855.700195</td>\n",
       "      <td>4733.700195</td>\n",
       "    </tr>\n",
       "    <tr>\n",
       "      <th>...</th>\n",
       "      <td>...</td>\n",
       "      <td>...</td>\n",
       "      <td>...</td>\n",
       "      <td>...</td>\n",
       "    </tr>\n",
       "    <tr>\n",
       "      <th>2023-04-26</th>\n",
       "      <td>1.0</td>\n",
       "      <td>17767.300781</td>\n",
       "      <td>17827.750000</td>\n",
       "      <td>17711.199219</td>\n",
       "    </tr>\n",
       "    <tr>\n",
       "      <th>2023-04-27</th>\n",
       "      <td>1.0</td>\n",
       "      <td>17813.099609</td>\n",
       "      <td>17931.599609</td>\n",
       "      <td>17797.900391</td>\n",
       "    </tr>\n",
       "    <tr>\n",
       "      <th>2023-04-28</th>\n",
       "      <td>1.0</td>\n",
       "      <td>17950.400391</td>\n",
       "      <td>18089.150391</td>\n",
       "      <td>17885.300781</td>\n",
       "    </tr>\n",
       "    <tr>\n",
       "      <th>2023-05-02</th>\n",
       "      <td>1.0</td>\n",
       "      <td>18124.800781</td>\n",
       "      <td>18180.250000</td>\n",
       "      <td>18101.750000</td>\n",
       "    </tr>\n",
       "    <tr>\n",
       "      <th>2023-05-03</th>\n",
       "      <td>1.0</td>\n",
       "      <td>18113.800781</td>\n",
       "      <td>18116.349609</td>\n",
       "      <td>18042.400391</td>\n",
       "    </tr>\n",
       "  </tbody>\n",
       "</table>\n",
       "<p>3828 rows × 4 columns</p>\n",
       "</div>"
      ],
      "text/plain": [
       "            const          Open          High           Low\n",
       "Date                                                       \n",
       "2007-09-17    1.0   4518.450195   4549.049805   4482.850098\n",
       "2007-09-18    1.0   4494.100098   4551.799805   4481.549805\n",
       "2007-09-19    1.0   4550.250000   4739.000000   4550.250000\n",
       "2007-09-20    1.0   4734.850098   4760.850098   4721.149902\n",
       "2007-09-21    1.0   4752.950195   4855.700195   4733.700195\n",
       "...           ...           ...           ...           ...\n",
       "2023-04-26    1.0  17767.300781  17827.750000  17711.199219\n",
       "2023-04-27    1.0  17813.099609  17931.599609  17797.900391\n",
       "2023-04-28    1.0  17950.400391  18089.150391  17885.300781\n",
       "2023-05-02    1.0  18124.800781  18180.250000  18101.750000\n",
       "2023-05-03    1.0  18113.800781  18116.349609  18042.400391\n",
       "\n",
       "[3828 rows x 4 columns]"
      ]
     },
     "execution_count": 12,
     "metadata": {},
     "output_type": "execute_result"
    }
   ],
   "source": [
    "X"
   ]
  },
  {
   "cell_type": "code",
   "execution_count": 13,
   "metadata": {},
   "outputs": [],
   "source": [
    "model = sm.OLS(y, X)\n",
    "results = model.fit()"
   ]
  },
  {
   "cell_type": "code",
   "execution_count": 14,
   "metadata": {},
   "outputs": [
    {
     "name": "stdout",
     "output_type": "stream",
     "text": [
      "                            OLS Regression Results                            \n",
      "==============================================================================\n",
      "Dep. Variable:                  Close   R-squared:                       1.000\n",
      "Model:                            OLS   Adj. R-squared:                  1.000\n",
      "Method:                 Least Squares   F-statistic:                 1.719e+07\n",
      "Date:                Wed, 07 Jun 2023   Prob (F-statistic):               0.00\n",
      "Time:                        09:28:03   Log-Likelihood:                -19105.\n",
      "No. Observations:                3828   AIC:                         3.822e+04\n",
      "Df Residuals:                    3824   BIC:                         3.824e+04\n",
      "Df Model:                           3                                         \n",
      "Covariance Type:            nonrobust                                         \n",
      "==============================================================================\n",
      "                 coef    std err          t      P>|t|      [0.025      0.975]\n",
      "------------------------------------------------------------------------------\n",
      "const         -7.0022      1.419     -4.933      0.000      -9.785      -4.219\n",
      "Open          -0.6276      0.011    -54.664      0.000      -0.650      -0.605\n",
      "High           0.9025      0.010     88.892      0.000       0.883       0.922\n",
      "Low            0.7254      0.009     84.893      0.000       0.709       0.742\n",
      "==============================================================================\n",
      "Omnibus:                     1732.006   Durbin-Watson:                   2.134\n",
      "Prob(Omnibus):                  0.000   Jarque-Bera (JB):           150617.342\n",
      "Skew:                           1.240   Prob(JB):                         0.00\n",
      "Kurtosis:                      33.629   Cond. No.                     4.17e+04\n",
      "==============================================================================\n",
      "\n",
      "Notes:\n",
      "[1] Standard Errors assume that the covariance matrix of the errors is correctly specified.\n",
      "[2] The condition number is large, 4.17e+04. This might indicate that there are\n",
      "strong multicollinearity or other numerical problems.\n"
     ]
    }
   ],
   "source": [
    "print(results.summary())"
   ]
  },
  {
   "cell_type": "code",
   "execution_count": 15,
   "metadata": {},
   "outputs": [],
   "source": [
    "new_data = pd.DataFrame({\n",
    "    'Open': [20000, 20001, 20003],\n",
    "    'High': [20010, 20015, 20005],\n",
    "    'Low': [20000, 20001, 200001]\n",
    "})\n",
    "new_data = sm.add_constant(new_data)  # Add a constant column\n"
   ]
  },
  {
   "cell_type": "code",
   "execution_count": 16,
   "metadata": {},
   "outputs": [],
   "source": [
    "predictions = results.predict(new_data)"
   ]
  },
  {
   "cell_type": "code",
   "execution_count": 17,
   "metadata": {},
   "outputs": [
    {
     "name": "stdout",
     "output_type": "stream",
     "text": [
      "0     20007.907753\n",
      "1     20012.518154\n",
      "2    150577.392749\n",
      "dtype: float64\n"
     ]
    }
   ],
   "source": [
    "print(predictions)"
   ]
  }
 ],
 "metadata": {
  "kernelspec": {
   "display_name": "Python 3",
   "language": "python",
   "name": "python3"
  },
  "language_info": {
   "codemirror_mode": {
    "name": "ipython",
    "version": 3
   },
   "file_extension": ".py",
   "mimetype": "text/x-python",
   "name": "python",
   "nbconvert_exporter": "python",
   "pygments_lexer": "ipython3",
   "version": "3.10.11"
  },
  "orig_nbformat": 4
 },
 "nbformat": 4,
 "nbformat_minor": 2
}
