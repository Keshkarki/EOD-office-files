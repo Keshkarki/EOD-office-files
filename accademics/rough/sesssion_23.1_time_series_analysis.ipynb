{
  "cells": [
    {
      "cell_type": "code",
      "execution_count": 50,
      "metadata": {
        "id": "qho6Ucq7dhTt"
      },
      "outputs": [],
      "source": [
        "import pandas as pd\n",
        "import numpy as np"
      ]
    },
    {
      "attachments": {},
      "cell_type": "markdown",
      "metadata": {},
      "source": [
        "### Revision"
      ]
    },
    {
      "cell_type": "code",
      "execution_count": 51,
      "metadata": {},
      "outputs": [
        {
          "name": "stdout",
          "output_type": "stream",
          "text": [
            "2023-01-06 08:10:00\n",
            "2023\n",
            "1\n",
            "6\n",
            "08:10:00\n"
          ]
        }
      ],
      "source": [
        "# Timestamp\n",
        "dt = pd.Timestamp('6th jan 2023 8:10')\n",
        "print(dt)\n",
        "\n",
        "print(dt.year)\n",
        "print(dt.month)\n",
        "print(dt.day)\n",
        "print(dt.time())\n",
        "\n",
        "\n",
        "# dt.day_name(): This will return the day of the week as a string, e.g. \"Friday\".\n",
        "# dt.hour: This will return the hour value as an integer, e.g. 8.\n",
        "# dt.minute: This will return the minute value as an integer, e.g. 10.\n",
        "# dt.second: This will return the second value as an integer, which is 0 since it wasn't specified in the timestamp.\n",
        "# dt.microsecond: This will return the microsecond value as an integer, which is 0 since it wasn't specified in the timestamp.\n",
        "# dt.weekday(): This will return the day of the week as an integer, where Monday is 0 and Sunday is 6.\n",
        "# dt.is_leap_year: This will return a boolean indicating whether the year is a leap year or not. In this case, it will be True since 2023 is not a leap year.\n",
        "# dt.to_pydatetime(): This will convert the timestamp to a Python datetime object, which can be useful for performing additional datetime operations using Python's built-in datetime module."
      ]
    },
    {
      "cell_type": "code",
      "execution_count": 19,
      "metadata": {},
      "outputs": [
        {
          "data": {
            "text/plain": [
              "DatetimeIndex(['2023-01-06 08:10:00', '2023-01-07 08:10:00',\n",
              "               '2023-01-08 08:10:00'],\n",
              "              dtype='datetime64[ns]', freq=None)"
            ]
          },
          "execution_count": 19,
          "metadata": {},
          "output_type": "execute_result"
        }
      ],
      "source": [
        "# DatetimeIndex -> df and series index\n",
        "pd.DatetimeIndex([pd.Timestamp('6th jan 2023 8:10'),pd.Timestamp('7th jan 2023 8:10'),pd.Timestamp('8th jan 2023 8:10')])"
      ]
    },
    {
      "cell_type": "code",
      "execution_count": 23,
      "metadata": {},
      "outputs": [
        {
          "data": {
            "text/plain": [
              "DatetimeIndex(['2023-01-06', '2023-01-07', '2023-01-08', '2023-01-09',\n",
              "               '2023-01-10', '2023-01-11', '2023-01-12', '2023-01-13',\n",
              "               '2023-01-14', '2023-01-15', '2023-01-16', '2023-01-17',\n",
              "               '2023-01-18', '2023-01-19', '2023-01-20', '2023-01-21',\n",
              "               '2023-01-22', '2023-01-23', '2023-01-24', '2023-01-25',\n",
              "               '2023-01-26', '2023-01-27', '2023-01-28', '2023-01-29',\n",
              "               '2023-01-30', '2023-01-31'],\n",
              "              dtype='datetime64[ns]', freq='D')"
            ]
          },
          "execution_count": 23,
          "metadata": {},
          "output_type": "execute_result"
        }
      ],
      "source": [
        "# date_range()\n",
        "pd.date_range(start='2023-1-6',end='2023-1-31',freq='D')"
      ]
    },
    {
      "cell_type": "code",
      "execution_count": 21,
      "metadata": {
        "colab": {
          "base_uri": "https://localhost:8080/"
        },
        "id": "p2Fg41HF81KJ",
        "outputId": "af7f6863-0827-4652-872c-7f2a505b64af"
      },
      "outputs": [
        {
          "data": {
            "text/plain": [
              "0      Friday\n",
              "1    Saturday\n",
              "2    Saturday\n",
              "dtype: object"
            ]
          },
          "execution_count": 21,
          "metadata": {},
          "output_type": "execute_result"
        }
      ],
      "source": [
        "# to_datetime()\n",
        "s = pd.Series(['2023/1/6','2023/1/7','2023/1/7'])\n",
        "pd.to_datetime(s).dt.day_name()"
      ]
    },
    {
      "cell_type": "markdown",
      "metadata": {
        "id": "3Iw4exLi2Vbt"
      },
      "source": [
        "### Timedelta Object\n",
        "\n",
        "Represents a duration, the difference between two dates or times."
      ]
    },
    {
      "cell_type": "code",
      "execution_count": 24,
      "metadata": {
        "colab": {
          "base_uri": "https://localhost:8080/"
        },
        "id": "J5_IUZFq2ZgY",
        "outputId": "c2ec5e03-258b-4124-e4f9-fb2f972be5f6"
      },
      "outputs": [
        {
          "data": {
            "text/plain": [
              "Timedelta('20 days 01:39:46')"
            ]
          },
          "execution_count": 24,
          "metadata": {},
          "output_type": "execute_result"
        }
      ],
      "source": [
        "# create using Timestamp objects\n",
        "t1 = pd.Timestamp('6th Jan 2023 8:20:14')\n",
        "t2 = pd.Timestamp('26th Jan 2023 10:00:00')\n",
        "\n",
        "t2 - t1"
      ]
    },
    {
      "cell_type": "code",
      "execution_count": 25,
      "metadata": {
        "colab": {
          "base_uri": "https://localhost:8080/"
        },
        "id": "QK8EY0tyB1F3",
        "outputId": "408cee9a-e4a8-45d2-ae69-94a3536f2a4b"
      },
      "outputs": [
        {
          "data": {
            "text/plain": [
              "Timedelta('2 days 10:35:00')"
            ]
          },
          "execution_count": 25,
          "metadata": {},
          "output_type": "execute_result"
        }
      ],
      "source": [
        "# standalone creation\n",
        "pd.Timedelta(days=2,hours=10,minutes=35)"
      ]
    },
    {
      "cell_type": "code",
      "execution_count": 26,
      "metadata": {
        "colab": {
          "base_uri": "https://localhost:8080/"
        },
        "id": "2V5tNP5KB61Y",
        "outputId": "5491dfb3-92fb-4157-8736-cf8cad8dbd1b"
      },
      "outputs": [
        {
          "data": {
            "text/plain": [
              "Timestamp('2023-01-08 10:35:00')"
            ]
          },
          "execution_count": 26,
          "metadata": {},
          "output_type": "execute_result"
        }
      ],
      "source": [
        "# Arithmetic\n",
        "pd.Timestamp('6th jan 2023') + pd.Timedelta(days=2,hours=10,minutes=35)"
      ]
    },
    {
      "cell_type": "code",
      "execution_count": 27,
      "metadata": {
        "colab": {
          "base_uri": "https://localhost:8080/"
        },
        "id": "I39NqkH9kFEX",
        "outputId": "f7cd65a7-6c0a-411f-c689-96e6f6cb7035"
      },
      "outputs": [
        {
          "data": {
            "text/plain": [
              "DatetimeIndex(['2023-01-03 13:25:00', '2023-01-04 13:25:00',\n",
              "               '2023-01-05 13:25:00', '2023-01-06 13:25:00',\n",
              "               '2023-01-07 13:25:00', '2023-01-08 13:25:00',\n",
              "               '2023-01-09 13:25:00', '2023-01-10 13:25:00',\n",
              "               '2023-01-11 13:25:00', '2023-01-12 13:25:00',\n",
              "               '2023-01-13 13:25:00', '2023-01-14 13:25:00',\n",
              "               '2023-01-15 13:25:00', '2023-01-16 13:25:00',\n",
              "               '2023-01-17 13:25:00', '2023-01-18 13:25:00',\n",
              "               '2023-01-19 13:25:00', '2023-01-20 13:25:00',\n",
              "               '2023-01-21 13:25:00', '2023-01-22 13:25:00',\n",
              "               '2023-01-23 13:25:00', '2023-01-24 13:25:00',\n",
              "               '2023-01-25 13:25:00', '2023-01-26 13:25:00',\n",
              "               '2023-01-27 13:25:00', '2023-01-28 13:25:00'],\n",
              "              dtype='datetime64[ns]', freq='D')"
            ]
          },
          "execution_count": 27,
          "metadata": {},
          "output_type": "execute_result"
        }
      ],
      "source": [
        "pd.date_range(start='2023-1-6',end='2023-1-31',freq='D') - pd.Timedelta(days=2,hours=10,minutes=35)"
      ]
    },
    {
      "attachments": {},
      "cell_type": "markdown",
      "metadata": {},
      "source": [
        "____\n",
        "____"
      ]
    },
    {
      "cell_type": "markdown",
      "metadata": {
        "id": "hrhjsZ602dRU"
      },
      "source": [
        "### Time series\n",
        "\n",
        "A time series is a data set that tracks a sample over time. In particular, a time series allows one to see what factors influence certain variables from period to period. Time series analysis can be useful to see how a given asset, security, or economic variable changes over time.\n",
        "\n",
        "Examples\n",
        "\n",
        "- Financial Data (Company stocks)\n",
        "- Natural Data (Rainfall measurement)\n",
        "- Event Data (Covid)\n",
        "- Medical Data (Heart rate monitoring)\n",
        "\n",
        "Types of Operations done on Time Series\n",
        "\n",
        "- Time Series Analysis\n",
        "- Time Series Forecasting"
      ]
    },
    {
      "cell_type": "code",
      "execution_count": 52,
      "metadata": {
        "colab": {
          "base_uri": "https://localhost:8080/",
          "height": 206
        },
        "id": "_tUZzbBIipIA",
        "outputId": "2716d8e6-bb5c-4910-f6e9-7e601953d210"
      },
      "outputs": [
        {
          "data": {
            "text/html": [
              "<div>\n",
              "<style scoped>\n",
              "    .dataframe tbody tr th:only-of-type {\n",
              "        vertical-align: middle;\n",
              "    }\n",
              "\n",
              "    .dataframe tbody tr th {\n",
              "        vertical-align: top;\n",
              "    }\n",
              "\n",
              "    .dataframe thead th {\n",
              "        text-align: right;\n",
              "    }\n",
              "</style>\n",
              "<table border=\"1\" class=\"dataframe\">\n",
              "  <thead>\n",
              "    <tr style=\"text-align: right;\">\n",
              "      <th></th>\n",
              "      <th>Date</th>\n",
              "      <th>Open</th>\n",
              "      <th>High</th>\n",
              "      <th>Low</th>\n",
              "      <th>Close</th>\n",
              "      <th>Adj Close</th>\n",
              "      <th>Volume</th>\n",
              "    </tr>\n",
              "  </thead>\n",
              "  <tbody>\n",
              "    <tr>\n",
              "      <th>0</th>\n",
              "      <td>2004-08-19</td>\n",
              "      <td>49.813290</td>\n",
              "      <td>51.835709</td>\n",
              "      <td>47.800831</td>\n",
              "      <td>49.982655</td>\n",
              "      <td>49.982655</td>\n",
              "      <td>44871361</td>\n",
              "    </tr>\n",
              "    <tr>\n",
              "      <th>1</th>\n",
              "      <td>2004-08-20</td>\n",
              "      <td>50.316402</td>\n",
              "      <td>54.336334</td>\n",
              "      <td>50.062355</td>\n",
              "      <td>53.952770</td>\n",
              "      <td>53.952770</td>\n",
              "      <td>22942874</td>\n",
              "    </tr>\n",
              "    <tr>\n",
              "      <th>2</th>\n",
              "      <td>2004-08-23</td>\n",
              "      <td>55.168217</td>\n",
              "      <td>56.528118</td>\n",
              "      <td>54.321388</td>\n",
              "      <td>54.495735</td>\n",
              "      <td>54.495735</td>\n",
              "      <td>18342897</td>\n",
              "    </tr>\n",
              "    <tr>\n",
              "      <th>3</th>\n",
              "      <td>2004-08-24</td>\n",
              "      <td>55.412300</td>\n",
              "      <td>55.591629</td>\n",
              "      <td>51.591621</td>\n",
              "      <td>52.239197</td>\n",
              "      <td>52.239197</td>\n",
              "      <td>15319808</td>\n",
              "    </tr>\n",
              "    <tr>\n",
              "      <th>4</th>\n",
              "      <td>2004-08-25</td>\n",
              "      <td>52.284027</td>\n",
              "      <td>53.798351</td>\n",
              "      <td>51.746044</td>\n",
              "      <td>52.802086</td>\n",
              "      <td>52.802086</td>\n",
              "      <td>9232276</td>\n",
              "    </tr>\n",
              "  </tbody>\n",
              "</table>\n",
              "</div>"
            ],
            "text/plain": [
              "         Date       Open       High        Low      Close  Adj Close    Volume\n",
              "0  2004-08-19  49.813290  51.835709  47.800831  49.982655  49.982655  44871361\n",
              "1  2004-08-20  50.316402  54.336334  50.062355  53.952770  53.952770  22942874\n",
              "2  2004-08-23  55.168217  56.528118  54.321388  54.495735  54.495735  18342897\n",
              "3  2004-08-24  55.412300  55.591629  51.591621  52.239197  52.239197  15319808\n",
              "4  2004-08-25  52.284027  53.798351  51.746044  52.802086  52.802086   9232276"
            ]
          },
          "execution_count": 52,
          "metadata": {},
          "output_type": "execute_result"
        }
      ],
      "source": [
        "google = pd.read_csv('E:\\DataScienceCampus_ineuron\\Pandas\\Datasets\\google.csv')\n",
        "google.head()"
      ]
    },
    {
      "cell_type": "code",
      "execution_count": 53,
      "metadata": {
        "colab": {
          "base_uri": "https://localhost:8080/",
          "height": 206
        },
        "id": "PziajciTwZtH",
        "outputId": "b6535bac-9fa2-4132-f72c-74d8c8543947"
      },
      "outputs": [
        {
          "data": {
            "text/html": [
              "<div>\n",
              "<style scoped>\n",
              "    .dataframe tbody tr th:only-of-type {\n",
              "        vertical-align: middle;\n",
              "    }\n",
              "\n",
              "    .dataframe tbody tr th {\n",
              "        vertical-align: top;\n",
              "    }\n",
              "\n",
              "    .dataframe thead th {\n",
              "        text-align: right;\n",
              "    }\n",
              "</style>\n",
              "<table border=\"1\" class=\"dataframe\">\n",
              "  <thead>\n",
              "    <tr style=\"text-align: right;\">\n",
              "      <th></th>\n",
              "      <th>Date</th>\n",
              "      <th>Open</th>\n",
              "      <th>High</th>\n",
              "      <th>Low</th>\n",
              "      <th>Close</th>\n",
              "      <th>Adj Close</th>\n",
              "      <th>Volume</th>\n",
              "    </tr>\n",
              "  </thead>\n",
              "  <tbody>\n",
              "    <tr>\n",
              "      <th>4466</th>\n",
              "      <td>2022-05-16</td>\n",
              "      <td>2307.679932</td>\n",
              "      <td>2332.149902</td>\n",
              "      <td>2286.699951</td>\n",
              "      <td>2295.850098</td>\n",
              "      <td>2295.850098</td>\n",
              "      <td>1164100</td>\n",
              "    </tr>\n",
              "    <tr>\n",
              "      <th>4467</th>\n",
              "      <td>2022-05-17</td>\n",
              "      <td>2344.550049</td>\n",
              "      <td>2344.550049</td>\n",
              "      <td>2306.750000</td>\n",
              "      <td>2334.030029</td>\n",
              "      <td>2334.030029</td>\n",
              "      <td>1078800</td>\n",
              "    </tr>\n",
              "    <tr>\n",
              "      <th>4468</th>\n",
              "      <td>2022-05-18</td>\n",
              "      <td>2304.750000</td>\n",
              "      <td>2313.913086</td>\n",
              "      <td>2242.840088</td>\n",
              "      <td>2248.020020</td>\n",
              "      <td>2248.020020</td>\n",
              "      <td>1399100</td>\n",
              "    </tr>\n",
              "    <tr>\n",
              "      <th>4469</th>\n",
              "      <td>2022-05-19</td>\n",
              "      <td>2236.820068</td>\n",
              "      <td>2271.750000</td>\n",
              "      <td>2209.360107</td>\n",
              "      <td>2214.909912</td>\n",
              "      <td>2214.909912</td>\n",
              "      <td>1459600</td>\n",
              "    </tr>\n",
              "    <tr>\n",
              "      <th>4470</th>\n",
              "      <td>2022-05-20</td>\n",
              "      <td>2241.709961</td>\n",
              "      <td>2251.000000</td>\n",
              "      <td>2127.459961</td>\n",
              "      <td>2186.260010</td>\n",
              "      <td>2186.260010</td>\n",
              "      <td>1878100</td>\n",
              "    </tr>\n",
              "  </tbody>\n",
              "</table>\n",
              "</div>"
            ],
            "text/plain": [
              "            Date         Open         High          Low        Close  \\\n",
              "4466  2022-05-16  2307.679932  2332.149902  2286.699951  2295.850098   \n",
              "4467  2022-05-17  2344.550049  2344.550049  2306.750000  2334.030029   \n",
              "4468  2022-05-18  2304.750000  2313.913086  2242.840088  2248.020020   \n",
              "4469  2022-05-19  2236.820068  2271.750000  2209.360107  2214.909912   \n",
              "4470  2022-05-20  2241.709961  2251.000000  2127.459961  2186.260010   \n",
              "\n",
              "        Adj Close   Volume  \n",
              "4466  2295.850098  1164100  \n",
              "4467  2334.030029  1078800  \n",
              "4468  2248.020020  1399100  \n",
              "4469  2214.909912  1459600  \n",
              "4470  2186.260010  1878100  "
            ]
          },
          "execution_count": 53,
          "metadata": {},
          "output_type": "execute_result"
        }
      ],
      "source": [
        "google.tail()"
      ]
    },
    {
      "cell_type": "code",
      "execution_count": 54,
      "metadata": {
        "id": "CzuKruY-zxRT"
      },
      "outputs": [],
      "source": [
        "google['Date'] = pd.to_datetime(google['Date'])"
      ]
    },
    {
      "cell_type": "code",
      "execution_count": 55,
      "metadata": {},
      "outputs": [
        {
          "name": "stdout",
          "output_type": "stream",
          "text": [
            "<class 'pandas.core.frame.DataFrame'>\n",
            "RangeIndex: 4471 entries, 0 to 4470\n",
            "Data columns (total 7 columns):\n",
            " #   Column     Non-Null Count  Dtype         \n",
            "---  ------     --------------  -----         \n",
            " 0   Date       4471 non-null   datetime64[ns]\n",
            " 1   Open       4471 non-null   float64       \n",
            " 2   High       4471 non-null   float64       \n",
            " 3   Low        4471 non-null   float64       \n",
            " 4   Close      4471 non-null   float64       \n",
            " 5   Adj Close  4471 non-null   float64       \n",
            " 6   Volume     4471 non-null   int64         \n",
            "dtypes: datetime64[ns](1), float64(5), int64(1)\n",
            "memory usage: 244.6 KB\n"
          ]
        }
      ],
      "source": [
        "google.info()"
      ]
    },
    {
      "cell_type": "code",
      "execution_count": 56,
      "metadata": {},
      "outputs": [
        {
          "data": {
            "text/html": [
              "<div>\n",
              "<style scoped>\n",
              "    .dataframe tbody tr th:only-of-type {\n",
              "        vertical-align: middle;\n",
              "    }\n",
              "\n",
              "    .dataframe tbody tr th {\n",
              "        vertical-align: top;\n",
              "    }\n",
              "\n",
              "    .dataframe thead th {\n",
              "        text-align: right;\n",
              "    }\n",
              "</style>\n",
              "<table border=\"1\" class=\"dataframe\">\n",
              "  <thead>\n",
              "    <tr style=\"text-align: right;\">\n",
              "      <th></th>\n",
              "      <th>Date</th>\n",
              "      <th>Open</th>\n",
              "      <th>High</th>\n",
              "      <th>Low</th>\n",
              "      <th>Close</th>\n",
              "      <th>Adj Close</th>\n",
              "      <th>Volume</th>\n",
              "    </tr>\n",
              "  </thead>\n",
              "  <tbody>\n",
              "    <tr>\n",
              "      <th>0</th>\n",
              "      <td>2004-08-19</td>\n",
              "      <td>49.813290</td>\n",
              "      <td>51.835709</td>\n",
              "      <td>47.800831</td>\n",
              "      <td>49.982655</td>\n",
              "      <td>49.982655</td>\n",
              "      <td>44871361</td>\n",
              "    </tr>\n",
              "    <tr>\n",
              "      <th>1</th>\n",
              "      <td>2004-08-20</td>\n",
              "      <td>50.316402</td>\n",
              "      <td>54.336334</td>\n",
              "      <td>50.062355</td>\n",
              "      <td>53.952770</td>\n",
              "      <td>53.952770</td>\n",
              "      <td>22942874</td>\n",
              "    </tr>\n",
              "    <tr>\n",
              "      <th>2</th>\n",
              "      <td>2004-08-23</td>\n",
              "      <td>55.168217</td>\n",
              "      <td>56.528118</td>\n",
              "      <td>54.321388</td>\n",
              "      <td>54.495735</td>\n",
              "      <td>54.495735</td>\n",
              "      <td>18342897</td>\n",
              "    </tr>\n",
              "    <tr>\n",
              "      <th>3</th>\n",
              "      <td>2004-08-24</td>\n",
              "      <td>55.412300</td>\n",
              "      <td>55.591629</td>\n",
              "      <td>51.591621</td>\n",
              "      <td>52.239197</td>\n",
              "      <td>52.239197</td>\n",
              "      <td>15319808</td>\n",
              "    </tr>\n",
              "    <tr>\n",
              "      <th>4</th>\n",
              "      <td>2004-08-25</td>\n",
              "      <td>52.284027</td>\n",
              "      <td>53.798351</td>\n",
              "      <td>51.746044</td>\n",
              "      <td>52.802086</td>\n",
              "      <td>52.802086</td>\n",
              "      <td>9232276</td>\n",
              "    </tr>\n",
              "    <tr>\n",
              "      <th>...</th>\n",
              "      <td>...</td>\n",
              "      <td>...</td>\n",
              "      <td>...</td>\n",
              "      <td>...</td>\n",
              "      <td>...</td>\n",
              "      <td>...</td>\n",
              "      <td>...</td>\n",
              "    </tr>\n",
              "    <tr>\n",
              "      <th>4466</th>\n",
              "      <td>2022-05-16</td>\n",
              "      <td>2307.679932</td>\n",
              "      <td>2332.149902</td>\n",
              "      <td>2286.699951</td>\n",
              "      <td>2295.850098</td>\n",
              "      <td>2295.850098</td>\n",
              "      <td>1164100</td>\n",
              "    </tr>\n",
              "    <tr>\n",
              "      <th>4467</th>\n",
              "      <td>2022-05-17</td>\n",
              "      <td>2344.550049</td>\n",
              "      <td>2344.550049</td>\n",
              "      <td>2306.750000</td>\n",
              "      <td>2334.030029</td>\n",
              "      <td>2334.030029</td>\n",
              "      <td>1078800</td>\n",
              "    </tr>\n",
              "    <tr>\n",
              "      <th>4468</th>\n",
              "      <td>2022-05-18</td>\n",
              "      <td>2304.750000</td>\n",
              "      <td>2313.913086</td>\n",
              "      <td>2242.840088</td>\n",
              "      <td>2248.020020</td>\n",
              "      <td>2248.020020</td>\n",
              "      <td>1399100</td>\n",
              "    </tr>\n",
              "    <tr>\n",
              "      <th>4469</th>\n",
              "      <td>2022-05-19</td>\n",
              "      <td>2236.820068</td>\n",
              "      <td>2271.750000</td>\n",
              "      <td>2209.360107</td>\n",
              "      <td>2214.909912</td>\n",
              "      <td>2214.909912</td>\n",
              "      <td>1459600</td>\n",
              "    </tr>\n",
              "    <tr>\n",
              "      <th>4470</th>\n",
              "      <td>2022-05-20</td>\n",
              "      <td>2241.709961</td>\n",
              "      <td>2251.000000</td>\n",
              "      <td>2127.459961</td>\n",
              "      <td>2186.260010</td>\n",
              "      <td>2186.260010</td>\n",
              "      <td>1878100</td>\n",
              "    </tr>\n",
              "  </tbody>\n",
              "</table>\n",
              "<p>4471 rows × 7 columns</p>\n",
              "</div>"
            ],
            "text/plain": [
              "           Date         Open         High          Low        Close  \\\n",
              "0    2004-08-19    49.813290    51.835709    47.800831    49.982655   \n",
              "1    2004-08-20    50.316402    54.336334    50.062355    53.952770   \n",
              "2    2004-08-23    55.168217    56.528118    54.321388    54.495735   \n",
              "3    2004-08-24    55.412300    55.591629    51.591621    52.239197   \n",
              "4    2004-08-25    52.284027    53.798351    51.746044    52.802086   \n",
              "...         ...          ...          ...          ...          ...   \n",
              "4466 2022-05-16  2307.679932  2332.149902  2286.699951  2295.850098   \n",
              "4467 2022-05-17  2344.550049  2344.550049  2306.750000  2334.030029   \n",
              "4468 2022-05-18  2304.750000  2313.913086  2242.840088  2248.020020   \n",
              "4469 2022-05-19  2236.820068  2271.750000  2209.360107  2214.909912   \n",
              "4470 2022-05-20  2241.709961  2251.000000  2127.459961  2186.260010   \n",
              "\n",
              "        Adj Close    Volume  \n",
              "0       49.982655  44871361  \n",
              "1       53.952770  22942874  \n",
              "2       54.495735  18342897  \n",
              "3       52.239197  15319808  \n",
              "4       52.802086   9232276  \n",
              "...           ...       ...  \n",
              "4466  2295.850098   1164100  \n",
              "4467  2334.030029   1078800  \n",
              "4468  2248.020020   1399100  \n",
              "4469  2214.909912   1459600  \n",
              "4470  2186.260010   1878100  \n",
              "\n",
              "[4471 rows x 7 columns]"
            ]
          },
          "execution_count": 56,
          "metadata": {},
          "output_type": "execute_result"
        }
      ],
      "source": [
        "google"
      ]
    },
    {
      "cell_type": "code",
      "execution_count": 57,
      "metadata": {
        "id": "V2BkTWeAiwtS"
      },
      "outputs": [],
      "source": [
        "google.set_index('Date',inplace=True)"
      ]
    },
    {
      "cell_type": "code",
      "execution_count": 58,
      "metadata": {},
      "outputs": [
        {
          "data": {
            "text/html": [
              "<div>\n",
              "<style scoped>\n",
              "    .dataframe tbody tr th:only-of-type {\n",
              "        vertical-align: middle;\n",
              "    }\n",
              "\n",
              "    .dataframe tbody tr th {\n",
              "        vertical-align: top;\n",
              "    }\n",
              "\n",
              "    .dataframe thead th {\n",
              "        text-align: right;\n",
              "    }\n",
              "</style>\n",
              "<table border=\"1\" class=\"dataframe\">\n",
              "  <thead>\n",
              "    <tr style=\"text-align: right;\">\n",
              "      <th></th>\n",
              "      <th>Open</th>\n",
              "      <th>High</th>\n",
              "      <th>Low</th>\n",
              "      <th>Close</th>\n",
              "      <th>Adj Close</th>\n",
              "      <th>Volume</th>\n",
              "    </tr>\n",
              "    <tr>\n",
              "      <th>Date</th>\n",
              "      <th></th>\n",
              "      <th></th>\n",
              "      <th></th>\n",
              "      <th></th>\n",
              "      <th></th>\n",
              "      <th></th>\n",
              "    </tr>\n",
              "  </thead>\n",
              "  <tbody>\n",
              "    <tr>\n",
              "      <th>2004-08-19</th>\n",
              "      <td>49.813290</td>\n",
              "      <td>51.835709</td>\n",
              "      <td>47.800831</td>\n",
              "      <td>49.982655</td>\n",
              "      <td>49.982655</td>\n",
              "      <td>44871361</td>\n",
              "    </tr>\n",
              "    <tr>\n",
              "      <th>2004-08-20</th>\n",
              "      <td>50.316402</td>\n",
              "      <td>54.336334</td>\n",
              "      <td>50.062355</td>\n",
              "      <td>53.952770</td>\n",
              "      <td>53.952770</td>\n",
              "      <td>22942874</td>\n",
              "    </tr>\n",
              "    <tr>\n",
              "      <th>2004-08-23</th>\n",
              "      <td>55.168217</td>\n",
              "      <td>56.528118</td>\n",
              "      <td>54.321388</td>\n",
              "      <td>54.495735</td>\n",
              "      <td>54.495735</td>\n",
              "      <td>18342897</td>\n",
              "    </tr>\n",
              "    <tr>\n",
              "      <th>2004-08-24</th>\n",
              "      <td>55.412300</td>\n",
              "      <td>55.591629</td>\n",
              "      <td>51.591621</td>\n",
              "      <td>52.239197</td>\n",
              "      <td>52.239197</td>\n",
              "      <td>15319808</td>\n",
              "    </tr>\n",
              "    <tr>\n",
              "      <th>2004-08-25</th>\n",
              "      <td>52.284027</td>\n",
              "      <td>53.798351</td>\n",
              "      <td>51.746044</td>\n",
              "      <td>52.802086</td>\n",
              "      <td>52.802086</td>\n",
              "      <td>9232276</td>\n",
              "    </tr>\n",
              "    <tr>\n",
              "      <th>...</th>\n",
              "      <td>...</td>\n",
              "      <td>...</td>\n",
              "      <td>...</td>\n",
              "      <td>...</td>\n",
              "      <td>...</td>\n",
              "      <td>...</td>\n",
              "    </tr>\n",
              "    <tr>\n",
              "      <th>2022-05-16</th>\n",
              "      <td>2307.679932</td>\n",
              "      <td>2332.149902</td>\n",
              "      <td>2286.699951</td>\n",
              "      <td>2295.850098</td>\n",
              "      <td>2295.850098</td>\n",
              "      <td>1164100</td>\n",
              "    </tr>\n",
              "    <tr>\n",
              "      <th>2022-05-17</th>\n",
              "      <td>2344.550049</td>\n",
              "      <td>2344.550049</td>\n",
              "      <td>2306.750000</td>\n",
              "      <td>2334.030029</td>\n",
              "      <td>2334.030029</td>\n",
              "      <td>1078800</td>\n",
              "    </tr>\n",
              "    <tr>\n",
              "      <th>2022-05-18</th>\n",
              "      <td>2304.750000</td>\n",
              "      <td>2313.913086</td>\n",
              "      <td>2242.840088</td>\n",
              "      <td>2248.020020</td>\n",
              "      <td>2248.020020</td>\n",
              "      <td>1399100</td>\n",
              "    </tr>\n",
              "    <tr>\n",
              "      <th>2022-05-19</th>\n",
              "      <td>2236.820068</td>\n",
              "      <td>2271.750000</td>\n",
              "      <td>2209.360107</td>\n",
              "      <td>2214.909912</td>\n",
              "      <td>2214.909912</td>\n",
              "      <td>1459600</td>\n",
              "    </tr>\n",
              "    <tr>\n",
              "      <th>2022-05-20</th>\n",
              "      <td>2241.709961</td>\n",
              "      <td>2251.000000</td>\n",
              "      <td>2127.459961</td>\n",
              "      <td>2186.260010</td>\n",
              "      <td>2186.260010</td>\n",
              "      <td>1878100</td>\n",
              "    </tr>\n",
              "  </tbody>\n",
              "</table>\n",
              "<p>4471 rows × 6 columns</p>\n",
              "</div>"
            ],
            "text/plain": [
              "                   Open         High          Low        Close    Adj Close  \\\n",
              "Date                                                                          \n",
              "2004-08-19    49.813290    51.835709    47.800831    49.982655    49.982655   \n",
              "2004-08-20    50.316402    54.336334    50.062355    53.952770    53.952770   \n",
              "2004-08-23    55.168217    56.528118    54.321388    54.495735    54.495735   \n",
              "2004-08-24    55.412300    55.591629    51.591621    52.239197    52.239197   \n",
              "2004-08-25    52.284027    53.798351    51.746044    52.802086    52.802086   \n",
              "...                 ...          ...          ...          ...          ...   \n",
              "2022-05-16  2307.679932  2332.149902  2286.699951  2295.850098  2295.850098   \n",
              "2022-05-17  2344.550049  2344.550049  2306.750000  2334.030029  2334.030029   \n",
              "2022-05-18  2304.750000  2313.913086  2242.840088  2248.020020  2248.020020   \n",
              "2022-05-19  2236.820068  2271.750000  2209.360107  2214.909912  2214.909912   \n",
              "2022-05-20  2241.709961  2251.000000  2127.459961  2186.260010  2186.260010   \n",
              "\n",
              "              Volume  \n",
              "Date                  \n",
              "2004-08-19  44871361  \n",
              "2004-08-20  22942874  \n",
              "2004-08-23  18342897  \n",
              "2004-08-24  15319808  \n",
              "2004-08-25   9232276  \n",
              "...              ...  \n",
              "2022-05-16   1164100  \n",
              "2022-05-17   1078800  \n",
              "2022-05-18   1399100  \n",
              "2022-05-19   1459600  \n",
              "2022-05-20   1878100  \n",
              "\n",
              "[4471 rows x 6 columns]"
            ]
          },
          "execution_count": 58,
          "metadata": {},
          "output_type": "execute_result"
        }
      ],
      "source": [
        "google"
      ]
    },
    {
      "cell_type": "code",
      "execution_count": 59,
      "metadata": {
        "colab": {
          "base_uri": "https://localhost:8080/"
        },
        "id": "sY0z0ZhDjVie",
        "outputId": "f9547abe-43a7-43e5-81d8-ccc2d7e4c8df"
      },
      "outputs": [
        {
          "data": {
            "text/plain": [
              "Open           2929.000000\n",
              "High           2941.250000\n",
              "Low            2915.169922\n",
              "Close          2920.050049\n",
              "Adj Close      2920.050049\n",
              "Volume       648900.000000\n",
              "Name: 2021-12-30 00:00:00, dtype: float64"
            ]
          },
          "execution_count": 59,
          "metadata": {},
          "output_type": "execute_result"
        }
      ],
      "source": [
        "# fetch a specific date\n",
        "google.loc['2021-12-30']"
      ]
    },
    {
      "cell_type": "code",
      "execution_count": 60,
      "metadata": {},
      "outputs": [
        {
          "data": {
            "text/plain": [
              "DatetimeIndex(['2004-08-19', '2004-08-20', '2004-08-23', '2004-08-24',\n",
              "               '2004-08-25', '2004-08-26', '2004-08-27', '2004-08-30',\n",
              "               '2004-08-31', '2004-09-01',\n",
              "               ...\n",
              "               '2022-05-09', '2022-05-10', '2022-05-11', '2022-05-12',\n",
              "               '2022-05-13', '2022-05-16', '2022-05-17', '2022-05-18',\n",
              "               '2022-05-19', '2022-05-20'],\n",
              "              dtype='datetime64[ns]', name='Date', length=4471, freq=None)"
            ]
          },
          "execution_count": 60,
          "metadata": {},
          "output_type": "execute_result"
        }
      ],
      "source": [
        "google.index"
      ]
    },
    {
      "cell_type": "code",
      "execution_count": 61,
      "metadata": {},
      "outputs": [
        {
          "data": {
            "text/plain": [
              "Index(['August', 'August', 'August', 'August', 'August', 'August', 'August',\n",
              "       'August', 'August', 'September',\n",
              "       ...\n",
              "       'May', 'May', 'May', 'May', 'May', 'May', 'May', 'May', 'May', 'May'],\n",
              "      dtype='object', name='Date', length=4471)"
            ]
          },
          "execution_count": 61,
          "metadata": {},
          "output_type": "execute_result"
        }
      ],
      "source": [
        "google.index.month_name()"
      ]
    },
    {
      "cell_type": "code",
      "execution_count": 62,
      "metadata": {
        "colab": {
          "base_uri": "https://localhost:8080/",
          "height": 238
        },
        "id": "be_ZwtM0sMNc",
        "outputId": "ab81d172-e442-4a7b-925c-56143b10a16d"
      },
      "outputs": [
        {
          "data": {
            "text/html": [
              "<div>\n",
              "<style scoped>\n",
              "    .dataframe tbody tr th:only-of-type {\n",
              "        vertical-align: middle;\n",
              "    }\n",
              "\n",
              "    .dataframe tbody tr th {\n",
              "        vertical-align: top;\n",
              "    }\n",
              "\n",
              "    .dataframe thead th {\n",
              "        text-align: right;\n",
              "    }\n",
              "</style>\n",
              "<table border=\"1\" class=\"dataframe\">\n",
              "  <thead>\n",
              "    <tr style=\"text-align: right;\">\n",
              "      <th></th>\n",
              "      <th>Open</th>\n",
              "      <th>High</th>\n",
              "      <th>Low</th>\n",
              "      <th>Close</th>\n",
              "      <th>Adj Close</th>\n",
              "      <th>Volume</th>\n",
              "      <th>month_name</th>\n",
              "      <th>weekday_name</th>\n",
              "      <th>quarter</th>\n",
              "    </tr>\n",
              "    <tr>\n",
              "      <th>Date</th>\n",
              "      <th></th>\n",
              "      <th></th>\n",
              "      <th></th>\n",
              "      <th></th>\n",
              "      <th></th>\n",
              "      <th></th>\n",
              "      <th></th>\n",
              "      <th></th>\n",
              "      <th></th>\n",
              "    </tr>\n",
              "  </thead>\n",
              "  <tbody>\n",
              "    <tr>\n",
              "      <th>2004-08-19</th>\n",
              "      <td>49.813290</td>\n",
              "      <td>51.835709</td>\n",
              "      <td>47.800831</td>\n",
              "      <td>49.982655</td>\n",
              "      <td>49.982655</td>\n",
              "      <td>44871361</td>\n",
              "      <td>August</td>\n",
              "      <td>Thursday</td>\n",
              "      <td>3</td>\n",
              "    </tr>\n",
              "    <tr>\n",
              "      <th>2004-08-20</th>\n",
              "      <td>50.316402</td>\n",
              "      <td>54.336334</td>\n",
              "      <td>50.062355</td>\n",
              "      <td>53.952770</td>\n",
              "      <td>53.952770</td>\n",
              "      <td>22942874</td>\n",
              "      <td>August</td>\n",
              "      <td>Friday</td>\n",
              "      <td>3</td>\n",
              "    </tr>\n",
              "    <tr>\n",
              "      <th>2004-08-23</th>\n",
              "      <td>55.168217</td>\n",
              "      <td>56.528118</td>\n",
              "      <td>54.321388</td>\n",
              "      <td>54.495735</td>\n",
              "      <td>54.495735</td>\n",
              "      <td>18342897</td>\n",
              "      <td>August</td>\n",
              "      <td>Monday</td>\n",
              "      <td>3</td>\n",
              "    </tr>\n",
              "    <tr>\n",
              "      <th>2004-08-24</th>\n",
              "      <td>55.412300</td>\n",
              "      <td>55.591629</td>\n",
              "      <td>51.591621</td>\n",
              "      <td>52.239197</td>\n",
              "      <td>52.239197</td>\n",
              "      <td>15319808</td>\n",
              "      <td>August</td>\n",
              "      <td>Tuesday</td>\n",
              "      <td>3</td>\n",
              "    </tr>\n",
              "    <tr>\n",
              "      <th>2004-08-25</th>\n",
              "      <td>52.284027</td>\n",
              "      <td>53.798351</td>\n",
              "      <td>51.746044</td>\n",
              "      <td>52.802086</td>\n",
              "      <td>52.802086</td>\n",
              "      <td>9232276</td>\n",
              "      <td>August</td>\n",
              "      <td>Wednesday</td>\n",
              "      <td>3</td>\n",
              "    </tr>\n",
              "  </tbody>\n",
              "</table>\n",
              "</div>"
            ],
            "text/plain": [
              "                 Open       High        Low      Close  Adj Close    Volume  \\\n",
              "Date                                                                          \n",
              "2004-08-19  49.813290  51.835709  47.800831  49.982655  49.982655  44871361   \n",
              "2004-08-20  50.316402  54.336334  50.062355  53.952770  53.952770  22942874   \n",
              "2004-08-23  55.168217  56.528118  54.321388  54.495735  54.495735  18342897   \n",
              "2004-08-24  55.412300  55.591629  51.591621  52.239197  52.239197  15319808   \n",
              "2004-08-25  52.284027  53.798351  51.746044  52.802086  52.802086   9232276   \n",
              "\n",
              "           month_name weekday_name  quarter  \n",
              "Date                                         \n",
              "2004-08-19     August     Thursday        3  \n",
              "2004-08-20     August       Friday        3  \n",
              "2004-08-23     August       Monday        3  \n",
              "2004-08-24     August      Tuesday        3  \n",
              "2004-08-25     August    Wednesday        3  "
            ]
          },
          "execution_count": 62,
          "metadata": {},
          "output_type": "execute_result"
        }
      ],
      "source": [
        "google['month_name'] = google.index.month_name()\n",
        "google['weekday_name'] = google.index.day_name()\n",
        "google['quarter'] = google.index.quarter\n",
        "\n",
        "google.head()"
      ]
    },
    {
      "cell_type": "code",
      "execution_count": 63,
      "metadata": {},
      "outputs": [
        {
          "data": {
            "text/html": [
              "<div>\n",
              "<style scoped>\n",
              "    .dataframe tbody tr th:only-of-type {\n",
              "        vertical-align: middle;\n",
              "    }\n",
              "\n",
              "    .dataframe tbody tr th {\n",
              "        vertical-align: top;\n",
              "    }\n",
              "\n",
              "    .dataframe thead th {\n",
              "        text-align: right;\n",
              "    }\n",
              "</style>\n",
              "<table border=\"1\" class=\"dataframe\">\n",
              "  <thead>\n",
              "    <tr style=\"text-align: right;\">\n",
              "      <th></th>\n",
              "      <th>Open</th>\n",
              "      <th>High</th>\n",
              "      <th>Low</th>\n",
              "      <th>Close</th>\n",
              "      <th>Adj Close</th>\n",
              "      <th>Volume</th>\n",
              "      <th>month_name</th>\n",
              "      <th>weekday_name</th>\n",
              "      <th>quarter</th>\n",
              "    </tr>\n",
              "    <tr>\n",
              "      <th>Date</th>\n",
              "      <th></th>\n",
              "      <th></th>\n",
              "      <th></th>\n",
              "      <th></th>\n",
              "      <th></th>\n",
              "      <th></th>\n",
              "      <th></th>\n",
              "      <th></th>\n",
              "      <th></th>\n",
              "    </tr>\n",
              "  </thead>\n",
              "  <tbody>\n",
              "    <tr>\n",
              "      <th>2004-08-19</th>\n",
              "      <td>49.813290</td>\n",
              "      <td>51.835709</td>\n",
              "      <td>47.800831</td>\n",
              "      <td>49.982655</td>\n",
              "      <td>49.982655</td>\n",
              "      <td>44871361</td>\n",
              "      <td>August</td>\n",
              "      <td>Thursday</td>\n",
              "      <td>3</td>\n",
              "    </tr>\n",
              "    <tr>\n",
              "      <th>2004-08-20</th>\n",
              "      <td>50.316402</td>\n",
              "      <td>54.336334</td>\n",
              "      <td>50.062355</td>\n",
              "      <td>53.952770</td>\n",
              "      <td>53.952770</td>\n",
              "      <td>22942874</td>\n",
              "      <td>August</td>\n",
              "      <td>Friday</td>\n",
              "      <td>3</td>\n",
              "    </tr>\n",
              "    <tr>\n",
              "      <th>2004-08-23</th>\n",
              "      <td>55.168217</td>\n",
              "      <td>56.528118</td>\n",
              "      <td>54.321388</td>\n",
              "      <td>54.495735</td>\n",
              "      <td>54.495735</td>\n",
              "      <td>18342897</td>\n",
              "      <td>August</td>\n",
              "      <td>Monday</td>\n",
              "      <td>3</td>\n",
              "    </tr>\n",
              "    <tr>\n",
              "      <th>2004-08-24</th>\n",
              "      <td>55.412300</td>\n",
              "      <td>55.591629</td>\n",
              "      <td>51.591621</td>\n",
              "      <td>52.239197</td>\n",
              "      <td>52.239197</td>\n",
              "      <td>15319808</td>\n",
              "      <td>August</td>\n",
              "      <td>Tuesday</td>\n",
              "      <td>3</td>\n",
              "    </tr>\n",
              "    <tr>\n",
              "      <th>2004-08-25</th>\n",
              "      <td>52.284027</td>\n",
              "      <td>53.798351</td>\n",
              "      <td>51.746044</td>\n",
              "      <td>52.802086</td>\n",
              "      <td>52.802086</td>\n",
              "      <td>9232276</td>\n",
              "      <td>August</td>\n",
              "      <td>Wednesday</td>\n",
              "      <td>3</td>\n",
              "    </tr>\n",
              "    <tr>\n",
              "      <th>...</th>\n",
              "      <td>...</td>\n",
              "      <td>...</td>\n",
              "      <td>...</td>\n",
              "      <td>...</td>\n",
              "      <td>...</td>\n",
              "      <td>...</td>\n",
              "      <td>...</td>\n",
              "      <td>...</td>\n",
              "      <td>...</td>\n",
              "    </tr>\n",
              "    <tr>\n",
              "      <th>2022-05-16</th>\n",
              "      <td>2307.679932</td>\n",
              "      <td>2332.149902</td>\n",
              "      <td>2286.699951</td>\n",
              "      <td>2295.850098</td>\n",
              "      <td>2295.850098</td>\n",
              "      <td>1164100</td>\n",
              "      <td>May</td>\n",
              "      <td>Monday</td>\n",
              "      <td>2</td>\n",
              "    </tr>\n",
              "    <tr>\n",
              "      <th>2022-05-17</th>\n",
              "      <td>2344.550049</td>\n",
              "      <td>2344.550049</td>\n",
              "      <td>2306.750000</td>\n",
              "      <td>2334.030029</td>\n",
              "      <td>2334.030029</td>\n",
              "      <td>1078800</td>\n",
              "      <td>May</td>\n",
              "      <td>Tuesday</td>\n",
              "      <td>2</td>\n",
              "    </tr>\n",
              "    <tr>\n",
              "      <th>2022-05-18</th>\n",
              "      <td>2304.750000</td>\n",
              "      <td>2313.913086</td>\n",
              "      <td>2242.840088</td>\n",
              "      <td>2248.020020</td>\n",
              "      <td>2248.020020</td>\n",
              "      <td>1399100</td>\n",
              "      <td>May</td>\n",
              "      <td>Wednesday</td>\n",
              "      <td>2</td>\n",
              "    </tr>\n",
              "    <tr>\n",
              "      <th>2022-05-19</th>\n",
              "      <td>2236.820068</td>\n",
              "      <td>2271.750000</td>\n",
              "      <td>2209.360107</td>\n",
              "      <td>2214.909912</td>\n",
              "      <td>2214.909912</td>\n",
              "      <td>1459600</td>\n",
              "      <td>May</td>\n",
              "      <td>Thursday</td>\n",
              "      <td>2</td>\n",
              "    </tr>\n",
              "    <tr>\n",
              "      <th>2022-05-20</th>\n",
              "      <td>2241.709961</td>\n",
              "      <td>2251.000000</td>\n",
              "      <td>2127.459961</td>\n",
              "      <td>2186.260010</td>\n",
              "      <td>2186.260010</td>\n",
              "      <td>1878100</td>\n",
              "      <td>May</td>\n",
              "      <td>Friday</td>\n",
              "      <td>2</td>\n",
              "    </tr>\n",
              "  </tbody>\n",
              "</table>\n",
              "<p>4471 rows × 9 columns</p>\n",
              "</div>"
            ],
            "text/plain": [
              "                   Open         High          Low        Close    Adj Close  \\\n",
              "Date                                                                          \n",
              "2004-08-19    49.813290    51.835709    47.800831    49.982655    49.982655   \n",
              "2004-08-20    50.316402    54.336334    50.062355    53.952770    53.952770   \n",
              "2004-08-23    55.168217    56.528118    54.321388    54.495735    54.495735   \n",
              "2004-08-24    55.412300    55.591629    51.591621    52.239197    52.239197   \n",
              "2004-08-25    52.284027    53.798351    51.746044    52.802086    52.802086   \n",
              "...                 ...          ...          ...          ...          ...   \n",
              "2022-05-16  2307.679932  2332.149902  2286.699951  2295.850098  2295.850098   \n",
              "2022-05-17  2344.550049  2344.550049  2306.750000  2334.030029  2334.030029   \n",
              "2022-05-18  2304.750000  2313.913086  2242.840088  2248.020020  2248.020020   \n",
              "2022-05-19  2236.820068  2271.750000  2209.360107  2214.909912  2214.909912   \n",
              "2022-05-20  2241.709961  2251.000000  2127.459961  2186.260010  2186.260010   \n",
              "\n",
              "              Volume month_name weekday_name  quarter  \n",
              "Date                                                   \n",
              "2004-08-19  44871361     August     Thursday        3  \n",
              "2004-08-20  22942874     August       Friday        3  \n",
              "2004-08-23  18342897     August       Monday        3  \n",
              "2004-08-24  15319808     August      Tuesday        3  \n",
              "2004-08-25   9232276     August    Wednesday        3  \n",
              "...              ...        ...          ...      ...  \n",
              "2022-05-16   1164100        May       Monday        2  \n",
              "2022-05-17   1078800        May      Tuesday        2  \n",
              "2022-05-18   1399100        May    Wednesday        2  \n",
              "2022-05-19   1459600        May     Thursday        2  \n",
              "2022-05-20   1878100        May       Friday        2  \n",
              "\n",
              "[4471 rows x 9 columns]"
            ]
          },
          "execution_count": 63,
          "metadata": {},
          "output_type": "execute_result"
        }
      ],
      "source": [
        "google"
      ]
    },
    {
      "cell_type": "code",
      "execution_count": 73,
      "metadata": {
        "colab": {
          "base_uri": "https://localhost:8080/",
          "height": 488
        },
        "id": "Aljj1y6zA9q9",
        "outputId": "196821d2-ccc6-4adb-bcbf-9e4189ac9b8c"
      },
      "outputs": [
        {
          "data": {
            "text/html": [
              "<div>\n",
              "<style scoped>\n",
              "    .dataframe tbody tr th:only-of-type {\n",
              "        vertical-align: middle;\n",
              "    }\n",
              "\n",
              "    .dataframe tbody tr th {\n",
              "        vertical-align: top;\n",
              "    }\n",
              "\n",
              "    .dataframe thead th {\n",
              "        text-align: right;\n",
              "    }\n",
              "</style>\n",
              "<table border=\"1\" class=\"dataframe\">\n",
              "  <thead>\n",
              "    <tr style=\"text-align: right;\">\n",
              "      <th></th>\n",
              "      <th>Open</th>\n",
              "      <th>High</th>\n",
              "      <th>Low</th>\n",
              "      <th>Close</th>\n",
              "      <th>Adj Close</th>\n",
              "      <th>Volume</th>\n",
              "      <th>month_name</th>\n",
              "    </tr>\n",
              "    <tr>\n",
              "      <th>Date</th>\n",
              "      <th></th>\n",
              "      <th></th>\n",
              "      <th></th>\n",
              "      <th></th>\n",
              "      <th></th>\n",
              "      <th></th>\n",
              "      <th></th>\n",
              "    </tr>\n",
              "  </thead>\n",
              "  <tbody>\n",
              "    <tr>\n",
              "      <th>2005-01-06</th>\n",
              "      <td>97.175758</td>\n",
              "      <td>97.584229</td>\n",
              "      <td>93.509506</td>\n",
              "      <td>93.922951</td>\n",
              "      <td>93.922951</td>\n",
              "      <td>20852067</td>\n",
              "      <td>January</td>\n",
              "    </tr>\n",
              "    <tr>\n",
              "      <th>2006-01-06</th>\n",
              "      <td>227.581970</td>\n",
              "      <td>234.371521</td>\n",
              "      <td>225.773743</td>\n",
              "      <td>231.960556</td>\n",
              "      <td>231.960556</td>\n",
              "      <td>35646914</td>\n",
              "      <td>January</td>\n",
              "    </tr>\n",
              "    <tr>\n",
              "      <th>2009-01-06</th>\n",
              "      <td>165.868286</td>\n",
              "      <td>169.763687</td>\n",
              "      <td>162.585587</td>\n",
              "      <td>166.406265</td>\n",
              "      <td>166.406265</td>\n",
              "      <td>12898566</td>\n",
              "      <td>January</td>\n",
              "    </tr>\n",
              "    <tr>\n",
              "      <th>2010-01-06</th>\n",
              "      <td>311.761444</td>\n",
              "      <td>311.761444</td>\n",
              "      <td>302.047852</td>\n",
              "      <td>302.994293</td>\n",
              "      <td>302.994293</td>\n",
              "      <td>7987226</td>\n",
              "      <td>January</td>\n",
              "    </tr>\n",
              "    <tr>\n",
              "      <th>2011-01-06</th>\n",
              "      <td>304.199799</td>\n",
              "      <td>308.060303</td>\n",
              "      <td>303.885956</td>\n",
              "      <td>305.604523</td>\n",
              "      <td>305.604523</td>\n",
              "      <td>4131026</td>\n",
              "      <td>January</td>\n",
              "    </tr>\n",
              "    <tr>\n",
              "      <th>2012-01-06</th>\n",
              "      <td>328.344299</td>\n",
              "      <td>328.767700</td>\n",
              "      <td>323.681763</td>\n",
              "      <td>323.796326</td>\n",
              "      <td>323.796326</td>\n",
              "      <td>5405987</td>\n",
              "      <td>January</td>\n",
              "    </tr>\n",
              "    <tr>\n",
              "      <th>2014-01-06</th>\n",
              "      <td>554.426880</td>\n",
              "      <td>557.340942</td>\n",
              "      <td>551.154114</td>\n",
              "      <td>556.573853</td>\n",
              "      <td>556.573853</td>\n",
              "      <td>3551864</td>\n",
              "      <td>January</td>\n",
              "    </tr>\n",
              "    <tr>\n",
              "      <th>2015-01-06</th>\n",
              "      <td>513.589966</td>\n",
              "      <td>514.761719</td>\n",
              "      <td>499.678131</td>\n",
              "      <td>500.585632</td>\n",
              "      <td>500.585632</td>\n",
              "      <td>2899940</td>\n",
              "      <td>January</td>\n",
              "    </tr>\n",
              "    <tr>\n",
              "      <th>2016-01-06</th>\n",
              "      <td>730.000000</td>\n",
              "      <td>747.179993</td>\n",
              "      <td>728.919983</td>\n",
              "      <td>743.619995</td>\n",
              "      <td>743.619995</td>\n",
              "      <td>1947000</td>\n",
              "      <td>January</td>\n",
              "    </tr>\n",
              "    <tr>\n",
              "      <th>2017-01-06</th>\n",
              "      <td>795.260010</td>\n",
              "      <td>807.900024</td>\n",
              "      <td>792.203979</td>\n",
              "      <td>806.150024</td>\n",
              "      <td>806.150024</td>\n",
              "      <td>1640200</td>\n",
              "      <td>January</td>\n",
              "    </tr>\n",
              "    <tr>\n",
              "      <th>2020-01-06</th>\n",
              "      <td>1350.000000</td>\n",
              "      <td>1396.500000</td>\n",
              "      <td>1350.000000</td>\n",
              "      <td>1394.209961</td>\n",
              "      <td>1394.209961</td>\n",
              "      <td>1732300</td>\n",
              "      <td>January</td>\n",
              "    </tr>\n",
              "    <tr>\n",
              "      <th>2021-01-06</th>\n",
              "      <td>1702.630005</td>\n",
              "      <td>1748.000000</td>\n",
              "      <td>1699.000000</td>\n",
              "      <td>1735.290039</td>\n",
              "      <td>1735.290039</td>\n",
              "      <td>2602100</td>\n",
              "      <td>January</td>\n",
              "    </tr>\n",
              "    <tr>\n",
              "      <th>2022-01-06</th>\n",
              "      <td>2749.949951</td>\n",
              "      <td>2793.719971</td>\n",
              "      <td>2735.270020</td>\n",
              "      <td>2751.020020</td>\n",
              "      <td>2751.020020</td>\n",
              "      <td>1452500</td>\n",
              "      <td>January</td>\n",
              "    </tr>\n",
              "  </tbody>\n",
              "</table>\n",
              "</div>"
            ],
            "text/plain": [
              "                   Open         High          Low        Close    Adj Close  \\\n",
              "Date                                                                          \n",
              "2005-01-06    97.175758    97.584229    93.509506    93.922951    93.922951   \n",
              "2006-01-06   227.581970   234.371521   225.773743   231.960556   231.960556   \n",
              "2009-01-06   165.868286   169.763687   162.585587   166.406265   166.406265   \n",
              "2010-01-06   311.761444   311.761444   302.047852   302.994293   302.994293   \n",
              "2011-01-06   304.199799   308.060303   303.885956   305.604523   305.604523   \n",
              "2012-01-06   328.344299   328.767700   323.681763   323.796326   323.796326   \n",
              "2014-01-06   554.426880   557.340942   551.154114   556.573853   556.573853   \n",
              "2015-01-06   513.589966   514.761719   499.678131   500.585632   500.585632   \n",
              "2016-01-06   730.000000   747.179993   728.919983   743.619995   743.619995   \n",
              "2017-01-06   795.260010   807.900024   792.203979   806.150024   806.150024   \n",
              "2020-01-06  1350.000000  1396.500000  1350.000000  1394.209961  1394.209961   \n",
              "2021-01-06  1702.630005  1748.000000  1699.000000  1735.290039  1735.290039   \n",
              "2022-01-06  2749.949951  2793.719971  2735.270020  2751.020020  2751.020020   \n",
              "\n",
              "              Volume month_name  \n",
              "Date                             \n",
              "2005-01-06  20852067    January  \n",
              "2006-01-06  35646914    January  \n",
              "2009-01-06  12898566    January  \n",
              "2010-01-06   7987226    January  \n",
              "2011-01-06   4131026    January  \n",
              "2012-01-06   5405987    January  \n",
              "2014-01-06   3551864    January  \n",
              "2015-01-06   2899940    January  \n",
              "2016-01-06   1947000    January  \n",
              "2017-01-06   1640200    January  \n",
              "2020-01-06   1732300    January  \n",
              "2021-01-06   2602100    January  \n",
              "2022-01-06   1452500    January  "
            ]
          },
          "execution_count": 73,
          "metadata": {},
          "output_type": "execute_result"
        }
      ],
      "source": [
        "# challenge -> fetch info for a particular date every year -> limitation of timedelta\n",
        "\n",
        "google[google.index.isin(pd.date_range(start='2005-1-6',end='2022-1-6',freq=pd.DateOffset(years=1)))]"
      ]
    },
    {
      "cell_type": "code",
      "execution_count": 88,
      "metadata": {},
      "outputs": [
        {
          "data": {
            "text/html": [
              "<div>\n",
              "<style scoped>\n",
              "    .dataframe tbody tr th:only-of-type {\n",
              "        vertical-align: middle;\n",
              "    }\n",
              "\n",
              "    .dataframe tbody tr th {\n",
              "        vertical-align: top;\n",
              "    }\n",
              "\n",
              "    .dataframe thead th {\n",
              "        text-align: right;\n",
              "    }\n",
              "</style>\n",
              "<table border=\"1\" class=\"dataframe\">\n",
              "  <thead>\n",
              "    <tr style=\"text-align: right;\">\n",
              "      <th></th>\n",
              "      <th>Open</th>\n",
              "      <th>High</th>\n",
              "      <th>Low</th>\n",
              "      <th>Close</th>\n",
              "      <th>Adj Close</th>\n",
              "      <th>Volume</th>\n",
              "      <th>month_name</th>\n",
              "      <th>weekday_name</th>\n",
              "      <th>quarter</th>\n",
              "    </tr>\n",
              "    <tr>\n",
              "      <th>Date</th>\n",
              "      <th></th>\n",
              "      <th></th>\n",
              "      <th></th>\n",
              "      <th></th>\n",
              "      <th></th>\n",
              "      <th></th>\n",
              "      <th></th>\n",
              "      <th></th>\n",
              "      <th></th>\n",
              "    </tr>\n",
              "  </thead>\n",
              "  <tbody>\n",
              "    <tr>\n",
              "      <th>2005-01-06</th>\n",
              "      <td>97.175758</td>\n",
              "      <td>97.584229</td>\n",
              "      <td>93.509506</td>\n",
              "      <td>93.922951</td>\n",
              "      <td>93.922951</td>\n",
              "      <td>20852067</td>\n",
              "      <td>January</td>\n",
              "      <td>Thursday</td>\n",
              "      <td>1</td>\n",
              "    </tr>\n",
              "    <tr>\n",
              "      <th>2006-01-06</th>\n",
              "      <td>227.581970</td>\n",
              "      <td>234.371521</td>\n",
              "      <td>225.773743</td>\n",
              "      <td>231.960556</td>\n",
              "      <td>231.960556</td>\n",
              "      <td>35646914</td>\n",
              "      <td>January</td>\n",
              "      <td>Friday</td>\n",
              "      <td>1</td>\n",
              "    </tr>\n",
              "    <tr>\n",
              "      <th>2009-01-06</th>\n",
              "      <td>165.868286</td>\n",
              "      <td>169.763687</td>\n",
              "      <td>162.585587</td>\n",
              "      <td>166.406265</td>\n",
              "      <td>166.406265</td>\n",
              "      <td>12898566</td>\n",
              "      <td>January</td>\n",
              "      <td>Tuesday</td>\n",
              "      <td>1</td>\n",
              "    </tr>\n",
              "    <tr>\n",
              "      <th>2010-01-06</th>\n",
              "      <td>311.761444</td>\n",
              "      <td>311.761444</td>\n",
              "      <td>302.047852</td>\n",
              "      <td>302.994293</td>\n",
              "      <td>302.994293</td>\n",
              "      <td>7987226</td>\n",
              "      <td>January</td>\n",
              "      <td>Wednesday</td>\n",
              "      <td>1</td>\n",
              "    </tr>\n",
              "    <tr>\n",
              "      <th>2011-01-06</th>\n",
              "      <td>304.199799</td>\n",
              "      <td>308.060303</td>\n",
              "      <td>303.885956</td>\n",
              "      <td>305.604523</td>\n",
              "      <td>305.604523</td>\n",
              "      <td>4131026</td>\n",
              "      <td>January</td>\n",
              "      <td>Thursday</td>\n",
              "      <td>1</td>\n",
              "    </tr>\n",
              "    <tr>\n",
              "      <th>2012-01-06</th>\n",
              "      <td>328.344299</td>\n",
              "      <td>328.767700</td>\n",
              "      <td>323.681763</td>\n",
              "      <td>323.796326</td>\n",
              "      <td>323.796326</td>\n",
              "      <td>5405987</td>\n",
              "      <td>January</td>\n",
              "      <td>Friday</td>\n",
              "      <td>1</td>\n",
              "    </tr>\n",
              "    <tr>\n",
              "      <th>2014-01-06</th>\n",
              "      <td>554.426880</td>\n",
              "      <td>557.340942</td>\n",
              "      <td>551.154114</td>\n",
              "      <td>556.573853</td>\n",
              "      <td>556.573853</td>\n",
              "      <td>3551864</td>\n",
              "      <td>January</td>\n",
              "      <td>Monday</td>\n",
              "      <td>1</td>\n",
              "    </tr>\n",
              "    <tr>\n",
              "      <th>2015-01-06</th>\n",
              "      <td>513.589966</td>\n",
              "      <td>514.761719</td>\n",
              "      <td>499.678131</td>\n",
              "      <td>500.585632</td>\n",
              "      <td>500.585632</td>\n",
              "      <td>2899940</td>\n",
              "      <td>January</td>\n",
              "      <td>Tuesday</td>\n",
              "      <td>1</td>\n",
              "    </tr>\n",
              "    <tr>\n",
              "      <th>2016-01-06</th>\n",
              "      <td>730.000000</td>\n",
              "      <td>747.179993</td>\n",
              "      <td>728.919983</td>\n",
              "      <td>743.619995</td>\n",
              "      <td>743.619995</td>\n",
              "      <td>1947000</td>\n",
              "      <td>January</td>\n",
              "      <td>Wednesday</td>\n",
              "      <td>1</td>\n",
              "    </tr>\n",
              "    <tr>\n",
              "      <th>2017-01-06</th>\n",
              "      <td>795.260010</td>\n",
              "      <td>807.900024</td>\n",
              "      <td>792.203979</td>\n",
              "      <td>806.150024</td>\n",
              "      <td>806.150024</td>\n",
              "      <td>1640200</td>\n",
              "      <td>January</td>\n",
              "      <td>Friday</td>\n",
              "      <td>1</td>\n",
              "    </tr>\n",
              "    <tr>\n",
              "      <th>2020-01-06</th>\n",
              "      <td>1350.000000</td>\n",
              "      <td>1396.500000</td>\n",
              "      <td>1350.000000</td>\n",
              "      <td>1394.209961</td>\n",
              "      <td>1394.209961</td>\n",
              "      <td>1732300</td>\n",
              "      <td>January</td>\n",
              "      <td>Monday</td>\n",
              "      <td>1</td>\n",
              "    </tr>\n",
              "    <tr>\n",
              "      <th>2021-01-06</th>\n",
              "      <td>1702.630005</td>\n",
              "      <td>1748.000000</td>\n",
              "      <td>1699.000000</td>\n",
              "      <td>1735.290039</td>\n",
              "      <td>1735.290039</td>\n",
              "      <td>2602100</td>\n",
              "      <td>January</td>\n",
              "      <td>Wednesday</td>\n",
              "      <td>1</td>\n",
              "    </tr>\n",
              "    <tr>\n",
              "      <th>2022-01-06</th>\n",
              "      <td>2749.949951</td>\n",
              "      <td>2793.719971</td>\n",
              "      <td>2735.270020</td>\n",
              "      <td>2751.020020</td>\n",
              "      <td>2751.020020</td>\n",
              "      <td>1452500</td>\n",
              "      <td>January</td>\n",
              "      <td>Thursday</td>\n",
              "      <td>1</td>\n",
              "    </tr>\n",
              "  </tbody>\n",
              "</table>\n",
              "</div>"
            ],
            "text/plain": [
              "                   Open         High          Low        Close    Adj Close  \\\n",
              "Date                                                                          \n",
              "2005-01-06    97.175758    97.584229    93.509506    93.922951    93.922951   \n",
              "2006-01-06   227.581970   234.371521   225.773743   231.960556   231.960556   \n",
              "2009-01-06   165.868286   169.763687   162.585587   166.406265   166.406265   \n",
              "2010-01-06   311.761444   311.761444   302.047852   302.994293   302.994293   \n",
              "2011-01-06   304.199799   308.060303   303.885956   305.604523   305.604523   \n",
              "2012-01-06   328.344299   328.767700   323.681763   323.796326   323.796326   \n",
              "2014-01-06   554.426880   557.340942   551.154114   556.573853   556.573853   \n",
              "2015-01-06   513.589966   514.761719   499.678131   500.585632   500.585632   \n",
              "2016-01-06   730.000000   747.179993   728.919983   743.619995   743.619995   \n",
              "2017-01-06   795.260010   807.900024   792.203979   806.150024   806.150024   \n",
              "2020-01-06  1350.000000  1396.500000  1350.000000  1394.209961  1394.209961   \n",
              "2021-01-06  1702.630005  1748.000000  1699.000000  1735.290039  1735.290039   \n",
              "2022-01-06  2749.949951  2793.719971  2735.270020  2751.020020  2751.020020   \n",
              "\n",
              "              Volume month_name weekday_name  quarter  \n",
              "Date                                                   \n",
              "2005-01-06  20852067    January     Thursday        1  \n",
              "2006-01-06  35646914    January       Friday        1  \n",
              "2009-01-06  12898566    January      Tuesday        1  \n",
              "2010-01-06   7987226    January    Wednesday        1  \n",
              "2011-01-06   4131026    January     Thursday        1  \n",
              "2012-01-06   5405987    January       Friday        1  \n",
              "2014-01-06   3551864    January       Monday        1  \n",
              "2015-01-06   2899940    January      Tuesday        1  \n",
              "2016-01-06   1947000    January    Wednesday        1  \n",
              "2017-01-06   1640200    January       Friday        1  \n",
              "2020-01-06   1732300    January       Monday        1  \n",
              "2021-01-06   2602100    January    Wednesday        1  \n",
              "2022-01-06   1452500    January     Thursday        1  "
            ]
          },
          "execution_count": 88,
          "metadata": {},
          "output_type": "execute_result"
        }
      ],
      "source": [
        "google[google.index.isin(pd.date_range(start='2005-1-6',end='2022-1-6',freq=pd.DateOffset(years=1)))]"
      ]
    },
    {
      "attachments": {},
      "cell_type": "markdown",
      "metadata": {},
      "source": [
        "## plotting"
      ]
    },
    {
      "attachments": {},
      "cell_type": "markdown",
      "metadata": {},
      "source": [
        "### single plot or single column"
      ]
    },
    {
      "cell_type": "code",
      "execution_count": 89,
      "metadata": {
        "colab": {
          "base_uri": "https://localhost:8080/",
          "height": 286
        },
        "id": "BM564qkcnFFl",
        "outputId": "4786c384-09b8-48d0-9b40-afb7fd3a6d88"
      },
      "outputs": [
        {
          "data": {
            "text/plain": [
              "<AxesSubplot: xlabel='Date'>"
            ]
          },
          "execution_count": 89,
          "metadata": {},
          "output_type": "execute_result"
        },
        {
          "data": {
            "image/png": "[encoded data removed]",
            "text/plain": [
              "<Figure size 640x480 with 1 Axes>"
            ]
          },
          "metadata": {},
          "output_type": "display_data"
        }
      ],
      "source": [
        "google['Close'].plot()"
      ]
    },
    {
      "attachments": {},
      "cell_type": "markdown",
      "metadata": {},
      "source": [
        "### pair plots all col with date"
      ]
    },
    {
      "cell_type": "code",
      "execution_count": 90,
      "metadata": {},
      "outputs": [
        {
          "data": {
            "text/html": [
              "<div>\n",
              "<style scoped>\n",
              "    .dataframe tbody tr th:only-of-type {\n",
              "        vertical-align: middle;\n",
              "    }\n",
              "\n",
              "    .dataframe tbody tr th {\n",
              "        vertical-align: top;\n",
              "    }\n",
              "\n",
              "    .dataframe thead th {\n",
              "        text-align: right;\n",
              "    }\n",
              "</style>\n",
              "<table border=\"1\" class=\"dataframe\">\n",
              "  <thead>\n",
              "    <tr style=\"text-align: right;\">\n",
              "      <th></th>\n",
              "      <th>Open</th>\n",
              "      <th>High</th>\n",
              "      <th>Low</th>\n",
              "      <th>Close</th>\n",
              "      <th>Adj Close</th>\n",
              "      <th>Volume</th>\n",
              "    </tr>\n",
              "    <tr>\n",
              "      <th>Date</th>\n",
              "      <th></th>\n",
              "      <th></th>\n",
              "      <th></th>\n",
              "      <th></th>\n",
              "      <th></th>\n",
              "      <th></th>\n",
              "    </tr>\n",
              "  </thead>\n",
              "  <tbody>\n",
              "    <tr>\n",
              "      <th>2004-08-19</th>\n",
              "      <td>49.813290</td>\n",
              "      <td>51.835709</td>\n",
              "      <td>47.800831</td>\n",
              "      <td>49.982655</td>\n",
              "      <td>49.982655</td>\n",
              "      <td>44871361</td>\n",
              "    </tr>\n",
              "    <tr>\n",
              "      <th>2004-08-20</th>\n",
              "      <td>50.316402</td>\n",
              "      <td>54.336334</td>\n",
              "      <td>50.062355</td>\n",
              "      <td>53.952770</td>\n",
              "      <td>53.952770</td>\n",
              "      <td>22942874</td>\n",
              "    </tr>\n",
              "    <tr>\n",
              "      <th>2004-08-23</th>\n",
              "      <td>55.168217</td>\n",
              "      <td>56.528118</td>\n",
              "      <td>54.321388</td>\n",
              "      <td>54.495735</td>\n",
              "      <td>54.495735</td>\n",
              "      <td>18342897</td>\n",
              "    </tr>\n",
              "    <tr>\n",
              "      <th>2004-08-24</th>\n",
              "      <td>55.412300</td>\n",
              "      <td>55.591629</td>\n",
              "      <td>51.591621</td>\n",
              "      <td>52.239197</td>\n",
              "      <td>52.239197</td>\n",
              "      <td>15319808</td>\n",
              "    </tr>\n",
              "    <tr>\n",
              "      <th>2004-08-25</th>\n",
              "      <td>52.284027</td>\n",
              "      <td>53.798351</td>\n",
              "      <td>51.746044</td>\n",
              "      <td>52.802086</td>\n",
              "      <td>52.802086</td>\n",
              "      <td>9232276</td>\n",
              "    </tr>\n",
              "    <tr>\n",
              "      <th>...</th>\n",
              "      <td>...</td>\n",
              "      <td>...</td>\n",
              "      <td>...</td>\n",
              "      <td>...</td>\n",
              "      <td>...</td>\n",
              "      <td>...</td>\n",
              "    </tr>\n",
              "    <tr>\n",
              "      <th>2022-05-16</th>\n",
              "      <td>2307.679932</td>\n",
              "      <td>2332.149902</td>\n",
              "      <td>2286.699951</td>\n",
              "      <td>2295.850098</td>\n",
              "      <td>2295.850098</td>\n",
              "      <td>1164100</td>\n",
              "    </tr>\n",
              "    <tr>\n",
              "      <th>2022-05-17</th>\n",
              "      <td>2344.550049</td>\n",
              "      <td>2344.550049</td>\n",
              "      <td>2306.750000</td>\n",
              "      <td>2334.030029</td>\n",
              "      <td>2334.030029</td>\n",
              "      <td>1078800</td>\n",
              "    </tr>\n",
              "    <tr>\n",
              "      <th>2022-05-18</th>\n",
              "      <td>2304.750000</td>\n",
              "      <td>2313.913086</td>\n",
              "      <td>2242.840088</td>\n",
              "      <td>2248.020020</td>\n",
              "      <td>2248.020020</td>\n",
              "      <td>1399100</td>\n",
              "    </tr>\n",
              "    <tr>\n",
              "      <th>2022-05-19</th>\n",
              "      <td>2236.820068</td>\n",
              "      <td>2271.750000</td>\n",
              "      <td>2209.360107</td>\n",
              "      <td>2214.909912</td>\n",
              "      <td>2214.909912</td>\n",
              "      <td>1459600</td>\n",
              "    </tr>\n",
              "    <tr>\n",
              "      <th>2022-05-20</th>\n",
              "      <td>2241.709961</td>\n",
              "      <td>2251.000000</td>\n",
              "      <td>2127.459961</td>\n",
              "      <td>2186.260010</td>\n",
              "      <td>2186.260010</td>\n",
              "      <td>1878100</td>\n",
              "    </tr>\n",
              "  </tbody>\n",
              "</table>\n",
              "<p>4471 rows × 6 columns</p>\n",
              "</div>"
            ],
            "text/plain": [
              "                   Open         High          Low        Close    Adj Close  \\\n",
              "Date                                                                          \n",
              "2004-08-19    49.813290    51.835709    47.800831    49.982655    49.982655   \n",
              "2004-08-20    50.316402    54.336334    50.062355    53.952770    53.952770   \n",
              "2004-08-23    55.168217    56.528118    54.321388    54.495735    54.495735   \n",
              "2004-08-24    55.412300    55.591629    51.591621    52.239197    52.239197   \n",
              "2004-08-25    52.284027    53.798351    51.746044    52.802086    52.802086   \n",
              "...                 ...          ...          ...          ...          ...   \n",
              "2022-05-16  2307.679932  2332.149902  2286.699951  2295.850098  2295.850098   \n",
              "2022-05-17  2344.550049  2344.550049  2306.750000  2334.030029  2334.030029   \n",
              "2022-05-18  2304.750000  2313.913086  2242.840088  2248.020020  2248.020020   \n",
              "2022-05-19  2236.820068  2271.750000  2209.360107  2214.909912  2214.909912   \n",
              "2022-05-20  2241.709961  2251.000000  2127.459961  2186.260010  2186.260010   \n",
              "\n",
              "              Volume  \n",
              "Date                  \n",
              "2004-08-19  44871361  \n",
              "2004-08-20  22942874  \n",
              "2004-08-23  18342897  \n",
              "2004-08-24  15319808  \n",
              "2004-08-25   9232276  \n",
              "...              ...  \n",
              "2022-05-16   1164100  \n",
              "2022-05-17   1078800  \n",
              "2022-05-18   1399100  \n",
              "2022-05-19   1459600  \n",
              "2022-05-20   1878100  \n",
              "\n",
              "[4471 rows x 6 columns]"
            ]
          },
          "execution_count": 90,
          "metadata": {},
          "output_type": "execute_result"
        }
      ],
      "source": [
        "temp_df = google.iloc[:,0:-3]\n",
        "temp_df"
      ]
    },
    {
      "cell_type": "code",
      "execution_count": 93,
      "metadata": {},
      "outputs": [
        {
          "data": {
            "image/png": "[encoded data removed]",
            "text/plain": [
              "<Figure size 2000x1500 with 6 Axes>"
            ]
          },
          "metadata": {},
          "output_type": "display_data"
        }
      ],
      "source": [
        "## plotting all with time\n",
        "\n",
        "ax = temp_df.plot(subplots=True,\n",
        "                    layout=(3, 2),\n",
        "                     sharex=False,\n",
        "                     sharey=False,\n",
        "                     linewidth=0.7,\n",
        "                     fontsize=10,\n",
        "                     legend=False,\n",
        "                      figsize=(20,15),\n",
        "                      title=['Open', 'High', 'Low', 'Close','Adjusted Close', 'Volume'])"
      ]
    },
    {
      "cell_type": "code",
      "execution_count": 95,
      "metadata": {},
      "outputs": [
        {
          "data": {
            "text/html": [
              "<div>\n",
              "<style scoped>\n",
              "    .dataframe tbody tr th:only-of-type {\n",
              "        vertical-align: middle;\n",
              "    }\n",
              "\n",
              "    .dataframe tbody tr th {\n",
              "        vertical-align: top;\n",
              "    }\n",
              "\n",
              "    .dataframe thead th {\n",
              "        text-align: right;\n",
              "    }\n",
              "</style>\n",
              "<table border=\"1\" class=\"dataframe\">\n",
              "  <thead>\n",
              "    <tr style=\"text-align: right;\">\n",
              "      <th></th>\n",
              "      <th>Open</th>\n",
              "      <th>High</th>\n",
              "      <th>Low</th>\n",
              "      <th>Close</th>\n",
              "      <th>Adj Close</th>\n",
              "      <th>Volume</th>\n",
              "      <th>month_name</th>\n",
              "      <th>weekday_name</th>\n",
              "      <th>quarter</th>\n",
              "    </tr>\n",
              "    <tr>\n",
              "      <th>Date</th>\n",
              "      <th></th>\n",
              "      <th></th>\n",
              "      <th></th>\n",
              "      <th></th>\n",
              "      <th></th>\n",
              "      <th></th>\n",
              "      <th></th>\n",
              "      <th></th>\n",
              "      <th></th>\n",
              "    </tr>\n",
              "  </thead>\n",
              "  <tbody>\n",
              "    <tr>\n",
              "      <th>2004-08-19</th>\n",
              "      <td>49.813290</td>\n",
              "      <td>51.835709</td>\n",
              "      <td>47.800831</td>\n",
              "      <td>49.982655</td>\n",
              "      <td>49.982655</td>\n",
              "      <td>44871361</td>\n",
              "      <td>August</td>\n",
              "      <td>Thursday</td>\n",
              "      <td>3</td>\n",
              "    </tr>\n",
              "    <tr>\n",
              "      <th>2004-08-20</th>\n",
              "      <td>50.316402</td>\n",
              "      <td>54.336334</td>\n",
              "      <td>50.062355</td>\n",
              "      <td>53.952770</td>\n",
              "      <td>53.952770</td>\n",
              "      <td>22942874</td>\n",
              "      <td>August</td>\n",
              "      <td>Friday</td>\n",
              "      <td>3</td>\n",
              "    </tr>\n",
              "    <tr>\n",
              "      <th>2004-08-23</th>\n",
              "      <td>55.168217</td>\n",
              "      <td>56.528118</td>\n",
              "      <td>54.321388</td>\n",
              "      <td>54.495735</td>\n",
              "      <td>54.495735</td>\n",
              "      <td>18342897</td>\n",
              "      <td>August</td>\n",
              "      <td>Monday</td>\n",
              "      <td>3</td>\n",
              "    </tr>\n",
              "    <tr>\n",
              "      <th>2004-08-24</th>\n",
              "      <td>55.412300</td>\n",
              "      <td>55.591629</td>\n",
              "      <td>51.591621</td>\n",
              "      <td>52.239197</td>\n",
              "      <td>52.239197</td>\n",
              "      <td>15319808</td>\n",
              "      <td>August</td>\n",
              "      <td>Tuesday</td>\n",
              "      <td>3</td>\n",
              "    </tr>\n",
              "    <tr>\n",
              "      <th>2004-08-25</th>\n",
              "      <td>52.284027</td>\n",
              "      <td>53.798351</td>\n",
              "      <td>51.746044</td>\n",
              "      <td>52.802086</td>\n",
              "      <td>52.802086</td>\n",
              "      <td>9232276</td>\n",
              "      <td>August</td>\n",
              "      <td>Wednesday</td>\n",
              "      <td>3</td>\n",
              "    </tr>\n",
              "    <tr>\n",
              "      <th>...</th>\n",
              "      <td>...</td>\n",
              "      <td>...</td>\n",
              "      <td>...</td>\n",
              "      <td>...</td>\n",
              "      <td>...</td>\n",
              "      <td>...</td>\n",
              "      <td>...</td>\n",
              "      <td>...</td>\n",
              "      <td>...</td>\n",
              "    </tr>\n",
              "    <tr>\n",
              "      <th>2022-05-16</th>\n",
              "      <td>2307.679932</td>\n",
              "      <td>2332.149902</td>\n",
              "      <td>2286.699951</td>\n",
              "      <td>2295.850098</td>\n",
              "      <td>2295.850098</td>\n",
              "      <td>1164100</td>\n",
              "      <td>May</td>\n",
              "      <td>Monday</td>\n",
              "      <td>2</td>\n",
              "    </tr>\n",
              "    <tr>\n",
              "      <th>2022-05-17</th>\n",
              "      <td>2344.550049</td>\n",
              "      <td>2344.550049</td>\n",
              "      <td>2306.750000</td>\n",
              "      <td>2334.030029</td>\n",
              "      <td>2334.030029</td>\n",
              "      <td>1078800</td>\n",
              "      <td>May</td>\n",
              "      <td>Tuesday</td>\n",
              "      <td>2</td>\n",
              "    </tr>\n",
              "    <tr>\n",
              "      <th>2022-05-18</th>\n",
              "      <td>2304.750000</td>\n",
              "      <td>2313.913086</td>\n",
              "      <td>2242.840088</td>\n",
              "      <td>2248.020020</td>\n",
              "      <td>2248.020020</td>\n",
              "      <td>1399100</td>\n",
              "      <td>May</td>\n",
              "      <td>Wednesday</td>\n",
              "      <td>2</td>\n",
              "    </tr>\n",
              "    <tr>\n",
              "      <th>2022-05-19</th>\n",
              "      <td>2236.820068</td>\n",
              "      <td>2271.750000</td>\n",
              "      <td>2209.360107</td>\n",
              "      <td>2214.909912</td>\n",
              "      <td>2214.909912</td>\n",
              "      <td>1459600</td>\n",
              "      <td>May</td>\n",
              "      <td>Thursday</td>\n",
              "      <td>2</td>\n",
              "    </tr>\n",
              "    <tr>\n",
              "      <th>2022-05-20</th>\n",
              "      <td>2241.709961</td>\n",
              "      <td>2251.000000</td>\n",
              "      <td>2127.459961</td>\n",
              "      <td>2186.260010</td>\n",
              "      <td>2186.260010</td>\n",
              "      <td>1878100</td>\n",
              "      <td>May</td>\n",
              "      <td>Friday</td>\n",
              "      <td>2</td>\n",
              "    </tr>\n",
              "  </tbody>\n",
              "</table>\n",
              "<p>4471 rows × 9 columns</p>\n",
              "</div>"
            ],
            "text/plain": [
              "                   Open         High          Low        Close    Adj Close  \\\n",
              "Date                                                                          \n",
              "2004-08-19    49.813290    51.835709    47.800831    49.982655    49.982655   \n",
              "2004-08-20    50.316402    54.336334    50.062355    53.952770    53.952770   \n",
              "2004-08-23    55.168217    56.528118    54.321388    54.495735    54.495735   \n",
              "2004-08-24    55.412300    55.591629    51.591621    52.239197    52.239197   \n",
              "2004-08-25    52.284027    53.798351    51.746044    52.802086    52.802086   \n",
              "...                 ...          ...          ...          ...          ...   \n",
              "2022-05-16  2307.679932  2332.149902  2286.699951  2295.850098  2295.850098   \n",
              "2022-05-17  2344.550049  2344.550049  2306.750000  2334.030029  2334.030029   \n",
              "2022-05-18  2304.750000  2313.913086  2242.840088  2248.020020  2248.020020   \n",
              "2022-05-19  2236.820068  2271.750000  2209.360107  2214.909912  2214.909912   \n",
              "2022-05-20  2241.709961  2251.000000  2127.459961  2186.260010  2186.260010   \n",
              "\n",
              "              Volume month_name weekday_name  quarter  \n",
              "Date                                                   \n",
              "2004-08-19  44871361     August     Thursday        3  \n",
              "2004-08-20  22942874     August       Friday        3  \n",
              "2004-08-23  18342897     August       Monday        3  \n",
              "2004-08-24  15319808     August      Tuesday        3  \n",
              "2004-08-25   9232276     August    Wednesday        3  \n",
              "...              ...        ...          ...      ...  \n",
              "2022-05-16   1164100        May       Monday        2  \n",
              "2022-05-17   1078800        May      Tuesday        2  \n",
              "2022-05-18   1399100        May    Wednesday        2  \n",
              "2022-05-19   1459600        May     Thursday        2  \n",
              "2022-05-20   1878100        May       Friday        2  \n",
              "\n",
              "[4471 rows x 9 columns]"
            ]
          },
          "execution_count": 95,
          "metadata": {},
          "output_type": "execute_result"
        }
      ],
      "source": [
        "google"
      ]
    },
    {
      "cell_type": "code",
      "execution_count": 101,
      "metadata": {},
      "outputs": [
        {
          "data": {
            "text/plain": [
              "<AxesSubplot: xlabel='Date'>"
            ]
          },
          "execution_count": 101,
          "metadata": {},
          "output_type": "execute_result"
        },
        {
          "data": {
            "image/png": "[encoded data removed]",
            "text/plain": [
              "<Figure size 640x480 with 1 Axes>"
            ]
          },
          "metadata": {},
          "output_type": "display_data"
        }
      ],
      "source": [
        "# yearly trend\n",
        "google.loc['2022']['High'].plot()"
      ]
    },
    {
      "cell_type": "code",
      "execution_count": 102,
      "metadata": {
        "colab": {
          "base_uri": "https://localhost:8080/",
          "height": 305
        },
        "id": "KB_gtdnGwktB",
        "outputId": "0d82455f-53e8-4fd2-b424-9bd2ab807fb7"
      },
      "outputs": [
        {
          "data": {
            "text/plain": [
              "<AxesSubplot: xlabel='Date'>"
            ]
          },
          "execution_count": 102,
          "metadata": {},
          "output_type": "execute_result"
        },
        {
          "data": {
            "image/png": "[encoded data removed]",
            "text/plain": [
              "<Figure size 640x480 with 1 Axes>"
            ]
          },
          "metadata": {},
          "output_type": "display_data"
        }
      ],
      "source": [
        "# monthly trend\n",
        "google.loc['2021-12']['High'].plot()"
      ]
    },
    {
      "cell_type": "code",
      "execution_count": 127,
      "metadata": {},
      "outputs": [
        {
          "data": {
            "text/plain": [
              "<AxesSubplot: xlabel='Date'>"
            ]
          },
          "execution_count": 127,
          "metadata": {},
          "output_type": "execute_result"
        },
        {
          "data": {
            "image/png": "[encoded data removed]",
            "text/plain": [
              "<Figure size 640x480 with 1 Axes>"
            ]
          },
          "metadata": {},
          "output_type": "display_data"
        }
      ],
      "source": [
        "# Quaterly trend\n",
        "google.asfreq('Q')['High'].plot()"
      ]
    },
    {
      "cell_type": "code",
      "execution_count": 118,
      "metadata": {
        "colab": {
          "base_uri": "https://localhost:8080/",
          "height": 342
        },
        "id": "3SCAznMtz4Rw",
        "outputId": "674f81fc-6f17-4a82-903f-59814d7feafc"
      },
      "outputs": [
        {
          "data": {
            "text/plain": [
              "<AxesSubplot: xlabel='month_name'>"
            ]
          },
          "execution_count": 118,
          "metadata": {},
          "output_type": "execute_result"
        },
        {
          "data": {
            "image/png": "[encoded data removed]",
            "text/plain": [
              "<Figure size 640x480 with 1 Axes>"
            ]
          },
          "metadata": {},
          "output_type": "display_data"
        }
      ],
      "source": [
        "google.groupby('month_name')['Close'].mean().plot(kind='bar')"
      ]
    },
    {
      "cell_type": "code",
      "execution_count": 119,
      "metadata": {
        "colab": {
          "base_uri": "https://localhost:8080/",
          "height": 302
        },
        "id": "jPi0iNKalQPM",
        "outputId": "6d6a7944-8eed-48cf-8b0c-ca601e6020a9"
      },
      "outputs": [
        {
          "data": {
            "text/plain": [
              "<AxesSubplot: xlabel='quarter'>"
            ]
          },
          "execution_count": 119,
          "metadata": {},
          "output_type": "execute_result"
        },
        {
          "data": {
            "image/png": "[encoded data removed]",
            "text/plain": [
              "<Figure size 640x480 with 1 Axes>"
            ]
          },
          "metadata": {},
          "output_type": "display_data"
        }
      ],
      "source": [
        "# quaterly trend\n",
        "google.groupby('quarter')['Close'].mean().plot(kind='bar')"
      ]
    },
    {
      "attachments": {},
      "cell_type": "markdown",
      "metadata": {},
      "source": [
        "### frequency vs asfreqeuncy"
      ]
    },
    {
      "cell_type": "code",
      "execution_count": 117,
      "metadata": {
        "colab": {
          "base_uri": "https://localhost:8080/"
        },
        "id": "W6yNKb5slRjQ",
        "outputId": "0da7c4f6-9412-4ba2-a0b7-80fbbcc9307f"
      },
      "outputs": [
        {
          "name": "stdout",
          "output_type": "stream",
          "text": [
            "DatetimeIndex(['2004-08-19', '2004-08-20', '2004-08-23', '2004-08-24',\n",
            "               '2004-08-25', '2004-08-26', '2004-08-27', '2004-08-30',\n",
            "               '2004-08-31', '2004-09-01',\n",
            "               ...\n",
            "               '2022-05-09', '2022-05-10', '2022-05-11', '2022-05-12',\n",
            "               '2022-05-13', '2022-05-16', '2022-05-17', '2022-05-18',\n",
            "               '2022-05-19', '2022-05-20'],\n",
            "              dtype='datetime64[ns]', name='Date', length=4632, freq='B')\n",
            "DatetimeIndex(['2004-08-19', '2004-08-20', '2004-08-23', '2004-08-24',\n",
            "               '2004-08-25', '2004-08-26', '2004-08-27', '2004-08-30',\n",
            "               '2004-08-31', '2004-09-01',\n",
            "               ...\n",
            "               '2022-05-09', '2022-05-10', '2022-05-11', '2022-05-12',\n",
            "               '2022-05-13', '2022-05-16', '2022-05-17', '2022-05-18',\n",
            "               '2022-05-19', '2022-05-20'],\n",
            "              dtype='datetime64[ns]', name='Date', length=4632, freq='B')\n"
          ]
        }
      ],
      "source": [
        "# frequency ---None default\n",
        "print(google.index)                     #--default fequency None\n",
        "google.asfreq('D')                   #freq set to daily hence NaN where missing the days in data\n",
        "google = google.asfreq('B')\n",
        "print(google.index)                               #--> frquency is B for Buissness days"
      ]
    },
    {
      "cell_type": "code",
      "execution_count": null,
      "metadata": {
        "colab": {
          "base_uri": "https://localhost:8080/",
          "height": 455
        },
        "id": "bttGTaQrp0dx",
        "outputId": "96ddd1de-0024-4ea6-a759-a52a16d738ec"
      },
      "outputs": [
        {
          "data": {
            "text/html": [
              "\n",
              "  <div id=\"df-22ba8693-d46a-489d-8ec2-c3cf5eafa2af\">\n",
              "    <div class=\"colab-df-container\">\n",
              "      <div>\n",
              "<style scoped>\n",
              "    .dataframe tbody tr th:only-of-type {\n",
              "        vertical-align: middle;\n",
              "    }\n",
              "\n",
              "    .dataframe tbody tr th {\n",
              "        vertical-align: top;\n",
              "    }\n",
              "\n",
              "    .dataframe thead th {\n",
              "        text-align: right;\n",
              "    }\n",
              "</style>\n",
              "<table border=\"1\" class=\"dataframe\">\n",
              "  <thead>\n",
              "    <tr style=\"text-align: right;\">\n",
              "      <th></th>\n",
              "      <th>Open</th>\n",
              "      <th>High</th>\n",
              "      <th>Low</th>\n",
              "      <th>Close</th>\n",
              "      <th>Adj Close</th>\n",
              "      <th>Volume</th>\n",
              "      <th>month_name</th>\n",
              "      <th>weekday_name</th>\n",
              "      <th>quarter</th>\n",
              "    </tr>\n",
              "    <tr>\n",
              "      <th>Date</th>\n",
              "      <th></th>\n",
              "      <th></th>\n",
              "      <th></th>\n",
              "      <th></th>\n",
              "      <th></th>\n",
              "      <th></th>\n",
              "      <th></th>\n",
              "      <th></th>\n",
              "      <th></th>\n",
              "    </tr>\n",
              "  </thead>\n",
              "  <tbody>\n",
              "    <tr>\n",
              "      <th>2004-08-19 00:00:00</th>\n",
              "      <td>49.813290</td>\n",
              "      <td>51.835709</td>\n",
              "      <td>47.800831</td>\n",
              "      <td>49.982655</td>\n",
              "      <td>49.982655</td>\n",
              "      <td>44871361.0</td>\n",
              "      <td>August</td>\n",
              "      <td>Thursday</td>\n",
              "      <td>3.0</td>\n",
              "    </tr>\n",
              "    <tr>\n",
              "      <th>2004-08-19 06:00:00</th>\n",
              "      <td>50.316402</td>\n",
              "      <td>54.336334</td>\n",
              "      <td>50.062355</td>\n",
              "      <td>53.952770</td>\n",
              "      <td>53.952770</td>\n",
              "      <td>22942874.0</td>\n",
              "      <td>August</td>\n",
              "      <td>Friday</td>\n",
              "      <td>3.0</td>\n",
              "    </tr>\n",
              "    <tr>\n",
              "      <th>2004-08-19 12:00:00</th>\n",
              "      <td>50.316402</td>\n",
              "      <td>54.336334</td>\n",
              "      <td>50.062355</td>\n",
              "      <td>53.952770</td>\n",
              "      <td>53.952770</td>\n",
              "      <td>22942874.0</td>\n",
              "      <td>August</td>\n",
              "      <td>Friday</td>\n",
              "      <td>3.0</td>\n",
              "    </tr>\n",
              "    <tr>\n",
              "      <th>2004-08-19 18:00:00</th>\n",
              "      <td>50.316402</td>\n",
              "      <td>54.336334</td>\n",
              "      <td>50.062355</td>\n",
              "      <td>53.952770</td>\n",
              "      <td>53.952770</td>\n",
              "      <td>22942874.0</td>\n",
              "      <td>August</td>\n",
              "      <td>Friday</td>\n",
              "      <td>3.0</td>\n",
              "    </tr>\n",
              "    <tr>\n",
              "      <th>2004-08-20 00:00:00</th>\n",
              "      <td>50.316402</td>\n",
              "      <td>54.336334</td>\n",
              "      <td>50.062355</td>\n",
              "      <td>53.952770</td>\n",
              "      <td>53.952770</td>\n",
              "      <td>22942874.0</td>\n",
              "      <td>August</td>\n",
              "      <td>Friday</td>\n",
              "      <td>3.0</td>\n",
              "    </tr>\n",
              "    <tr>\n",
              "      <th>...</th>\n",
              "      <td>...</td>\n",
              "      <td>...</td>\n",
              "      <td>...</td>\n",
              "      <td>...</td>\n",
              "      <td>...</td>\n",
              "      <td>...</td>\n",
              "      <td>...</td>\n",
              "      <td>...</td>\n",
              "      <td>...</td>\n",
              "    </tr>\n",
              "    <tr>\n",
              "      <th>2022-05-19 00:00:00</th>\n",
              "      <td>2236.820068</td>\n",
              "      <td>2271.750000</td>\n",
              "      <td>2209.360107</td>\n",
              "      <td>2214.909912</td>\n",
              "      <td>2214.909912</td>\n",
              "      <td>1459600.0</td>\n",
              "      <td>May</td>\n",
              "      <td>Thursday</td>\n",
              "      <td>2.0</td>\n",
              "    </tr>\n",
              "    <tr>\n",
              "      <th>2022-05-19 06:00:00</th>\n",
              "      <td>2241.709961</td>\n",
              "      <td>2251.000000</td>\n",
              "      <td>2127.459961</td>\n",
              "      <td>2186.260010</td>\n",
              "      <td>2186.260010</td>\n",
              "      <td>1878100.0</td>\n",
              "      <td>May</td>\n",
              "      <td>Friday</td>\n",
              "      <td>2.0</td>\n",
              "    </tr>\n",
              "    <tr>\n",
              "      <th>2022-05-19 12:00:00</th>\n",
              "      <td>2241.709961</td>\n",
              "      <td>2251.000000</td>\n",
              "      <td>2127.459961</td>\n",
              "      <td>2186.260010</td>\n",
              "      <td>2186.260010</td>\n",
              "      <td>1878100.0</td>\n",
              "      <td>May</td>\n",
              "      <td>Friday</td>\n",
              "      <td>2.0</td>\n",
              "    </tr>\n",
              "    <tr>\n",
              "      <th>2022-05-19 18:00:00</th>\n",
              "      <td>2241.709961</td>\n",
              "      <td>2251.000000</td>\n",
              "      <td>2127.459961</td>\n",
              "      <td>2186.260010</td>\n",
              "      <td>2186.260010</td>\n",
              "      <td>1878100.0</td>\n",
              "      <td>May</td>\n",
              "      <td>Friday</td>\n",
              "      <td>2.0</td>\n",
              "    </tr>\n",
              "    <tr>\n",
              "      <th>2022-05-20 00:00:00</th>\n",
              "      <td>2241.709961</td>\n",
              "      <td>2251.000000</td>\n",
              "      <td>2127.459961</td>\n",
              "      <td>2186.260010</td>\n",
              "      <td>2186.260010</td>\n",
              "      <td>1878100.0</td>\n",
              "      <td>May</td>\n",
              "      <td>Friday</td>\n",
              "      <td>2.0</td>\n",
              "    </tr>\n",
              "  </tbody>\n",
              "</table>\n",
              "<p>25933 rows × 9 columns</p>\n",
              "</div>\n",
              "      <button class=\"colab-df-convert\" onclick=\"convertToInteractive('df-22ba8693-d46a-489d-8ec2-c3cf5eafa2af')\"\n",
              "              title=\"Convert this dataframe to an interactive table.\"\n",
              "              style=\"display:none;\">\n",
              "        \n",
              "  <svg xmlns=\"http://www.w3.org/2000/svg\" height=\"24px\"viewBox=\"0 0 24 24\"\n",
              "       width=\"24px\">\n",
              "    <path d=\"M0 0h24v24H0V0z\" fill=\"none\"/>\n",
              "    <path d=\"M18.56 5.44l.94 2.06.94-2.06 2.06-.94-2.06-.94-.94-2.06-.94 2.06-2.06.94zm-11 1L8.5 8.5l.94-2.06 2.06-.94-2.06-.94L8.5 2.5l-.94 2.06-2.06.94zm10 10l.94 2.06.94-2.06 2.06-.94-2.06-.94-.94-2.06-.94 2.06-2.06.94z\"/><path d=\"M17.41 7.96l-1.37-1.37c-.4-.4-.92-.59-1.43-.59-.52 0-1.04.2-1.43.59L10.3 9.45l-7.72 7.72c-.78.78-.78 2.05 0 2.83L4 21.41c.39.39.9.59 1.41.59.51 0 1.02-.2 1.41-.59l7.78-7.78 2.81-2.81c.8-.78.8-2.07 0-2.86zM5.41 20L4 18.59l7.72-7.72 1.47 1.35L5.41 20z\"/>\n",
              "  </svg>\n",
              "      </button>\n",
              "      \n",
              "  <style>\n",
              "    .colab-df-container {\n",
              "      display:flex;\n",
              "      flex-wrap:wrap;\n",
              "      gap: 12px;\n",
              "    }\n",
              "\n",
              "    .colab-df-convert {\n",
              "      background-color: #E8F0FE;\n",
              "      border: none;\n",
              "      border-radius: 50%;\n",
              "      cursor: pointer;\n",
              "      display: none;\n",
              "      fill: #1967D2;\n",
              "      height: 32px;\n",
              "      padding: 0 0 0 0;\n",
              "      width: 32px;\n",
              "    }\n",
              "\n",
              "    .colab-df-convert:hover {\n",
              "      background-color: #E2EBFA;\n",
              "      box-shadow: 0px 1px 2px rgba(60, 64, 67, 0.3), 0px 1px 3px 1px rgba(60, 64, 67, 0.15);\n",
              "      fill: #174EA6;\n",
              "    }\n",
              "\n",
              "    [theme=dark] .colab-df-convert {\n",
              "      background-color: #3B4455;\n",
              "      fill: #D2E3FC;\n",
              "    }\n",
              "\n",
              "    [theme=dark] .colab-df-convert:hover {\n",
              "      background-color: #434B5C;\n",
              "      box-shadow: 0px 1px 3px 1px rgba(0, 0, 0, 0.15);\n",
              "      filter: drop-shadow(0px 1px 2px rgba(0, 0, 0, 0.3));\n",
              "      fill: #FFFFFF;\n",
              "    }\n",
              "  </style>\n",
              "\n",
              "      <script>\n",
              "        const buttonEl =\n",
              "          document.querySelector('#df-22ba8693-d46a-489d-8ec2-c3cf5eafa2af button.colab-df-convert');\n",
              "        buttonEl.style.display =\n",
              "          google.colab.kernel.accessAllowed ? 'block' : 'none';\n",
              "\n",
              "        async function convertToInteractive(key) {\n",
              "          const element = document.querySelector('#df-22ba8693-d46a-489d-8ec2-c3cf5eafa2af');\n",
              "          const dataTable =\n",
              "            await google.colab.kernel.invokeFunction('convertToInteractive',\n",
              "                                                     [key], {});\n",
              "          if (!dataTable) return;\n",
              "\n",
              "          const docLinkHtml = 'Like what you see? Visit the ' +\n",
              "            '<a target=\"_blank\" href=https://colab.research.google.com/notebooks/data_table.ipynb>data table notebook</a>'\n",
              "            + ' to learn more about interactive tables.';\n",
              "          element.innerHTML = '';\n",
              "          dataTable['output_type'] = 'display_data';\n",
              "          await google.colab.output.renderOutput(dataTable, element);\n",
              "          const docLink = document.createElement('div');\n",
              "          docLink.innerHTML = docLinkHtml;\n",
              "          element.appendChild(docLink);\n",
              "        }\n",
              "      </script>\n",
              "    </div>\n",
              "  </div>\n",
              "  "
            ],
            "text/plain": [
              "                            Open         High          Low        Close  \\\n",
              "Date                                                                      \n",
              "2004-08-19 00:00:00    49.813290    51.835709    47.800831    49.982655   \n",
              "2004-08-19 06:00:00    50.316402    54.336334    50.062355    53.952770   \n",
              "2004-08-19 12:00:00    50.316402    54.336334    50.062355    53.952770   \n",
              "2004-08-19 18:00:00    50.316402    54.336334    50.062355    53.952770   \n",
              "2004-08-20 00:00:00    50.316402    54.336334    50.062355    53.952770   \n",
              "...                          ...          ...          ...          ...   \n",
              "2022-05-19 00:00:00  2236.820068  2271.750000  2209.360107  2214.909912   \n",
              "2022-05-19 06:00:00  2241.709961  2251.000000  2127.459961  2186.260010   \n",
              "2022-05-19 12:00:00  2241.709961  2251.000000  2127.459961  2186.260010   \n",
              "2022-05-19 18:00:00  2241.709961  2251.000000  2127.459961  2186.260010   \n",
              "2022-05-20 00:00:00  2241.709961  2251.000000  2127.459961  2186.260010   \n",
              "\n",
              "                       Adj Close      Volume month_name weekday_name  quarter  \n",
              "Date                                                                           \n",
              "2004-08-19 00:00:00    49.982655  44871361.0     August     Thursday      3.0  \n",
              "2004-08-19 06:00:00    53.952770  22942874.0     August       Friday      3.0  \n",
              "2004-08-19 12:00:00    53.952770  22942874.0     August       Friday      3.0  \n",
              "2004-08-19 18:00:00    53.952770  22942874.0     August       Friday      3.0  \n",
              "2004-08-20 00:00:00    53.952770  22942874.0     August       Friday      3.0  \n",
              "...                          ...         ...        ...          ...      ...  \n",
              "2022-05-19 00:00:00  2214.909912   1459600.0        May     Thursday      2.0  \n",
              "2022-05-19 06:00:00  2186.260010   1878100.0        May       Friday      2.0  \n",
              "2022-05-19 12:00:00  2186.260010   1878100.0        May       Friday      2.0  \n",
              "2022-05-19 18:00:00  2186.260010   1878100.0        May       Friday      2.0  \n",
              "2022-05-20 00:00:00  2186.260010   1878100.0        May       Friday      2.0  \n",
              "\n",
              "[25933 rows x 9 columns]"
            ]
          },
          "execution_count": 196,
          "metadata": {},
          "output_type": "execute_result"
        }
      ],
      "source": [
        "# asfreq\n",
        "google.asfreq('6H',method='bfill')"
      ]
    },
    {
      "cell_type": "markdown",
      "metadata": {
        "id": "9Acd1cA4EaDK"
      },
      "source": [
        "### Resampling\n",
        "\n",
        "Resampling involves changing the frequency of your time series observations.\n",
        "\n",
        "Two types of resampling are:\n",
        "\n",
        "**Upsampling**: Where you increase the frequency of the samples, such as from minutes to seconds.<br>\n",
        "**Downsampling**: Where you decrease the frequency of the samples, such as from days to months."
      ]
    },
    {
      "cell_type": "code",
      "execution_count": 132,
      "metadata": {},
      "outputs": [
        {
          "data": {
            "text/plain": [
              "<AxesSubplot: xlabel='Date'>"
            ]
          },
          "execution_count": 132,
          "metadata": {},
          "output_type": "execute_result"
        },
        {
          "data": {
            "image/png": "[encoded data removed]",
            "text/plain": [
              "<Figure size 640x480 with 1 Axes>"
            ]
          },
          "metadata": {},
          "output_type": "display_data"
        }
      ],
      "source": [
        "# original\n",
        "google['Volume'].plot()\n",
        "\n",
        "#Problem with origial frequency noise is too great can not analyse properly"
      ]
    },
    {
      "cell_type": "code",
      "execution_count": 142,
      "metadata": {},
      "outputs": [
        {
          "data": {
            "text/plain": [
              "<AxesSubplot: xlabel='Date'>"
            ]
          },
          "execution_count": 142,
          "metadata": {},
          "output_type": "execute_result"
        },
        {
          "data": {
            "image/png": "[encoded data removed]",
            "text/plain": [
              "<Figure size 640x480 with 1 Axes>"
            ]
          },
          "metadata": {},
          "output_type": "display_data"
        }
      ],
      "source": [
        "# downsampling\n",
        "google['Volume'].plot()\n",
        "google['Volume'].resample('Q').mean().plot()"
      ]
    },
    {
      "cell_type": "code",
      "execution_count": 145,
      "metadata": {},
      "outputs": [
        {
          "data": {
            "text/plain": [
              "<AxesSubplot: xlabel='Date'>"
            ]
          },
          "execution_count": 145,
          "metadata": {},
          "output_type": "execute_result"
        },
        {
          "data": {
            "image/png": "[encoded data removed]",
            "text/plain": [
              "<Figure size 640x480 with 1 Axes>"
            ]
          },
          "metadata": {},
          "output_type": "display_data"
        }
      ],
      "source": [
        "google['Close'].plot()"
      ]
    },
    {
      "cell_type": "code",
      "execution_count": 146,
      "metadata": {
        "colab": {
          "base_uri": "https://localhost:8080/",
          "height": 296
        },
        "id": "_HRJUuyRFkY0",
        "outputId": "eed32fc0-9ac3-4cbc-a167-a940708203b9"
      },
      "outputs": [
        {
          "data": {
            "text/plain": [
              "<AxesSubplot: xlabel='Date'>"
            ]
          },
          "execution_count": 146,
          "metadata": {},
          "output_type": "execute_result"
        },
        {
          "data": {
            "image/png": "[encoded data removed]",
            "text/plain": [
              "<Figure size 640x480 with 1 Axes>"
            ]
          },
          "metadata": {},
          "output_type": "display_data"
        }
      ],
      "source": [
        "# Upsampling\n",
        "google['Close'].resample('12H').interpolate(method='spline',order=2).plot()"
      ]
    },
    {
      "cell_type": "markdown",
      "metadata": {
        "id": "-p8a5e-K8QL8"
      },
      "source": [
        "### Rolling Window(Smoothing)\n",
        "Time series data in original format can be quite volatile, especially on smaller aggregation levels. The concept of rolling, or moving averages is a useful technique for smoothing time series data. "
      ]
    },
    {
      "cell_type": "code",
      "execution_count": 156,
      "metadata": {},
      "outputs": [
        {
          "data": {
            "text/plain": [
              "<AxesSubplot: xlabel='Date'>"
            ]
          },
          "execution_count": 156,
          "metadata": {},
          "output_type": "execute_result"
        },
        {
          "data": {
            "image/png": "[encoded data removed]",
            "text/plain": [
              "<Figure size 640x480 with 1 Axes>"
            ]
          },
          "metadata": {},
          "output_type": "display_data"
        }
      ],
      "source": [
        "# Normal rolling average or moving average\n",
        "google['Volume'].plot()\n",
        "google['Volume'].rolling(3).mean().plot()"
      ]
    },
    {
      "cell_type": "code",
      "execution_count": 158,
      "metadata": {},
      "outputs": [
        {
          "data": {
            "text/plain": [
              "<AxesSubplot: xlabel='Date'>"
            ]
          },
          "execution_count": 158,
          "metadata": {},
          "output_type": "execute_result"
        },
        {
          "data": {
            "image/png": "[encoded data removed]",
            "text/plain": [
              "<Figure size 640x480 with 1 Axes>"
            ]
          },
          "metadata": {},
          "output_type": "display_data"
        }
      ],
      "source": [
        "# exponential moving average\n",
        "google['Volume'].plot()\n",
        "google['Volume'].ewm(3).mean().plot()"
      ]
    },
    {
      "cell_type": "markdown",
      "metadata": {
        "id": "6qrHe3WF8g7c"
      },
      "source": [
        "### Shifting\n",
        "\n",
        "The shift() function is Pandas is used to, well, shift the entire series up or down by the desired number of periods."
      ]
    },
    {
      "cell_type": "code",
      "execution_count": 161,
      "metadata": {
        "colab": {
          "base_uri": "https://localhost:8080/",
          "height": 206
        },
        "id": "G4CjB_Sdvb1v",
        "outputId": "992f0819-f2cf-4981-ab5d-fdff9530d029"
      },
      "outputs": [
        {
          "data": {
            "text/html": [
              "<div>\n",
              "<style scoped>\n",
              "    .dataframe tbody tr th:only-of-type {\n",
              "        vertical-align: middle;\n",
              "    }\n",
              "\n",
              "    .dataframe tbody tr th {\n",
              "        vertical-align: top;\n",
              "    }\n",
              "\n",
              "    .dataframe thead th {\n",
              "        text-align: right;\n",
              "    }\n",
              "</style>\n",
              "<table border=\"1\" class=\"dataframe\">\n",
              "  <thead>\n",
              "    <tr style=\"text-align: right;\">\n",
              "      <th></th>\n",
              "      <th>0</th>\n",
              "      <th>1</th>\n",
              "      <th>2</th>\n",
              "      <th>3</th>\n",
              "    </tr>\n",
              "  </thead>\n",
              "  <tbody>\n",
              "    <tr>\n",
              "      <th>0</th>\n",
              "      <td>1</td>\n",
              "      <td>466</td>\n",
              "      <td>2017-01-07 18:24:07</td>\n",
              "      <td>Unnamed: 3</td>\n",
              "    </tr>\n",
              "    <tr>\n",
              "      <th>1</th>\n",
              "      <td>2</td>\n",
              "      <td>466</td>\n",
              "      <td>2017-01-07 18:24:55</td>\n",
              "      <td>NaN</td>\n",
              "    </tr>\n",
              "    <tr>\n",
              "      <th>2</th>\n",
              "      <td>3</td>\n",
              "      <td>458</td>\n",
              "      <td>2017-01-07 18:25:18</td>\n",
              "      <td>NaN</td>\n",
              "    </tr>\n",
              "    <tr>\n",
              "      <th>3</th>\n",
              "      <td>4</td>\n",
              "      <td>458</td>\n",
              "      <td>2017-01-07 18:26:21</td>\n",
              "      <td>NaN</td>\n",
              "    </tr>\n",
              "    <tr>\n",
              "      <th>4</th>\n",
              "      <td>5</td>\n",
              "      <td>592</td>\n",
              "      <td>2017-01-07 19:09:59</td>\n",
              "      <td>NaN</td>\n",
              "    </tr>\n",
              "    <tr>\n",
              "      <th>...</th>\n",
              "      <td>...</td>\n",
              "      <td>...</td>\n",
              "      <td>...</td>\n",
              "      <td>...</td>\n",
              "    </tr>\n",
              "    <tr>\n",
              "      <th>2998</th>\n",
              "      <td>2999</td>\n",
              "      <td>1307</td>\n",
              "      <td>2018-01-04 10:48:28</td>\n",
              "      <td>183.82.121.201</td>\n",
              "    </tr>\n",
              "    <tr>\n",
              "      <th>2999</th>\n",
              "      <td>3000</td>\n",
              "      <td>1230</td>\n",
              "      <td>2018-01-04 11:22:00</td>\n",
              "      <td>47.247.147.114</td>\n",
              "    </tr>\n",
              "    <tr>\n",
              "      <th>3000</th>\n",
              "      <td>3001</td>\n",
              "      <td>1307</td>\n",
              "      <td>2018-01-04 13:13:44</td>\n",
              "      <td>183.82.121.201</td>\n",
              "    </tr>\n",
              "    <tr>\n",
              "      <th>3001</th>\n",
              "      <td>3002</td>\n",
              "      <td>1307</td>\n",
              "      <td>2018-01-04 13:13:45</td>\n",
              "      <td>183.82.121.201</td>\n",
              "    </tr>\n",
              "    <tr>\n",
              "      <th>3002</th>\n",
              "      <td>3003</td>\n",
              "      <td>1224</td>\n",
              "      <td>2018-01-04 14:10:04</td>\n",
              "      <td>182.75.77.58</td>\n",
              "    </tr>\n",
              "  </tbody>\n",
              "</table>\n",
              "<p>3003 rows × 4 columns</p>\n",
              "</div>"
            ],
            "text/plain": [
              "         0     1                    2               3\n",
              "0        1   466  2017-01-07 18:24:07      Unnamed: 3\n",
              "1        2   466  2017-01-07 18:24:55             NaN\n",
              "2        3   458  2017-01-07 18:25:18             NaN\n",
              "3        4   458  2017-01-07 18:26:21             NaN\n",
              "4        5   592  2017-01-07 19:09:59             NaN\n",
              "...    ...   ...                  ...             ...\n",
              "2998  2999  1307  2018-01-04 10:48:28  183.82.121.201\n",
              "2999  3000  1230  2018-01-04 11:22:00  47.247.147.114\n",
              "3000  3001  1307  2018-01-04 13:13:44  183.82.121.201\n",
              "3001  3002  1307  2018-01-04 13:13:45  183.82.121.201\n",
              "3002  3003  1224  2018-01-04 14:10:04    182.75.77.58\n",
              "\n",
              "[3003 rows x 4 columns]"
            ]
          },
          "execution_count": 161,
          "metadata": {},
          "output_type": "execute_result"
        }
      ],
      "source": [
        "# shift example\n",
        "df = pd.read_csv('E:\\DataScienceCampus_ineuron\\Pandas\\Datasets\\login.csv',header=None)\n",
        "df"
      ]
    },
    {
      "cell_type": "code",
      "execution_count": 163,
      "metadata": {},
      "outputs": [
        {
          "data": {
            "text/html": [
              "<div>\n",
              "<style scoped>\n",
              "    .dataframe tbody tr th:only-of-type {\n",
              "        vertical-align: middle;\n",
              "    }\n",
              "\n",
              "    .dataframe tbody tr th {\n",
              "        vertical-align: top;\n",
              "    }\n",
              "\n",
              "    .dataframe thead th {\n",
              "        text-align: right;\n",
              "    }\n",
              "</style>\n",
              "<table border=\"1\" class=\"dataframe\">\n",
              "  <thead>\n",
              "    <tr style=\"text-align: right;\">\n",
              "      <th></th>\n",
              "      <th>1</th>\n",
              "      <th>2</th>\n",
              "    </tr>\n",
              "  </thead>\n",
              "  <tbody>\n",
              "    <tr>\n",
              "      <th>0</th>\n",
              "      <td>466</td>\n",
              "      <td>2017-01-07 18:24:07</td>\n",
              "    </tr>\n",
              "    <tr>\n",
              "      <th>1</th>\n",
              "      <td>466</td>\n",
              "      <td>2017-01-07 18:24:55</td>\n",
              "    </tr>\n",
              "    <tr>\n",
              "      <th>2</th>\n",
              "      <td>458</td>\n",
              "      <td>2017-01-07 18:25:18</td>\n",
              "    </tr>\n",
              "    <tr>\n",
              "      <th>3</th>\n",
              "      <td>458</td>\n",
              "      <td>2017-01-07 18:26:21</td>\n",
              "    </tr>\n",
              "    <tr>\n",
              "      <th>4</th>\n",
              "      <td>592</td>\n",
              "      <td>2017-01-07 19:09:59</td>\n",
              "    </tr>\n",
              "    <tr>\n",
              "      <th>...</th>\n",
              "      <td>...</td>\n",
              "      <td>...</td>\n",
              "    </tr>\n",
              "    <tr>\n",
              "      <th>2998</th>\n",
              "      <td>1307</td>\n",
              "      <td>2018-01-04 10:48:28</td>\n",
              "    </tr>\n",
              "    <tr>\n",
              "      <th>2999</th>\n",
              "      <td>1230</td>\n",
              "      <td>2018-01-04 11:22:00</td>\n",
              "    </tr>\n",
              "    <tr>\n",
              "      <th>3000</th>\n",
              "      <td>1307</td>\n",
              "      <td>2018-01-04 13:13:44</td>\n",
              "    </tr>\n",
              "    <tr>\n",
              "      <th>3001</th>\n",
              "      <td>1307</td>\n",
              "      <td>2018-01-04 13:13:45</td>\n",
              "    </tr>\n",
              "    <tr>\n",
              "      <th>3002</th>\n",
              "      <td>1224</td>\n",
              "      <td>2018-01-04 14:10:04</td>\n",
              "    </tr>\n",
              "  </tbody>\n",
              "</table>\n",
              "<p>3003 rows × 2 columns</p>\n",
              "</div>"
            ],
            "text/plain": [
              "         1                    2\n",
              "0      466  2017-01-07 18:24:07\n",
              "1      466  2017-01-07 18:24:55\n",
              "2      458  2017-01-07 18:25:18\n",
              "3      458  2017-01-07 18:26:21\n",
              "4      592  2017-01-07 19:09:59\n",
              "...    ...                  ...\n",
              "2998  1307  2018-01-04 10:48:28\n",
              "2999  1230  2018-01-04 11:22:00\n",
              "3000  1307  2018-01-04 13:13:44\n",
              "3001  1307  2018-01-04 13:13:45\n",
              "3002  1224  2018-01-04 14:10:04\n",
              "\n",
              "[3003 rows x 2 columns]"
            ]
          },
          "execution_count": 163,
          "metadata": {},
          "output_type": "execute_result"
        }
      ],
      "source": [
        "df = df[[1,2]]\n",
        "df\n"
      ]
    },
    {
      "cell_type": "code",
      "execution_count": 164,
      "metadata": {},
      "outputs": [
        {
          "data": {
            "text/html": [
              "<div>\n",
              "<style scoped>\n",
              "    .dataframe tbody tr th:only-of-type {\n",
              "        vertical-align: middle;\n",
              "    }\n",
              "\n",
              "    .dataframe tbody tr th {\n",
              "        vertical-align: top;\n",
              "    }\n",
              "\n",
              "    .dataframe thead th {\n",
              "        text-align: right;\n",
              "    }\n",
              "</style>\n",
              "<table border=\"1\" class=\"dataframe\">\n",
              "  <thead>\n",
              "    <tr style=\"text-align: right;\">\n",
              "      <th></th>\n",
              "      <th>user_id</th>\n",
              "      <th>login_time</th>\n",
              "    </tr>\n",
              "  </thead>\n",
              "  <tbody>\n",
              "    <tr>\n",
              "      <th>0</th>\n",
              "      <td>466</td>\n",
              "      <td>2017-01-07 18:24:07</td>\n",
              "    </tr>\n",
              "    <tr>\n",
              "      <th>1</th>\n",
              "      <td>466</td>\n",
              "      <td>2017-01-07 18:24:55</td>\n",
              "    </tr>\n",
              "    <tr>\n",
              "      <th>2</th>\n",
              "      <td>458</td>\n",
              "      <td>2017-01-07 18:25:18</td>\n",
              "    </tr>\n",
              "    <tr>\n",
              "      <th>3</th>\n",
              "      <td>458</td>\n",
              "      <td>2017-01-07 18:26:21</td>\n",
              "    </tr>\n",
              "    <tr>\n",
              "      <th>4</th>\n",
              "      <td>592</td>\n",
              "      <td>2017-01-07 19:09:59</td>\n",
              "    </tr>\n",
              "  </tbody>\n",
              "</table>\n",
              "</div>"
            ],
            "text/plain": [
              "   user_id           login_time\n",
              "0      466  2017-01-07 18:24:07\n",
              "1      466  2017-01-07 18:24:55\n",
              "2      458  2017-01-07 18:25:18\n",
              "3      458  2017-01-07 18:26:21\n",
              "4      592  2017-01-07 19:09:59"
            ]
          },
          "execution_count": 164,
          "metadata": {},
          "output_type": "execute_result"
        }
      ],
      "source": [
        "df.rename(columns={1:'user_id',2:'login_time'},inplace=True)\n",
        "df.head()"
      ]
    },
    {
      "cell_type": "code",
      "execution_count": 167,
      "metadata": {},
      "outputs": [
        {
          "data": {
            "text/html": [
              "<div>\n",
              "<style scoped>\n",
              "    .dataframe tbody tr th:only-of-type {\n",
              "        vertical-align: middle;\n",
              "    }\n",
              "\n",
              "    .dataframe tbody tr th {\n",
              "        vertical-align: top;\n",
              "    }\n",
              "\n",
              "    .dataframe thead th {\n",
              "        text-align: right;\n",
              "    }\n",
              "</style>\n",
              "<table border=\"1\" class=\"dataframe\">\n",
              "  <thead>\n",
              "    <tr style=\"text-align: right;\">\n",
              "      <th></th>\n",
              "      <th>user_id</th>\n",
              "      <th>login_time</th>\n",
              "    </tr>\n",
              "  </thead>\n",
              "  <tbody>\n",
              "    <tr>\n",
              "      <th>0</th>\n",
              "      <td>NaN</td>\n",
              "      <td>None</td>\n",
              "    </tr>\n",
              "    <tr>\n",
              "      <th>1</th>\n",
              "      <td>466.0</td>\n",
              "      <td>2017-01-07 18:24:07</td>\n",
              "    </tr>\n",
              "    <tr>\n",
              "      <th>2</th>\n",
              "      <td>466.0</td>\n",
              "      <td>2017-01-07 18:24:55</td>\n",
              "    </tr>\n",
              "    <tr>\n",
              "      <th>3</th>\n",
              "      <td>458.0</td>\n",
              "      <td>2017-01-07 18:25:18</td>\n",
              "    </tr>\n",
              "    <tr>\n",
              "      <th>4</th>\n",
              "      <td>458.0</td>\n",
              "      <td>2017-01-07 18:26:21</td>\n",
              "    </tr>\n",
              "  </tbody>\n",
              "</table>\n",
              "</div>"
            ],
            "text/plain": [
              "   user_id           login_time\n",
              "0      NaN                 None\n",
              "1    466.0  2017-01-07 18:24:07\n",
              "2    466.0  2017-01-07 18:24:55\n",
              "3    458.0  2017-01-07 18:25:18\n",
              "4    458.0  2017-01-07 18:26:21"
            ]
          },
          "execution_count": 167,
          "metadata": {},
          "output_type": "execute_result"
        }
      ],
      "source": [
        "df.shift(1).head()\n",
        "#Note shifted by one position"
      ]
    },
    {
      "cell_type": "code",
      "execution_count": 168,
      "metadata": {},
      "outputs": [
        {
          "data": {
            "text/html": [
              "<div>\n",
              "<style scoped>\n",
              "    .dataframe tbody tr th:only-of-type {\n",
              "        vertical-align: middle;\n",
              "    }\n",
              "\n",
              "    .dataframe tbody tr th {\n",
              "        vertical-align: top;\n",
              "    }\n",
              "\n",
              "    .dataframe thead th {\n",
              "        text-align: right;\n",
              "    }\n",
              "</style>\n",
              "<table border=\"1\" class=\"dataframe\">\n",
              "  <thead>\n",
              "    <tr style=\"text-align: right;\">\n",
              "      <th></th>\n",
              "      <th>user_id</th>\n",
              "      <th>login_time</th>\n",
              "    </tr>\n",
              "  </thead>\n",
              "  <tbody>\n",
              "    <tr>\n",
              "      <th>2998</th>\n",
              "      <td>1307</td>\n",
              "      <td>2018-01-04 10:48:28</td>\n",
              "    </tr>\n",
              "    <tr>\n",
              "      <th>2999</th>\n",
              "      <td>1230</td>\n",
              "      <td>2018-01-04 11:22:00</td>\n",
              "    </tr>\n",
              "    <tr>\n",
              "      <th>3000</th>\n",
              "      <td>1307</td>\n",
              "      <td>2018-01-04 13:13:44</td>\n",
              "    </tr>\n",
              "    <tr>\n",
              "      <th>3001</th>\n",
              "      <td>1307</td>\n",
              "      <td>2018-01-04 13:13:45</td>\n",
              "    </tr>\n",
              "    <tr>\n",
              "      <th>3002</th>\n",
              "      <td>1224</td>\n",
              "      <td>2018-01-04 14:10:04</td>\n",
              "    </tr>\n",
              "  </tbody>\n",
              "</table>\n",
              "</div>"
            ],
            "text/plain": [
              "      user_id           login_time\n",
              "2998     1307  2018-01-04 10:48:28\n",
              "2999     1230  2018-01-04 11:22:00\n",
              "3000     1307  2018-01-04 13:13:44\n",
              "3001     1307  2018-01-04 13:13:45\n",
              "3002     1224  2018-01-04 14:10:04"
            ]
          },
          "execution_count": 168,
          "metadata": {},
          "output_type": "execute_result"
        }
      ],
      "source": [
        "# opossite direction shifting\n",
        "df.tail()"
      ]
    },
    {
      "cell_type": "code",
      "execution_count": 170,
      "metadata": {},
      "outputs": [
        {
          "data": {
            "text/html": [
              "<div>\n",
              "<style scoped>\n",
              "    .dataframe tbody tr th:only-of-type {\n",
              "        vertical-align: middle;\n",
              "    }\n",
              "\n",
              "    .dataframe tbody tr th {\n",
              "        vertical-align: top;\n",
              "    }\n",
              "\n",
              "    .dataframe thead th {\n",
              "        text-align: right;\n",
              "    }\n",
              "</style>\n",
              "<table border=\"1\" class=\"dataframe\">\n",
              "  <thead>\n",
              "    <tr style=\"text-align: right;\">\n",
              "      <th></th>\n",
              "      <th>user_id</th>\n",
              "      <th>login_time</th>\n",
              "    </tr>\n",
              "  </thead>\n",
              "  <tbody>\n",
              "    <tr>\n",
              "      <th>2998</th>\n",
              "      <td>1230.0</td>\n",
              "      <td>2018-01-04 11:22:00</td>\n",
              "    </tr>\n",
              "    <tr>\n",
              "      <th>2999</th>\n",
              "      <td>1307.0</td>\n",
              "      <td>2018-01-04 13:13:44</td>\n",
              "    </tr>\n",
              "    <tr>\n",
              "      <th>3000</th>\n",
              "      <td>1307.0</td>\n",
              "      <td>2018-01-04 13:13:45</td>\n",
              "    </tr>\n",
              "    <tr>\n",
              "      <th>3001</th>\n",
              "      <td>1224.0</td>\n",
              "      <td>2018-01-04 14:10:04</td>\n",
              "    </tr>\n",
              "    <tr>\n",
              "      <th>3002</th>\n",
              "      <td>NaN</td>\n",
              "      <td>None</td>\n",
              "    </tr>\n",
              "  </tbody>\n",
              "</table>\n",
              "</div>"
            ],
            "text/plain": [
              "      user_id           login_time\n",
              "2998   1230.0  2018-01-04 11:22:00\n",
              "2999   1307.0  2018-01-04 13:13:44\n",
              "3000   1307.0  2018-01-04 13:13:45\n",
              "3001   1224.0  2018-01-04 14:10:04\n",
              "3002      NaN                 None"
            ]
          },
          "execution_count": 170,
          "metadata": {},
          "output_type": "execute_result"
        }
      ],
      "source": [
        "df.shift(-1).tail()"
      ]
    },
    {
      "cell_type": "code",
      "execution_count": 172,
      "metadata": {
        "colab": {
          "base_uri": "https://localhost:8080/",
          "height": 206
        },
        "id": "NAr4UdYo8Hma",
        "outputId": "873148b1-41f3-4fe5-a144-e0ddb6cbd895"
      },
      "outputs": [
        {
          "data": {
            "text/html": [
              "<div>\n",
              "<style scoped>\n",
              "    .dataframe tbody tr th:only-of-type {\n",
              "        vertical-align: middle;\n",
              "    }\n",
              "\n",
              "    .dataframe tbody tr th {\n",
              "        vertical-align: top;\n",
              "    }\n",
              "\n",
              "    .dataframe thead th {\n",
              "        text-align: right;\n",
              "    }\n",
              "</style>\n",
              "<table border=\"1\" class=\"dataframe\">\n",
              "  <thead>\n",
              "    <tr style=\"text-align: right;\">\n",
              "      <th></th>\n",
              "      <th>user_id</th>\n",
              "      <th>login_time</th>\n",
              "    </tr>\n",
              "  </thead>\n",
              "  <tbody>\n",
              "    <tr>\n",
              "      <th>2</th>\n",
              "      <td>458</td>\n",
              "      <td>2017-01-07 18:25:18</td>\n",
              "    </tr>\n",
              "    <tr>\n",
              "      <th>3</th>\n",
              "      <td>458</td>\n",
              "      <td>2017-01-07 18:26:21</td>\n",
              "    </tr>\n",
              "    <tr>\n",
              "      <th>9</th>\n",
              "      <td>458</td>\n",
              "      <td>2017-01-09 11:13:12</td>\n",
              "    </tr>\n",
              "    <tr>\n",
              "      <th>10</th>\n",
              "      <td>458</td>\n",
              "      <td>2017-01-09 11:34:02</td>\n",
              "    </tr>\n",
              "    <tr>\n",
              "      <th>25</th>\n",
              "      <td>458</td>\n",
              "      <td>2017-01-10 12:14:11</td>\n",
              "    </tr>\n",
              "  </tbody>\n",
              "</table>\n",
              "</div>"
            ],
            "text/plain": [
              "    user_id           login_time\n",
              "2       458  2017-01-07 18:25:18\n",
              "3       458  2017-01-07 18:26:21\n",
              "9       458  2017-01-09 11:13:12\n",
              "10      458  2017-01-09 11:34:02\n",
              "25      458  2017-01-10 12:14:11"
            ]
          },
          "execution_count": 172,
          "metadata": {},
          "output_type": "execute_result"
        }
      ],
      "source": [
        "user_df = df[df['user_id'] == 458]\n",
        "user_df.head()"
      ]
    },
    {
      "attachments": {},
      "cell_type": "markdown",
      "metadata": {},
      "source": [
        "### user login time diff using shift"
      ]
    },
    {
      "cell_type": "code",
      "execution_count": 173,
      "metadata": {
        "colab": {
          "base_uri": "https://localhost:8080/"
        },
        "id": "HPzll25x8mkw",
        "outputId": "9b2a29b4-0007-4f12-a389-3da5ae3ff024"
      },
      "outputs": [
        {
          "name": "stdout",
          "output_type": "stream",
          "text": [
            "<class 'pandas.core.frame.DataFrame'>\n",
            "Int64Index: 208 entries, 2 to 1018\n",
            "Data columns (total 2 columns):\n",
            " #   Column      Non-Null Count  Dtype         \n",
            "---  ------      --------------  -----         \n",
            " 0   user_id     208 non-null    int64         \n",
            " 1   login_time  208 non-null    datetime64[ns]\n",
            "dtypes: datetime64[ns](1), int64(1)\n",
            "memory usage: 4.9 KB\n"
          ]
        },
        {
          "name": "stderr",
          "output_type": "stream",
          "text": [
            "C:\\Users\\kkark\\AppData\\Local\\Temp\\ipykernel_8380\\897488481.py:1: SettingWithCopyWarning: \n",
            "A value is trying to be set on a copy of a slice from a DataFrame.\n",
            "Try using .loc[row_indexer,col_indexer] = value instead\n",
            "\n",
            "See the caveats in the documentation: https://pandas.pydata.org/pandas-docs/stable/user_guide/indexing.html#returning-a-view-versus-a-copy\n",
            "  user_df['login_time'] = pd.to_datetime(user_df['login_time'])\n"
          ]
        }
      ],
      "source": [
        "user_df['login_time'] = pd.to_datetime(user_df['login_time'])\n",
        "user_df.info()"
      ]
    },
    {
      "cell_type": "code",
      "execution_count": 174,
      "metadata": {
        "colab": {
          "base_uri": "https://localhost:8080/"
        },
        "id": "7PBLZrNX81hI",
        "outputId": "e807726f-e160-43b7-af27-3aa5e3f3a9b3"
      },
      "outputs": [
        {
          "name": "stderr",
          "output_type": "stream",
          "text": [
            "C:\\Users\\kkark\\AppData\\Local\\Temp\\ipykernel_8380\\4028882259.py:1: SettingWithCopyWarning: \n",
            "A value is trying to be set on a copy of a slice from a DataFrame.\n",
            "Try using .loc[row_indexer,col_indexer] = value instead\n",
            "\n",
            "See the caveats in the documentation: https://pandas.pydata.org/pandas-docs/stable/user_guide/indexing.html#returning-a-view-versus-a-copy\n",
            "  user_df['shifted'] = user_df['login_time'].shift(1)\n"
          ]
        },
        {
          "data": {
            "text/plain": [
              "Timedelta('0 days 17:29:22.053140096')"
            ]
          },
          "execution_count": 174,
          "metadata": {},
          "output_type": "execute_result"
        }
      ],
      "source": [
        "user_df['shifted'] = user_df['login_time'].shift(1)\n",
        "(user_df['login_time'] - user_df['shifted']).mean()"
      ]
    }
  ],
  "metadata": {
    "colab": {
      "provenance": []
    },
    "kernelspec": {
      "display_name": "Python 3",
      "language": "python",
      "name": "python3"
    },
    "language_info": {
      "codemirror_mode": {
        "name": "ipython",
        "version": 3
      },
      "file_extension": ".py",
      "mimetype": "text/x-python",
      "name": "python",
      "nbconvert_exporter": "python",
      "pygments_lexer": "ipython3",
      "version": "3.11.1"
    },
    "vscode": {
      "interpreter": {
        "hash": "f347c3a38a5b38569b7ec1709278d62e7c29be003839bb1ea9507b2f10b81935"
      }
    }
  },
  "nbformat": 4,
  "nbformat_minor": 0
}
