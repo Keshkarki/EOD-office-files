{
 "cells": [
  {
   "cell_type": "code",
   "execution_count": 106,
   "metadata": {},
   "outputs": [],
   "source": [
    "import numpy as np\n",
    "import pandas as pd\n",
    "import datetime as dt"
   ]
  },
  {
   "attachments": {},
   "cell_type": "markdown",
   "metadata": {},
   "source": [
    "### importing merge df"
   ]
  },
  {
   "cell_type": "code",
   "execution_count": 107,
   "metadata": {},
   "outputs": [
    {
     "data": {
      "text/html": [
       "<div>\n",
       "<style scoped>\n",
       "    .dataframe tbody tr th:only-of-type {\n",
       "        vertical-align: middle;\n",
       "    }\n",
       "\n",
       "    .dataframe tbody tr th {\n",
       "        vertical-align: top;\n",
       "    }\n",
       "\n",
       "    .dataframe thead th {\n",
       "        text-align: right;\n",
       "    }\n",
       "</style>\n",
       "<table border=\"1\" class=\"dataframe\">\n",
       "  <thead>\n",
       "    <tr style=\"text-align: right;\">\n",
       "      <th></th>\n",
       "      <th>open</th>\n",
       "      <th>high</th>\n",
       "      <th>low</th>\n",
       "      <th>close</th>\n",
       "      <th>ATMStrPr</th>\n",
       "      <th>currWeek_exp_dt</th>\n",
       "      <th>nextWeek_exp_dt</th>\n",
       "      <th>farWeek_exp_dt</th>\n",
       "      <th>currMonth_exp_dt</th>\n",
       "      <th>nextMonth_exp_dt</th>\n",
       "      <th>farMonth_exp_dt</th>\n",
       "    </tr>\n",
       "    <tr>\n",
       "      <th>datetime</th>\n",
       "      <th></th>\n",
       "      <th></th>\n",
       "      <th></th>\n",
       "      <th></th>\n",
       "      <th></th>\n",
       "      <th></th>\n",
       "      <th></th>\n",
       "      <th></th>\n",
       "      <th></th>\n",
       "      <th></th>\n",
       "      <th></th>\n",
       "    </tr>\n",
       "  </thead>\n",
       "  <tbody>\n",
       "    <tr>\n",
       "      <th>2020-01-01 09:15:00</th>\n",
       "      <td>32227.80</td>\n",
       "      <td>32295.80</td>\n",
       "      <td>32220.90</td>\n",
       "      <td>32292.00</td>\n",
       "      <td>32300.0</td>\n",
       "      <td>2020-01-02</td>\n",
       "      <td>2020-01-09</td>\n",
       "      <td>2020-01-16</td>\n",
       "      <td>2020-01-30</td>\n",
       "      <td>2020-02-27</td>\n",
       "      <td>2020-03-26</td>\n",
       "    </tr>\n",
       "    <tr>\n",
       "      <th>2020-01-01 09:16:00</th>\n",
       "      <td>32296.35</td>\n",
       "      <td>32303.30</td>\n",
       "      <td>32283.95</td>\n",
       "      <td>32288.25</td>\n",
       "      <td>32300.0</td>\n",
       "      <td>2020-01-02</td>\n",
       "      <td>2020-01-09</td>\n",
       "      <td>2020-01-16</td>\n",
       "      <td>2020-01-30</td>\n",
       "      <td>2020-02-27</td>\n",
       "      <td>2020-03-26</td>\n",
       "    </tr>\n",
       "    <tr>\n",
       "      <th>2020-01-01 09:17:00</th>\n",
       "      <td>32285.05</td>\n",
       "      <td>32290.85</td>\n",
       "      <td>32279.35</td>\n",
       "      <td>32282.95</td>\n",
       "      <td>32300.0</td>\n",
       "      <td>2020-01-02</td>\n",
       "      <td>2020-01-09</td>\n",
       "      <td>2020-01-16</td>\n",
       "      <td>2020-01-30</td>\n",
       "      <td>2020-02-27</td>\n",
       "      <td>2020-03-26</td>\n",
       "    </tr>\n",
       "    <tr>\n",
       "      <th>2020-01-01 09:18:00</th>\n",
       "      <td>32280.20</td>\n",
       "      <td>32296.25</td>\n",
       "      <td>32270.70</td>\n",
       "      <td>32292.45</td>\n",
       "      <td>32300.0</td>\n",
       "      <td>2020-01-02</td>\n",
       "      <td>2020-01-09</td>\n",
       "      <td>2020-01-16</td>\n",
       "      <td>2020-01-30</td>\n",
       "      <td>2020-02-27</td>\n",
       "      <td>2020-03-26</td>\n",
       "    </tr>\n",
       "    <tr>\n",
       "      <th>2020-01-01 09:19:00</th>\n",
       "      <td>32295.30</td>\n",
       "      <td>32312.05</td>\n",
       "      <td>32294.85</td>\n",
       "      <td>32298.65</td>\n",
       "      <td>32300.0</td>\n",
       "      <td>2020-01-02</td>\n",
       "      <td>2020-01-09</td>\n",
       "      <td>2020-01-16</td>\n",
       "      <td>2020-01-30</td>\n",
       "      <td>2020-02-27</td>\n",
       "      <td>2020-03-26</td>\n",
       "    </tr>\n",
       "    <tr>\n",
       "      <th>...</th>\n",
       "      <td>...</td>\n",
       "      <td>...</td>\n",
       "      <td>...</td>\n",
       "      <td>...</td>\n",
       "      <td>...</td>\n",
       "      <td>...</td>\n",
       "      <td>...</td>\n",
       "      <td>...</td>\n",
       "      <td>...</td>\n",
       "      <td>...</td>\n",
       "      <td>...</td>\n",
       "    </tr>\n",
       "    <tr>\n",
       "      <th>2022-12-19 15:25:00</th>\n",
       "      <td>43432.50</td>\n",
       "      <td>43433.35</td>\n",
       "      <td>43421.35</td>\n",
       "      <td>43429.75</td>\n",
       "      <td>43400.0</td>\n",
       "      <td>NaN</td>\n",
       "      <td>NaN</td>\n",
       "      <td>NaN</td>\n",
       "      <td>NaN</td>\n",
       "      <td>NaN</td>\n",
       "      <td>NaN</td>\n",
       "    </tr>\n",
       "    <tr>\n",
       "      <th>2022-12-19 15:26:00</th>\n",
       "      <td>43428.05</td>\n",
       "      <td>43435.30</td>\n",
       "      <td>43425.95</td>\n",
       "      <td>43433.90</td>\n",
       "      <td>43400.0</td>\n",
       "      <td>NaN</td>\n",
       "      <td>NaN</td>\n",
       "      <td>NaN</td>\n",
       "      <td>NaN</td>\n",
       "      <td>NaN</td>\n",
       "      <td>NaN</td>\n",
       "    </tr>\n",
       "    <tr>\n",
       "      <th>2022-12-19 15:27:00</th>\n",
       "      <td>43436.65</td>\n",
       "      <td>43451.45</td>\n",
       "      <td>43432.80</td>\n",
       "      <td>43444.60</td>\n",
       "      <td>43400.0</td>\n",
       "      <td>NaN</td>\n",
       "      <td>NaN</td>\n",
       "      <td>NaN</td>\n",
       "      <td>NaN</td>\n",
       "      <td>NaN</td>\n",
       "      <td>NaN</td>\n",
       "    </tr>\n",
       "    <tr>\n",
       "      <th>2022-12-19 15:28:00</th>\n",
       "      <td>43446.15</td>\n",
       "      <td>43448.25</td>\n",
       "      <td>43422.00</td>\n",
       "      <td>43428.60</td>\n",
       "      <td>43400.0</td>\n",
       "      <td>NaN</td>\n",
       "      <td>NaN</td>\n",
       "      <td>NaN</td>\n",
       "      <td>NaN</td>\n",
       "      <td>NaN</td>\n",
       "      <td>NaN</td>\n",
       "    </tr>\n",
       "    <tr>\n",
       "      <th>2022-12-19 15:29:00</th>\n",
       "      <td>43429.40</td>\n",
       "      <td>43451.40</td>\n",
       "      <td>43424.80</td>\n",
       "      <td>43448.40</td>\n",
       "      <td>43400.0</td>\n",
       "      <td>NaN</td>\n",
       "      <td>NaN</td>\n",
       "      <td>NaN</td>\n",
       "      <td>NaN</td>\n",
       "      <td>NaN</td>\n",
       "      <td>NaN</td>\n",
       "    </tr>\n",
       "  </tbody>\n",
       "</table>\n",
       "<p>275486 rows × 11 columns</p>\n",
       "</div>"
      ],
      "text/plain": [
       "                         open      high       low     close  ATMStrPr currWeek_exp_dt nextWeek_exp_dt farWeek_exp_dt currMonth_exp_dt nextMonth_exp_dt farMonth_exp_dt\n",
       "datetime                                                                                                                                                              \n",
       "2020-01-01 09:15:00  32227.80  32295.80  32220.90  32292.00   32300.0      2020-01-02      2020-01-09     2020-01-16       2020-01-30       2020-02-27      2020-03-26\n",
       "2020-01-01 09:16:00  32296.35  32303.30  32283.95  32288.25   32300.0      2020-01-02      2020-01-09     2020-01-16       2020-01-30       2020-02-27      2020-03-26\n",
       "2020-01-01 09:17:00  32285.05  32290.85  32279.35  32282.95   32300.0      2020-01-02      2020-01-09     2020-01-16       2020-01-30       2020-02-27      2020-03-26\n",
       "2020-01-01 09:18:00  32280.20  32296.25  32270.70  32292.45   32300.0      2020-01-02      2020-01-09     2020-01-16       2020-01-30       2020-02-27      2020-03-26\n",
       "2020-01-01 09:19:00  32295.30  32312.05  32294.85  32298.65   32300.0      2020-01-02      2020-01-09     2020-01-16       2020-01-30       2020-02-27      2020-03-26\n",
       "...                       ...       ...       ...       ...       ...             ...             ...            ...              ...              ...             ...\n",
       "2022-12-19 15:25:00  43432.50  43433.35  43421.35  43429.75   43400.0             NaN             NaN            NaN              NaN              NaN             NaN\n",
       "2022-12-19 15:26:00  43428.05  43435.30  43425.95  43433.90   43400.0             NaN             NaN            NaN              NaN              NaN             NaN\n",
       "2022-12-19 15:27:00  43436.65  43451.45  43432.80  43444.60   43400.0             NaN             NaN            NaN              NaN              NaN             NaN\n",
       "2022-12-19 15:28:00  43446.15  43448.25  43422.00  43428.60   43400.0             NaN             NaN            NaN              NaN              NaN             NaN\n",
       "2022-12-19 15:29:00  43429.40  43451.40  43424.80  43448.40   43400.0             NaN             NaN            NaN              NaN              NaN             NaN\n",
       "\n",
       "[275486 rows x 11 columns]"
      ]
     },
     "execution_count": 107,
     "metadata": {},
     "output_type": "execute_result"
    }
   ],
   "source": [
    "from _01_merged_df import MergedDataFrame \n",
    "obj = MergedDataFrame(underlying='BANKNIFTY')\n",
    "merged_df = obj.get_merged_df()\n",
    "merged_df"
   ]
  },
  {
   "cell_type": "code",
   "execution_count": 108,
   "metadata": {},
   "outputs": [],
   "source": [
    "from datetime import datetime\n",
    "underlying = 'BANKNIFTY'\n",
    "date = '2021-01-01'\n",
    "dateStr = date.split('-')[0]\n",
    "time = '09:19'\n",
    "exp_period = 'currWeek_exp_dt'\n",
    "OTM_points = 0.2\n",
    "\n",
    "dateTimeStr = date+' '+time\n",
    "datetime_obj = datetime.strptime(dateTimeStr, '%Y-%m-%d %H:%M')\n",
    "timeDt = datetime_obj.time()\n",
    "dateDt = datetime_obj.date()"
   ]
  },
  {
   "cell_type": "code",
   "execution_count": 109,
   "metadata": {},
   "outputs": [
    {
     "data": {
      "text/plain": [
       "datetime.time(9, 19)"
      ]
     },
     "execution_count": 109,
     "metadata": {},
     "output_type": "execute_result"
    }
   ],
   "source": [
    "datetime_obj.time()"
   ]
  },
  {
   "cell_type": "code",
   "execution_count": 110,
   "metadata": {},
   "outputs": [
    {
     "data": {
      "text/plain": [
       "datetime.time(9, 19)"
      ]
     },
     "execution_count": 110,
     "metadata": {},
     "output_type": "execute_result"
    }
   ],
   "source": [
    "pd.to_datetime(time).time()"
   ]
  },
  {
   "attachments": {},
   "cell_type": "markdown",
   "metadata": {},
   "source": [
    "###  expiryDate formatting for symbol"
   ]
  },
  {
   "cell_type": "code",
   "execution_count": 111,
   "metadata": {},
   "outputs": [],
   "source": [
    "expDate = merged_df.loc[datetime_obj,exp_period]\n",
    "expDate = expDate.strftime('%y%m%d')\n"
   ]
  },
  {
   "cell_type": "code",
   "execution_count": 112,
   "metadata": {},
   "outputs": [],
   "source": [
    "# merged_df.insert(4,'ATMStrPr',round(merged_df['close'],-2))\n",
    "\n",
    "# def CE_strike_prices(entry_time_dt,date_dt):\n",
    "#     return str(round(merged_df.loc[(merged_df.index.time == entry_time_dt) & (merged_df.index.date == date_dt), 'ATMStrPr'].values[0] + OTM_points))\n",
    "\n",
    "# def PE_strike_prices(entry_time_dt,date_dt):\n",
    "#     return str(round(merged_df.loc[(merged_df.index.time == entry_time_dt) & (merged_df.index.date == date_dt), 'ATMStrPr'].values[0] - OTM_points))\n"
   ]
  },
  {
   "attachments": {},
   "cell_type": "markdown",
   "metadata": {},
   "source": [
    "### strike prices setup for symbol"
   ]
  },
  {
   "cell_type": "code",
   "execution_count": 113,
   "metadata": {},
   "outputs": [],
   "source": [
    "def CE_strike_price(date,time):\n",
    "    return str(round(merged_df.loc[(merged_df.index.time == timeDt) & (merged_df.index.date == dateDt), 'ATMStrPr'].values[0] + OTM_points))\n",
    "\n",
    "CE_strikePrice = CE_strike_price(dateDt,timeDt)"
   ]
  },
  {
   "cell_type": "code",
   "execution_count": 114,
   "metadata": {},
   "outputs": [],
   "source": [
    "def PE_strike_price(date,time):\n",
    "    return str(round(merged_df.loc[(merged_df.index.time == timeDt) & (merged_df.index.date == dateDt), 'ATMStrPr'].values[0] - OTM_points))\n",
    "\n",
    "PE_strikePrice = PE_strike_price(dateDt,timeDt)"
   ]
  },
  {
   "cell_type": "code",
   "execution_count": 123,
   "metadata": {},
   "outputs": [
    {
     "data": {
      "text/plain": [
       "'31300'"
      ]
     },
     "execution_count": 123,
     "metadata": {},
     "output_type": "execute_result"
    }
   ],
   "source": [
    "CE_strikePrice"
   ]
  },
  {
   "cell_type": "code",
   "execution_count": 124,
   "metadata": {},
   "outputs": [
    {
     "data": {
      "text/plain": [
       "'31300'"
      ]
     },
     "execution_count": 124,
     "metadata": {},
     "output_type": "execute_result"
    }
   ],
   "source": [
    "PE_strikePrice"
   ]
  },
  {
   "attachments": {},
   "cell_type": "markdown",
   "metadata": {},
   "source": [
    "### symbol"
   ]
  },
  {
   "cell_type": "code",
   "execution_count": 116,
   "metadata": {},
   "outputs": [],
   "source": [
    "CE_symbol = underlying+expDate+CE_strikePrice+'CE'"
   ]
  },
  {
   "cell_type": "code",
   "execution_count": 117,
   "metadata": {},
   "outputs": [],
   "source": [
    "PE_symbol = underlying+expDate+PE_strikePrice+'PE'"
   ]
  },
  {
   "attachments": {},
   "cell_type": "markdown",
   "metadata": {},
   "source": [
    "### reading call price value"
   ]
  },
  {
   "cell_type": "code",
   "execution_count": 118,
   "metadata": {},
   "outputs": [],
   "source": [
    "rel_CE_df = pd.read_csv(f\"C:\\\\keshav\\\\Rahul\\\\Options_data\\\\NIFTY & BANKNIFTY (Jan 2020 to 19 Dec 2022)\\\\NIFTY & BANKNIFTY Options (Jan 2020 to 19 Dec 2022)\\\\{dateStr}\\\\{underlying} Options\\\\{CE_symbol}.csv\",header=None, usecols=[0, 1, 2, 3, 4, 5], names=['date', 'time', 'open', 'high', 'low', 'close'])\n",
    "\n",
    "rel_CE_df['date'] = pd.to_datetime(rel_CE_df['date'],format='%Y%m%d').dt.date\n",
    "rel_CE_df['date'] = pd.to_datetime(rel_CE_df['date'])\n",
    "rel_CE_df['date'] = rel_CE_df['date'].astype('str')\n",
    "datetime = pd.to_datetime(rel_CE_df['date'] + ' ' + rel_CE_df['time'], format='%Y-%m-%d %H:%M')\n",
    "rel_CE_df.set_index(datetime,inplace=True)"
   ]
  },
  {
   "cell_type": "code",
   "execution_count": 119,
   "metadata": {},
   "outputs": [
    {
     "data": {
      "text/plain": [
       "445.8"
      ]
     },
     "execution_count": 119,
     "metadata": {},
     "output_type": "execute_result"
    }
   ],
   "source": [
    "call_price = rel_CE_df.loc[datetime_obj,'close']\n",
    "call_price"
   ]
  },
  {
   "attachments": {},
   "cell_type": "markdown",
   "metadata": {},
   "source": [
    "### reading put price value"
   ]
  },
  {
   "cell_type": "code",
   "execution_count": 120,
   "metadata": {},
   "outputs": [],
   "source": [
    "rel_PE_df = pd.read_csv(f\"C:\\\\keshav\\\\Rahul\\\\Options_data\\\\NIFTY & BANKNIFTY (Jan 2020 to 19 Dec 2022)\\\\NIFTY & BANKNIFTY Options (Jan 2020 to 19 Dec 2022)\\\\{dateStr}\\\\{underlying} Options\\\\{PE_symbol}.csv\",header=None, usecols=[0, 1, 2, 3, 4, 5], names=['date', 'time', 'open', 'high', 'low', 'close'])\n",
    "\n",
    "rel_PE_df['date'] = pd.to_datetime(rel_PE_df['date'],format='%Y%m%d').dt.date\n",
    "rel_PE_df['date'] = pd.to_datetime(rel_PE_df['date'])\n",
    "rel_PE_df['date'] = rel_PE_df['date'].astype('str')\n",
    "datetime = pd.to_datetime(rel_PE_df['date'] + ' ' + rel_PE_df['time'], format='%Y-%m-%d %H:%M')\n",
    "rel_PE_df.set_index(datetime,inplace=True)"
   ]
  },
  {
   "cell_type": "code",
   "execution_count": 121,
   "metadata": {},
   "outputs": [
    {
     "data": {
      "text/html": [
       "<div>\n",
       "<style scoped>\n",
       "    .dataframe tbody tr th:only-of-type {\n",
       "        vertical-align: middle;\n",
       "    }\n",
       "\n",
       "    .dataframe tbody tr th {\n",
       "        vertical-align: top;\n",
       "    }\n",
       "\n",
       "    .dataframe thead th {\n",
       "        text-align: right;\n",
       "    }\n",
       "</style>\n",
       "<table border=\"1\" class=\"dataframe\">\n",
       "  <thead>\n",
       "    <tr style=\"text-align: right;\">\n",
       "      <th></th>\n",
       "      <th>date</th>\n",
       "      <th>time</th>\n",
       "      <th>open</th>\n",
       "      <th>high</th>\n",
       "      <th>low</th>\n",
       "      <th>close</th>\n",
       "    </tr>\n",
       "  </thead>\n",
       "  <tbody>\n",
       "    <tr>\n",
       "      <th>2021-01-01 09:15:00</th>\n",
       "      <td>2021-01-01</td>\n",
       "      <td>09:15</td>\n",
       "      <td>550.00</td>\n",
       "      <td>551.05</td>\n",
       "      <td>413.00</td>\n",
       "      <td>419.20</td>\n",
       "    </tr>\n",
       "    <tr>\n",
       "      <th>2021-01-01 09:16:00</th>\n",
       "      <td>2021-01-01</td>\n",
       "      <td>09:16</td>\n",
       "      <td>419.30</td>\n",
       "      <td>419.30</td>\n",
       "      <td>401.90</td>\n",
       "      <td>418.65</td>\n",
       "    </tr>\n",
       "    <tr>\n",
       "      <th>2021-01-01 09:17:00</th>\n",
       "      <td>2021-01-01</td>\n",
       "      <td>09:17</td>\n",
       "      <td>418.65</td>\n",
       "      <td>424.00</td>\n",
       "      <td>414.30</td>\n",
       "      <td>416.35</td>\n",
       "    </tr>\n",
       "    <tr>\n",
       "      <th>2021-01-01 09:18:00</th>\n",
       "      <td>2021-01-01</td>\n",
       "      <td>09:18</td>\n",
       "      <td>415.75</td>\n",
       "      <td>416.20</td>\n",
       "      <td>402.00</td>\n",
       "      <td>403.10</td>\n",
       "    </tr>\n",
       "    <tr>\n",
       "      <th>2021-01-01 09:19:00</th>\n",
       "      <td>2021-01-01</td>\n",
       "      <td>09:19</td>\n",
       "      <td>404.10</td>\n",
       "      <td>408.50</td>\n",
       "      <td>387.10</td>\n",
       "      <td>387.10</td>\n",
       "    </tr>\n",
       "    <tr>\n",
       "      <th>...</th>\n",
       "      <td>...</td>\n",
       "      <td>...</td>\n",
       "      <td>...</td>\n",
       "      <td>...</td>\n",
       "      <td>...</td>\n",
       "      <td>...</td>\n",
       "    </tr>\n",
       "    <tr>\n",
       "      <th>2021-01-07 15:25:00</th>\n",
       "      <td>2021-01-07</td>\n",
       "      <td>15:25</td>\n",
       "      <td>0.10</td>\n",
       "      <td>0.15</td>\n",
       "      <td>0.10</td>\n",
       "      <td>0.10</td>\n",
       "    </tr>\n",
       "    <tr>\n",
       "      <th>2021-01-07 15:26:00</th>\n",
       "      <td>2021-01-07</td>\n",
       "      <td>15:26</td>\n",
       "      <td>0.10</td>\n",
       "      <td>0.15</td>\n",
       "      <td>0.10</td>\n",
       "      <td>0.10</td>\n",
       "    </tr>\n",
       "    <tr>\n",
       "      <th>2021-01-07 15:27:00</th>\n",
       "      <td>2021-01-07</td>\n",
       "      <td>15:27</td>\n",
       "      <td>0.15</td>\n",
       "      <td>0.15</td>\n",
       "      <td>0.10</td>\n",
       "      <td>0.15</td>\n",
       "    </tr>\n",
       "    <tr>\n",
       "      <th>2021-01-07 15:28:00</th>\n",
       "      <td>2021-01-07</td>\n",
       "      <td>15:28</td>\n",
       "      <td>0.15</td>\n",
       "      <td>0.15</td>\n",
       "      <td>0.05</td>\n",
       "      <td>0.05</td>\n",
       "    </tr>\n",
       "    <tr>\n",
       "      <th>2021-01-07 15:29:00</th>\n",
       "      <td>2021-01-07</td>\n",
       "      <td>15:29</td>\n",
       "      <td>0.05</td>\n",
       "      <td>0.15</td>\n",
       "      <td>0.05</td>\n",
       "      <td>0.10</td>\n",
       "    </tr>\n",
       "  </tbody>\n",
       "</table>\n",
       "<p>1878 rows × 6 columns</p>\n",
       "</div>"
      ],
      "text/plain": [
       "                           date   time    open    high     low   close\n",
       "2021-01-01 09:15:00  2021-01-01  09:15  550.00  551.05  413.00  419.20\n",
       "2021-01-01 09:16:00  2021-01-01  09:16  419.30  419.30  401.90  418.65\n",
       "2021-01-01 09:17:00  2021-01-01  09:17  418.65  424.00  414.30  416.35\n",
       "2021-01-01 09:18:00  2021-01-01  09:18  415.75  416.20  402.00  403.10\n",
       "2021-01-01 09:19:00  2021-01-01  09:19  404.10  408.50  387.10  387.10\n",
       "...                         ...    ...     ...     ...     ...     ...\n",
       "2021-01-07 15:25:00  2021-01-07  15:25    0.10    0.15    0.10    0.10\n",
       "2021-01-07 15:26:00  2021-01-07  15:26    0.10    0.15    0.10    0.10\n",
       "2021-01-07 15:27:00  2021-01-07  15:27    0.15    0.15    0.10    0.15\n",
       "2021-01-07 15:28:00  2021-01-07  15:28    0.15    0.15    0.05    0.05\n",
       "2021-01-07 15:29:00  2021-01-07  15:29    0.05    0.15    0.05    0.10\n",
       "\n",
       "[1878 rows x 6 columns]"
      ]
     },
     "execution_count": 121,
     "metadata": {},
     "output_type": "execute_result"
    }
   ],
   "source": [
    "rel_PE_df"
   ]
  },
  {
   "cell_type": "code",
   "execution_count": 122,
   "metadata": {},
   "outputs": [
    {
     "data": {
      "text/plain": [
       "387.1"
      ]
     },
     "execution_count": 122,
     "metadata": {},
     "output_type": "execute_result"
    }
   ],
   "source": [
    "put_price = rel_PE_df.loc[datetime_obj,'close']\n",
    "put_price"
   ]
  }
 ],
 "metadata": {
  "kernelspec": {
   "display_name": "Python 3",
   "language": "python",
   "name": "python3"
  },
  "language_info": {
   "codemirror_mode": {
    "name": "ipython",
    "version": 3
   },
   "file_extension": ".py",
   "mimetype": "text/x-python",
   "name": "python",
   "nbconvert_exporter": "python",
   "pygments_lexer": "ipython3",
   "version": "3.10.11"
  },
  "orig_nbformat": 4
 },
 "nbformat": 4,
 "nbformat_minor": 2
}
