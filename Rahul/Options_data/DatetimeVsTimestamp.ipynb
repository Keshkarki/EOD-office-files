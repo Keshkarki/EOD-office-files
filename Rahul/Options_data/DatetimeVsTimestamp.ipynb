{
 "cells": [
  {
   "cell_type": "code",
   "execution_count": 44,
   "metadata": {},
   "outputs": [],
   "source": [
    "import numpy as np\n",
    "import pandas as pd\n",
    "import datetime as dt"
   ]
  },
  {
   "attachments": {},
   "cell_type": "markdown",
   "metadata": {},
   "source": [
    "## imp Notes"
   ]
  },
  {
   "cell_type": "code",
   "execution_count": 56,
   "metadata": {},
   "outputs": [
    {
     "name": "stdout",
     "output_type": "stream",
     "text": [
      "2017-01-13 12:34:56.789000\n",
      "2017-01-13 12:34:56.000789\n"
     ]
    }
   ],
   "source": [
    "import pandas as pd\n",
    "from datetime import datetime\n",
    "\n",
    "# Creating a Timestamp object\n",
    "timestamp = pd.Timestamp('2017-01-13 12:34:56.789')\n",
    "print(timestamp)\n",
    "\n",
    "# Creating a datetime object\n",
    "datetime_obj = datetime(2017, 1, 13, 12, 34, 56, 789)\n",
    "print(datetime_obj)"
   ]
  },
  {
   "cell_type": "code",
   "execution_count": 57,
   "metadata": {},
   "outputs": [
    {
     "name": "stdout",
     "output_type": "stream",
     "text": [
      "2017-01-13 12:34:56.789000\n",
      "2017-01-13 12:34:56.789000\n"
     ]
    }
   ],
   "source": [
    "import pandas as pd\n",
    "from datetime import datetime\n",
    "\n",
    "# Parsing a string to a Timestamp object\n",
    "timestamp = pd.to_datetime('2017-01-13 12:34:56.789')\n",
    "print(timestamp)\n",
    "\n",
    "# Parsing a string to a datetime object\n",
    "datetime_obj = datetime.strptime('2017-01-13 12:34:56.789', '%Y-%m-%d %H:%M:%S.%f')\n",
    "print(datetime_obj)\n"
   ]
  },
  {
   "cell_type": "code",
   "execution_count": 58,
   "metadata": {},
   "outputs": [
    {
     "name": "stdout",
     "output_type": "stream",
     "text": [
      "2017-01-13\n",
      "2017-01-13\n"
     ]
    }
   ],
   "source": [
    "import pandas as pd\n",
    "from datetime import datetime\n",
    "\n",
    "# Extracting the date from a Timestamp object\n",
    "timestamp = pd.Timestamp('2017-01-13 12:34:56.789')\n",
    "date_from_timestamp = timestamp.date()\n",
    "print(date_from_timestamp)\n",
    "\n",
    "# Extracting the date from a datetime object\n",
    "datetime_obj = datetime(2017, 1, 13, 12, 34, 56, 789)\n",
    "date_from_datetime = datetime_obj.date()\n",
    "print(date_from_datetime)\n"
   ]
  },
  {
   "cell_type": "code",
   "execution_count": 59,
   "metadata": {},
   "outputs": [
    {
     "name": "stdout",
     "output_type": "stream",
     "text": [
      "date_column    object\n",
      "dtype: object\n",
      "  date_column date_column_timestamp        date  year date_column_datetime   \n",
      "0  2017-01-13            2017-01-13  2017-01-13  2017           2017-01-13  \\\n",
      "1  2018-02-14            2018-02-14  2018-02-14  2018           2018-02-14   \n",
      "2  2019-03-15            2019-03-15  2019-03-15  2019           2019-03-15   \n",
      "\n",
      "      date_dt  year_dt  \n",
      "0  2017-01-13     2017  \n",
      "1  2018-02-14     2018  \n",
      "2  2019-03-15     2019  \n"
     ]
    }
   ],
   "source": [
    "import pandas as pd\n",
    "\n",
    "# Creating a sample DataFrame with a date column\n",
    "data = {'date_column': ['2017-01-13', '2018-02-14', '2019-03-15']}\n",
    "df = pd.DataFrame(data)\n",
    "\n",
    "# Check the data types of the date_column\n",
    "print(df.dtypes)\n",
    "# Output:\n",
    "# date_column    object\n",
    "# dtype: object\n",
    "\n",
    "# Convert the date_column to Timestamp type\n",
    "df['date_column_timestamp'] = pd.to_datetime(df['date_column'])\n",
    "\n",
    "# Access the date from the Timestamp column\n",
    "df['date'] = df['date_column_timestamp'].dt.date\n",
    "\n",
    "# Access the year from the Timestamp column\n",
    "df['year'] = df['date_column_timestamp'].dt.year\n",
    "\n",
    "# Convert the date_column to datetime type\n",
    "df['date_column_datetime'] = pd.to_datetime(df['date_column'])\n",
    "\n",
    "# Access the date from the datetime column\n",
    "df['date_dt'] = df['date_column_datetime'].dt.date\n",
    "\n",
    "# Access the year from the datetime column\n",
    "df['year_dt'] = df['date_column_datetime'].dt.year\n",
    "\n",
    "# Display the modified DataFrame\n",
    "print(df)\n"
   ]
  },
  {
   "attachments": {},
   "cell_type": "markdown",
   "metadata": {},
   "source": [
    "##  Rough\n"
   ]
  },
  {
   "cell_type": "code",
   "execution_count": 74,
   "metadata": {},
   "outputs": [
    {
     "name": "stdout",
     "output_type": "stream",
     "text": [
      "2017-01-13 00:00:00\n"
     ]
    }
   ],
   "source": [
    "import pandas as pd\n",
    "datetime = pd.to_datetime('2017-01-13')\n",
    "print(datetime)\n"
   ]
  },
  {
   "cell_type": "code",
   "execution_count": 75,
   "metadata": {},
   "outputs": [
    {
     "name": "stdout",
     "output_type": "stream",
     "text": [
      "2017-01-13 00:00:00\n"
     ]
    }
   ],
   "source": [
    "timestamp = pd.Timestamp('2017-01-13')\n",
    "print(timestamp)"
   ]
  },
  {
   "cell_type": "code",
   "execution_count": 76,
   "metadata": {},
   "outputs": [
    {
     "name": "stdout",
     "output_type": "stream",
     "text": [
      "2017-01-13\n"
     ]
    }
   ],
   "source": [
    "print(timestamp.date())"
   ]
  },
  {
   "cell_type": "code",
   "execution_count": 79,
   "metadata": {},
   "outputs": [
    {
     "name": "stdout",
     "output_type": "stream",
     "text": [
      "   year  month  day\n",
      "0  2015      2    4\n",
      "1  2016      3    5\n"
     ]
    },
    {
     "data": {
      "text/plain": [
       "0   2015-02-04\n",
       "1   2016-03-05\n",
       "dtype: datetime64[ns]"
      ]
     },
     "execution_count": 79,
     "metadata": {},
     "output_type": "execute_result"
    }
   ],
   "source": [
    "df = pd.DataFrame({'year': [2015, 2016],\n",
    "                   'month': [2, 3],\n",
    "                   'day': [4, 5]})\n",
    "print(df)                   \n",
    "pd.to_datetime(df)"
   ]
  },
  {
   "attachments": {},
   "cell_type": "markdown",
   "metadata": {},
   "source": [
    "## format and strftime\n"
   ]
  },
  {
   "cell_type": "code",
   "execution_count": 93,
   "metadata": {},
   "outputs": [
    {
     "name": "stdout",
     "output_type": "stream",
     "text": [
      "           date\n",
      "0  18-august-09\n",
      "1   19-march-02\n"
     ]
    }
   ],
   "source": [
    "df = pd.DataFrame({'date': ['18-august-09','19-march-02']})\n",
    "print(df)\n",
    "\n",
    "a = pd.to_datetime(df['date'],format='%y-%B-%d')"
   ]
  },
  {
   "cell_type": "code",
   "execution_count": 94,
   "metadata": {},
   "outputs": [
    {
     "name": "stdout",
     "output_type": "stream",
     "text": [
      "Original DataFrame:\n",
      "           date\n",
      "0  18-august-09\n",
      "1   19-march-02\n",
      "\n",
      "Modified DataFrame:\n",
      "         date\n",
      "0  2018-08-09\n",
      "1  2019-03-02\n"
     ]
    }
   ],
   "source": [
    "import pandas as pd\n",
    "\n",
    "df = pd.DataFrame({'date': ['18-august-09', '19-march-02']})\n",
    "print(\"Original DataFrame:\")\n",
    "print(df)\n",
    "\n",
    "df['date'] = pd.to_datetime(df['date'], format='%y-%B-%d')\n",
    "df['date'] = df['date'].dt.strftime('%Y-%m-%d')\n",
    "\n",
    "print(\"\\nModified DataFrame:\")\n",
    "print(df)\n"
   ]
  },
  {
   "cell_type": "code",
   "execution_count": null,
   "metadata": {},
   "outputs": [],
   "source": []
  }
 ],
 "metadata": {
  "kernelspec": {
   "display_name": "Python 3",
   "language": "python",
   "name": "python3"
  },
  "language_info": {
   "codemirror_mode": {
    "name": "ipython",
    "version": 3
   },
   "file_extension": ".py",
   "mimetype": "text/x-python",
   "name": "python",
   "nbconvert_exporter": "python",
   "pygments_lexer": "ipython3",
   "version": "3.10.11"
  },
  "orig_nbformat": 4
 },
 "nbformat": 4,
 "nbformat_minor": 2
}
