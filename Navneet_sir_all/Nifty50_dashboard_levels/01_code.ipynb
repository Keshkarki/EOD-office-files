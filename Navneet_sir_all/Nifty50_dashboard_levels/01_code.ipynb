{
 "cells": [
  {
   "cell_type": "code",
   "execution_count": 19,
   "metadata": {},
   "outputs": [],
   "source": [
    "import numpy as np\n",
    "import pandas as pd\n",
    "import os"
   ]
  },
  {
   "cell_type": "code",
   "execution_count": 20,
   "metadata": {},
   "outputs": [
    {
     "data": {
      "text/html": [
       "<div>\n",
       "<style scoped>\n",
       "    .dataframe tbody tr th:only-of-type {\n",
       "        vertical-align: middle;\n",
       "    }\n",
       "\n",
       "    .dataframe tbody tr th {\n",
       "        vertical-align: top;\n",
       "    }\n",
       "\n",
       "    .dataframe thead th {\n",
       "        text-align: right;\n",
       "    }\n",
       "</style>\n",
       "<table border=\"1\" class=\"dataframe\">\n",
       "  <thead>\n",
       "    <tr style=\"text-align: right;\">\n",
       "      <th></th>\n",
       "      <th>company</th>\n",
       "      <th>niftyPrice</th>\n",
       "    </tr>\n",
       "    <tr>\n",
       "      <th>Date</th>\n",
       "      <th></th>\n",
       "      <th></th>\n",
       "    </tr>\n",
       "  </thead>\n",
       "  <tbody>\n",
       "    <tr>\n",
       "      <th>2012-01-03</th>\n",
       "      <td>nifty50</td>\n",
       "      <td>4765.299805</td>\n",
       "    </tr>\n",
       "    <tr>\n",
       "      <th>2012-01-04</th>\n",
       "      <td>nifty50</td>\n",
       "      <td>4749.649902</td>\n",
       "    </tr>\n",
       "    <tr>\n",
       "      <th>2012-01-05</th>\n",
       "      <td>nifty50</td>\n",
       "      <td>4749.950195</td>\n",
       "    </tr>\n",
       "    <tr>\n",
       "      <th>2012-01-06</th>\n",
       "      <td>nifty50</td>\n",
       "      <td>4754.100098</td>\n",
       "    </tr>\n",
       "    <tr>\n",
       "      <th>2012-01-09</th>\n",
       "      <td>nifty50</td>\n",
       "      <td>4742.799805</td>\n",
       "    </tr>\n",
       "    <tr>\n",
       "      <th>...</th>\n",
       "      <td>...</td>\n",
       "      <td>...</td>\n",
       "    </tr>\n",
       "    <tr>\n",
       "      <th>2023-04-26</th>\n",
       "      <td>nifty50</td>\n",
       "      <td>17813.599609</td>\n",
       "    </tr>\n",
       "    <tr>\n",
       "      <th>2023-04-27</th>\n",
       "      <td>nifty50</td>\n",
       "      <td>17915.050781</td>\n",
       "    </tr>\n",
       "    <tr>\n",
       "      <th>2023-04-28</th>\n",
       "      <td>nifty50</td>\n",
       "      <td>18065.000000</td>\n",
       "    </tr>\n",
       "    <tr>\n",
       "      <th>2023-05-02</th>\n",
       "      <td>nifty50</td>\n",
       "      <td>18147.650391</td>\n",
       "    </tr>\n",
       "    <tr>\n",
       "      <th>2023-05-03</th>\n",
       "      <td>nifty50</td>\n",
       "      <td>18089.849609</td>\n",
       "    </tr>\n",
       "  </tbody>\n",
       "</table>\n",
       "<p>2778 rows × 2 columns</p>\n",
       "</div>"
      ],
      "text/plain": [
       "            company    niftyPrice\n",
       "Date                             \n",
       "2012-01-03  nifty50   4765.299805\n",
       "2012-01-04  nifty50   4749.649902\n",
       "2012-01-05  nifty50   4749.950195\n",
       "2012-01-06  nifty50   4754.100098\n",
       "2012-01-09  nifty50   4742.799805\n",
       "...             ...           ...\n",
       "2023-04-26  nifty50  17813.599609\n",
       "2023-04-27  nifty50  17915.050781\n",
       "2023-04-28  nifty50  18065.000000\n",
       "2023-05-02  nifty50  18147.650391\n",
       "2023-05-03  nifty50  18089.849609\n",
       "\n",
       "[2778 rows x 2 columns]"
      ]
     },
     "execution_count": 20,
     "metadata": {},
     "output_type": "execute_result"
    }
   ],
   "source": [
    "niftySingle = pd.read_csv('niftySingle.csv', usecols=['Date', 'Close'], index_col='Date')\n",
    "niftySingle.rename(columns={'Close' : 'niftyPrice'},inplace=True)\n",
    "niftySingle.insert(0,'company', 'nifty50')\n",
    "niftySingle"
   ]
  },
  {
   "attachments": {},
   "cell_type": "markdown",
   "metadata": {},
   "source": [
    "## listing all companies"
   ]
  },
  {
   "cell_type": "code",
   "execution_count": 3,
   "metadata": {},
   "outputs": [
    {
     "data": {
      "text/plain": [
       "['ADANIENT.NS.csv',\n",
       " 'ADANIPORTS.NS.csv',\n",
       " 'APOLLOHOSP.NS.csv',\n",
       " 'ASIANPAINT.NS.csv',\n",
       " 'AXISBANK.NS.csv',\n",
       " 'BAJAJ-AUTO.NS.csv',\n",
       " 'BAJAJFINSV.NS.csv',\n",
       " 'BAJFINANCE.NS.csv',\n",
       " 'BHARTIARTL.NS.csv',\n",
       " 'BPCL.NS.csv',\n",
       " 'BRITANNIA.NS.csv',\n",
       " 'CIPLA.NS.csv',\n",
       " 'COALINDIA.NS.csv',\n",
       " 'DIVISLAB.NS.csv',\n",
       " 'DRREDDY.NS.csv',\n",
       " 'EICHERMOT.NS.csv',\n",
       " 'GRASIM.NS.csv',\n",
       " 'HCLTECH.NS.csv',\n",
       " 'HDFC.NS.csv',\n",
       " 'HDFCBANK.NS.csv',\n",
       " 'HDFCLIFE.NS.csv',\n",
       " 'HEROMOTOCO.NS.csv',\n",
       " 'HINDALCO.NS.csv',\n",
       " 'HINDUNILVR.NS.csv',\n",
       " 'ICICIBANK.NS.csv',\n",
       " 'INDUSINDBK.NS.csv',\n",
       " 'INFY.NS.csv',\n",
       " 'ITC.NS.csv',\n",
       " 'JSWSTEEL.NS.csv',\n",
       " 'KOTAKBANK.NS.csv',\n",
       " 'LT.NS.csv',\n",
       " 'M&M.NS.csv',\n",
       " 'MARUTI.NS.csv',\n",
       " 'NESTLEIND.NS.csv',\n",
       " 'NTPC.NS.csv',\n",
       " 'ONGC.NS.csv',\n",
       " 'POWERGRID.NS.csv',\n",
       " 'RELIANCE.NS.csv',\n",
       " 'SBILIFE.NS.csv',\n",
       " 'SBIN.NS.csv',\n",
       " 'SUNPHARMA.NS.csv',\n",
       " 'TATACONSUM.NS.csv',\n",
       " 'TATAMOTORS.NS.csv',\n",
       " 'TATASTEEL.NS.csv',\n",
       " 'TCS.NS.csv',\n",
       " 'TECHM.NS.csv',\n",
       " 'TITAN.NS.csv',\n",
       " 'ULTRACEMCO.NS.csv',\n",
       " 'UPL.NS.csv',\n",
       " 'WIPRO.NS.csv']"
      ]
     },
     "execution_count": 3,
     "metadata": {},
     "output_type": "execute_result"
    }
   ],
   "source": [
    "list_of_companies = os.listdir('C:\\\\keshav\\\\Navneet_sir_all\\\\Nifty50_dashboard_levels\\\\Nifty50_Data')\n",
    "list_of_companies"
   ]
  },
  {
   "cell_type": "code",
   "execution_count": 8,
   "metadata": {},
   "outputs": [
    {
     "data": {
      "text/plain": [
       "20"
      ]
     },
     "execution_count": 8,
     "metadata": {},
     "output_type": "execute_result"
    }
   ],
   "source": [
    "list_of_companies.index('HDFCLIFE.NS.csv')"
   ]
  },
  {
   "cell_type": "code",
   "execution_count": 9,
   "metadata": {},
   "outputs": [
    {
     "data": {
      "text/plain": [
       "'HDFCLIFE.NS.csv'"
      ]
     },
     "execution_count": 9,
     "metadata": {},
     "output_type": "execute_result"
    }
   ],
   "source": [
    "list_of_companies[20]"
   ]
  },
  {
   "attachments": {},
   "cell_type": "markdown",
   "metadata": {},
   "source": [
    "## setting up one comapny"
   ]
  },
  {
   "cell_type": "code",
   "execution_count": 25,
   "metadata": {},
   "outputs": [],
   "source": [
    "df = pd.read_csv(f'C:\\\\keshav\\\\Navneet_sir_all\\\\Nifty50_dashboard_levels\\\\Nifty50_Data\\\\{list_of_companies[20]}', usecols=['Date','Close'], index_col = 'Date')\n",
    "df.rename(columns={'Close' : 'price'}, inplace=True)\n",
    "company_name = f\"{list_of_companies[20].split('.')[0]}\"\n",
    "df.insert(0,'company',company_name)"
   ]
  },
  {
   "attachments": {},
   "cell_type": "markdown",
   "metadata": {},
   "source": [
    "## merging with nifty50"
   ]
  },
  {
   "cell_type": "code",
   "execution_count": 26,
   "metadata": {},
   "outputs": [],
   "source": [
    "dff = pd.merge(niftySingle,df,left_index=True, right_index=True)"
   ]
  },
  {
   "attachments": {},
   "cell_type": "markdown",
   "metadata": {},
   "source": [
    "##  calculating --Ratio, Mean, SD"
   ]
  },
  {
   "cell_type": "code",
   "execution_count": 27,
   "metadata": {},
   "outputs": [
    {
     "data": {
      "text/html": [
       "<div>\n",
       "<style scoped>\n",
       "    .dataframe tbody tr th:only-of-type {\n",
       "        vertical-align: middle;\n",
       "    }\n",
       "\n",
       "    .dataframe tbody tr th {\n",
       "        vertical-align: top;\n",
       "    }\n",
       "\n",
       "    .dataframe thead th {\n",
       "        text-align: right;\n",
       "    }\n",
       "</style>\n",
       "<table border=\"1\" class=\"dataframe\">\n",
       "  <thead>\n",
       "    <tr style=\"text-align: right;\">\n",
       "      <th></th>\n",
       "      <th>company_x</th>\n",
       "      <th>niftyPrice</th>\n",
       "      <th>company_y</th>\n",
       "      <th>price</th>\n",
       "      <th>ratio</th>\n",
       "      <th>mean</th>\n",
       "      <th>std</th>\n",
       "    </tr>\n",
       "    <tr>\n",
       "      <th>Date</th>\n",
       "      <th></th>\n",
       "      <th></th>\n",
       "      <th></th>\n",
       "      <th></th>\n",
       "      <th></th>\n",
       "      <th></th>\n",
       "      <th></th>\n",
       "    </tr>\n",
       "  </thead>\n",
       "  <tbody>\n",
       "    <tr>\n",
       "      <th>2017-11-17</th>\n",
       "      <td>nifty50</td>\n",
       "      <td>10283.599609</td>\n",
       "      <td>HDFCLIFE</td>\n",
       "      <td>344.600006</td>\n",
       "      <td>29.842134</td>\n",
       "      <td>25.131325</td>\n",
       "      <td>4.789898</td>\n",
       "    </tr>\n",
       "    <tr>\n",
       "      <th>2017-11-20</th>\n",
       "      <td>nifty50</td>\n",
       "      <td>10298.750000</td>\n",
       "      <td>HDFCLIFE</td>\n",
       "      <td>355.350006</td>\n",
       "      <td>28.981989</td>\n",
       "      <td>25.131325</td>\n",
       "      <td>4.789898</td>\n",
       "    </tr>\n",
       "    <tr>\n",
       "      <th>2017-11-21</th>\n",
       "      <td>nifty50</td>\n",
       "      <td>10326.900391</td>\n",
       "      <td>HDFCLIFE</td>\n",
       "      <td>385.299988</td>\n",
       "      <td>26.802234</td>\n",
       "      <td>25.131325</td>\n",
       "      <td>4.789898</td>\n",
       "    </tr>\n",
       "    <tr>\n",
       "      <th>2017-11-22</th>\n",
       "      <td>nifty50</td>\n",
       "      <td>10342.299805</td>\n",
       "      <td>HDFCLIFE</td>\n",
       "      <td>395.200012</td>\n",
       "      <td>26.169786</td>\n",
       "      <td>25.131325</td>\n",
       "      <td>4.789898</td>\n",
       "    </tr>\n",
       "    <tr>\n",
       "      <th>2017-11-23</th>\n",
       "      <td>nifty50</td>\n",
       "      <td>10348.750000</td>\n",
       "      <td>HDFCLIFE</td>\n",
       "      <td>374.850006</td>\n",
       "      <td>27.607709</td>\n",
       "      <td>25.131325</td>\n",
       "      <td>4.789898</td>\n",
       "    </tr>\n",
       "    <tr>\n",
       "      <th>...</th>\n",
       "      <td>...</td>\n",
       "      <td>...</td>\n",
       "      <td>...</td>\n",
       "      <td>...</td>\n",
       "      <td>...</td>\n",
       "      <td>...</td>\n",
       "      <td>...</td>\n",
       "    </tr>\n",
       "    <tr>\n",
       "      <th>2023-04-25</th>\n",
       "      <td>nifty50</td>\n",
       "      <td>17769.250000</td>\n",
       "      <td>HDFCLIFE</td>\n",
       "      <td>529.750000</td>\n",
       "      <td>33.542709</td>\n",
       "      <td>25.131325</td>\n",
       "      <td>4.789898</td>\n",
       "    </tr>\n",
       "    <tr>\n",
       "      <th>2023-04-26</th>\n",
       "      <td>nifty50</td>\n",
       "      <td>17813.599609</td>\n",
       "      <td>HDFCLIFE</td>\n",
       "      <td>531.599976</td>\n",
       "      <td>33.509406</td>\n",
       "      <td>25.131325</td>\n",
       "      <td>4.789898</td>\n",
       "    </tr>\n",
       "    <tr>\n",
       "      <th>2023-04-27</th>\n",
       "      <td>nifty50</td>\n",
       "      <td>17915.050781</td>\n",
       "      <td>HDFCLIFE</td>\n",
       "      <td>517.849976</td>\n",
       "      <td>34.595060</td>\n",
       "      <td>25.131325</td>\n",
       "      <td>4.789898</td>\n",
       "    </tr>\n",
       "    <tr>\n",
       "      <th>2023-04-28</th>\n",
       "      <td>nifty50</td>\n",
       "      <td>18065.000000</td>\n",
       "      <td>HDFCLIFE</td>\n",
       "      <td>529.750000</td>\n",
       "      <td>34.100991</td>\n",
       "      <td>25.131325</td>\n",
       "      <td>4.789898</td>\n",
       "    </tr>\n",
       "    <tr>\n",
       "      <th>2023-05-02</th>\n",
       "      <td>nifty50</td>\n",
       "      <td>18147.650391</td>\n",
       "      <td>HDFCLIFE</td>\n",
       "      <td>532.200012</td>\n",
       "      <td>34.099305</td>\n",
       "      <td>25.131325</td>\n",
       "      <td>4.789898</td>\n",
       "    </tr>\n",
       "  </tbody>\n",
       "</table>\n",
       "<p>1342 rows × 7 columns</p>\n",
       "</div>"
      ],
      "text/plain": [
       "           company_x    niftyPrice company_y       price      ratio   \n",
       "Date                                                                  \n",
       "2017-11-17   nifty50  10283.599609  HDFCLIFE  344.600006  29.842134  \\\n",
       "2017-11-20   nifty50  10298.750000  HDFCLIFE  355.350006  28.981989   \n",
       "2017-11-21   nifty50  10326.900391  HDFCLIFE  385.299988  26.802234   \n",
       "2017-11-22   nifty50  10342.299805  HDFCLIFE  395.200012  26.169786   \n",
       "2017-11-23   nifty50  10348.750000  HDFCLIFE  374.850006  27.607709   \n",
       "...              ...           ...       ...         ...        ...   \n",
       "2023-04-25   nifty50  17769.250000  HDFCLIFE  529.750000  33.542709   \n",
       "2023-04-26   nifty50  17813.599609  HDFCLIFE  531.599976  33.509406   \n",
       "2023-04-27   nifty50  17915.050781  HDFCLIFE  517.849976  34.595060   \n",
       "2023-04-28   nifty50  18065.000000  HDFCLIFE  529.750000  34.100991   \n",
       "2023-05-02   nifty50  18147.650391  HDFCLIFE  532.200012  34.099305   \n",
       "\n",
       "                 mean       std  \n",
       "Date                             \n",
       "2017-11-17  25.131325  4.789898  \n",
       "2017-11-20  25.131325  4.789898  \n",
       "2017-11-21  25.131325  4.789898  \n",
       "2017-11-22  25.131325  4.789898  \n",
       "2017-11-23  25.131325  4.789898  \n",
       "...               ...       ...  \n",
       "2023-04-25  25.131325  4.789898  \n",
       "2023-04-26  25.131325  4.789898  \n",
       "2023-04-27  25.131325  4.789898  \n",
       "2023-04-28  25.131325  4.789898  \n",
       "2023-05-02  25.131325  4.789898  \n",
       "\n",
       "[1342 rows x 7 columns]"
      ]
     },
     "execution_count": 27,
     "metadata": {},
     "output_type": "execute_result"
    }
   ],
   "source": [
    "dff['ratio'] = dff['niftyPrice']/dff['price']\n",
    "dff['mean'] = dff['ratio'].mean()\n",
    "dff['std'] = dff['ratio'].std()\n",
    "dff"
   ]
  },
  {
   "cell_type": "code",
   "execution_count": null,
   "metadata": {},
   "outputs": [],
   "source": []
  }
 ],
 "metadata": {
  "kernelspec": {
   "display_name": "Python 3",
   "language": "python",
   "name": "python3"
  },
  "language_info": {
   "codemirror_mode": {
    "name": "ipython",
    "version": 3
   },
   "file_extension": ".py",
   "mimetype": "text/x-python",
   "name": "python",
   "nbconvert_exporter": "python",
   "pygments_lexer": "ipython3",
   "version": "3.10.11"
  },
  "orig_nbformat": 4
 },
 "nbformat": 4,
 "nbformat_minor": 2
}
